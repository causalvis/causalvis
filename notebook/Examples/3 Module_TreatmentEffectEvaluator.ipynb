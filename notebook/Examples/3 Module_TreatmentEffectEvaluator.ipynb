{
 "cells": [
  {
   "cell_type": "code",
   "execution_count": 1,
   "id": "6ca9a5e2-01e6-485c-81b7-75e0fd12b066",
   "metadata": {},
   "outputs": [],
   "source": [
    "import json"
   ]
  },
  {
   "cell_type": "markdown",
   "id": "c9e2c2ee-944a-4b74-ab26-0794ca0447e5",
   "metadata": {},
   "source": [
    "# The Treatment Effect Evaluator Module\n",
    "\n",
    "For certain causal inference methods, such as matching, it may be useful to view the distribution of individual treatment effects conditioned on other covariates. This can be done using the TreatmentEffect module, which visualizes individual treatment effects conditioned by up to three covariates.\n",
    "\n",
    "In this example, we use the same dataset from the [UCI Bank Marketing](https://archive.ics.uci.edu/ml/datasets/Bank+Marketing) study. An additional column, called `effect` has been added for each data instance. Note that causalvis does not automatically calculate these individual treatment effects. Another library, such as causallib, should be used to obtain these values."
   ]
  },
  {
   "cell_type": "markdown",
   "id": "acc8e0eb-a668-4bdb-80af-19afa2c76412",
   "metadata": {},
   "source": [
    "### Prepare Data\n",
    "\n",
    "The `TreatmentEffectEvaluator` module expects data in the form of a `List` of `[{instance_1}, {instance_2}, ...]`, where each data instance is represented by a `Dict` of relevant attributes such that:\n",
    "\n",
    "<pre>\n",
    "{confound1: x1,\n",
    " confound2: x2,\n",
    " ...,\n",
    " treatment: 0 or 1,\n",
    " outcome: y1,\n",
    " effect: e1,\n",
    "}</pre>"
   ]
  },
  {
   "cell_type": "code",
   "execution_count": 2,
   "id": "3e002f1c-2b8f-4cd1-89e5-bd335d826619",
   "metadata": {},
   "outputs": [],
   "source": [
    "files = ['../../public/cohort2_outcome.json', '../../public/cohort2_confounds.json', '../../public/cohort2_treatment.json', '../../public/cohort2_propensity.json']\n",
    "\n",
    "with open('../../public/cohort2_outcome.json', 'r') as f:\n",
    "    outcome2 = json.load(f)\n",
    "\n",
    "with open('../../public/cohort2_propensity.json', 'r') as f:\n",
    "    propensity2 = json.load(f)\n",
    "    \n",
    "with open('../../public/cohort2_confounds.json', 'r') as f:\n",
    "    confounds2 = json.load(f)\n",
    "    \n",
    "with open('../../public/cohort2_treatment.json', 'r') as f:\n",
    "    treatment2 = json.load(f)\n",
    "    \n",
    "with open('../../public/individual_treatment_effect.json', 'r') as f:\n",
    "    individualEffects2 = json.load(f)"
   ]
  },
  {
   "cell_type": "code",
   "execution_count": 3,
   "id": "fbe379e1-19d0-47e0-97ff-88e6e635f22b",
   "metadata": {},
   "outputs": [],
   "source": [
    "data = []\n",
    "\n",
    "for i in range(len(confounds2)):\n",
    "    newDataInstance2 = confounds2[i]\n",
    "    newDataInstance2['treatment'] = treatment2[i]\n",
    "    newDataInstance2['outcome'] = outcome2[i]\n",
    "    newDataInstance2['effect'] = individualEffects2[i][\"('ratio', 0)\"];\n",
    "    data.append(newDataInstance2)"
   ]
  },
  {
   "cell_type": "markdown",
   "id": "514c7a7b-6167-4bf7-9c61-a691a5343732",
   "metadata": {},
   "source": [
    "### Subgroups and Heterogenous Treatment Effects\n",
    "\n",
    "The TreatmentEffectEvaluator can be used to identify heterogenous treatment effects in the subgroups. Clicking on an attribute name on the left will facet the visualization by that attribute. Up to three attributes can be selected.\n",
    "\n",
    "Task: 1) Identify an attribute for which certain subgroups likely have **different average treatment effects.**"
   ]
  },
  {
   "cell_type": "code",
   "execution_count": 4,
   "id": "e267ec59-31d2-4edd-bfd0-bcab110a23a7",
   "metadata": {},
   "outputs": [
    {
     "data": {
      "application/vnd.jupyter.widget-view+json": {
       "model_id": "0d803dd0348c401a9f658aafc761bd81",
       "version_major": 2,
       "version_minor": 0
      },
      "text/plain": [
       "TreatmentEffectEvaluator(component='TreatmentEffectEvaluator', props={'data': [{'age': 31, 'pdays': 999, 'prev…"
      ]
     },
     "metadata": {},
     "output_type": "display_data"
    }
   ],
   "source": [
    "from causalvis import TreatmentEffectEvaluator\n",
    "\n",
    "TreatmentEffectEvaluator(data=data)"
   ]
  },
  {
   "cell_type": "code",
   "execution_count": null,
   "id": "bf36882d-3bc2-49cc-aef7-a0f43656ce93",
   "metadata": {},
   "outputs": [],
   "source": []
  }
 ],
 "metadata": {
  "kernelspec": {
   "display_name": "Python 3 (ipykernel)",
   "language": "python",
   "name": "python3"
  },
  "language_info": {
   "codemirror_mode": {
    "name": "ipython",
    "version": 3
   },
   "file_extension": ".py",
   "mimetype": "text/x-python",
   "name": "python",
   "nbconvert_exporter": "python",
   "pygments_lexer": "ipython3",
   "version": "3.8.13"
  }
 },
 "nbformat": 4,
 "nbformat_minor": 5
}
