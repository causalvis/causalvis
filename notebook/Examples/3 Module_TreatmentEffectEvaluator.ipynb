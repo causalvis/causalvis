{
 "cells": [
  {
   "cell_type": "code",
   "execution_count": 1,
   "id": "6ca9a5e2-01e6-485c-81b7-75e0fd12b066",
   "metadata": {},
   "outputs": [],
   "source": [
    "import json"
   ]
  },
  {
   "cell_type": "markdown",
   "id": "c9e2c2ee-944a-4b74-ab26-0794ca0447e5",
   "metadata": {},
   "source": [
    "# The Treatment Effect Evaluator Module\n",
    "\n",
    "For certain causal inference methods, such as matching, it may be useful to view the distribution of individual treatment effects conditioned on other covariates. This can be done using the TreatmentEffect module, which visualizes individual treatment effects conditioned by up to three covariates.\n",
    "\n",
    "In this example, we use the same dataset from the [UCI Student Performance dataset](https://archive.ics.uci.edu/ml/datasets/Student+Performance) study. An additional column, called `effect` has been added for each data instance. Note that causalvis does not automatically calculate these individual treatment effects. Another library, such as causallib, should be used to obtain these values."
   ]
  },
  {
   "cell_type": "markdown",
   "id": "acc8e0eb-a668-4bdb-80af-19afa2c76412",
   "metadata": {},
   "source": [
    "### Prepare Data\n",
    "\n",
    "The `TreatmentEffectEvaluator` module expects data in the form of a `List` of `[{instance_1}, {instance_2}, ...]`, where each data instance is represented by a `Dict` of relevant attributes such that:\n",
    "\n",
    "<pre>\n",
    "{confound1: x1,\n",
    " confound2: x2,\n",
    " ...,\n",
    " treatment: 0 or 1,\n",
    " outcome: y1,\n",
    " effect: e1,\n",
    "}</pre>"
   ]
  },
  {
   "cell_type": "code",
   "execution_count": 2,
   "id": "3e002f1c-2b8f-4cd1-89e5-bd335d826619",
   "metadata": {},
   "outputs": [],
   "source": [
    "with open('../../public/te_test_3.json', 'r') as f:\n",
    "    data = json.load(f)"
   ]
  },
  {
   "cell_type": "markdown",
   "id": "514c7a7b-6167-4bf7-9c61-a691a5343732",
   "metadata": {},
   "source": [
    "### Subgroups and Heterogenous Treatment Effects\n",
    "\n",
    "The TreatmentEffectEvaluator can be used to identify heterogenous treatment effects in the subgroups. Clicking on an attribute name on the left will facet the visualization by that attribute. Up to three attributes can be selected.\n",
    "\n",
    "Task:\n",
    "\n",
    "1) Identify an attribute for which certain subgroups likely have **different average treatment effects.**"
   ]
  },
  {
   "cell_type": "code",
   "execution_count": 3,
   "id": "e267ec59-31d2-4edd-bfd0-bcab110a23a7",
   "metadata": {},
   "outputs": [
    {
     "data": {
      "application/vnd.jupyter.widget-view+json": {
       "model_id": "76f4aa02bd734098baf76e812fc3dadd",
       "version_major": 2,
       "version_minor": 0
      },
      "text/plain": [
       "TreatmentEffectEvaluator(component='TreatmentEffectEvaluator', props={'data': [{'failures': 0, 'studytime': 2,…"
      ]
     },
     "metadata": {},
     "output_type": "display_data"
    }
   ],
   "source": [
    "from causalvis import TreatmentEffectEvaluator\n",
    "\n",
    "TreatmentEffectEvaluator(data=data)"
   ]
  },
  {
   "cell_type": "code",
   "execution_count": null,
   "id": "f8e90044-4343-404f-b419-2a3f52134129",
   "metadata": {},
   "outputs": [],
   "source": []
  }
 ],
 "metadata": {
  "kernelspec": {
   "display_name": "Python 3 (ipykernel)",
   "language": "python",
   "name": "python3"
  },
  "language_info": {
   "codemirror_mode": {
    "name": "ipython",
    "version": 3
   },
   "file_extension": ".py",
   "mimetype": "text/x-python",
   "name": "python",
   "nbconvert_exporter": "python",
   "pygments_lexer": "ipython3",
   "version": "3.8.13"
  }
 },
 "nbformat": 4,
 "nbformat_minor": 5
}
