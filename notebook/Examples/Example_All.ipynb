{
 "cells": [
  {
   "cell_type": "code",
   "execution_count": 1,
   "id": "e99aa19a-e291-4c5e-bdf9-b633b215e236",
   "metadata": {},
   "outputs": [],
   "source": [
    "from causalvis import VersionHistory"
   ]
  },
  {
   "cell_type": "code",
   "execution_count": 2,
   "id": "4c960e62-4928-496b-86b4-10cc6b59fbe6",
   "metadata": {},
   "outputs": [],
   "source": [
    "vh = VersionHistory()"
   ]
  },
  {
   "cell_type": "code",
   "execution_count": 3,
   "id": "c0387f52-2d84-459d-8dd1-1b3087aa7187",
   "metadata": {},
   "outputs": [
    {
     "data": {
      "application/vnd.jupyter.widget-view+json": {
       "model_id": "ae9dac2f45f64f26ad56bda5a5dd3dad",
       "version_major": 2,
       "version_minor": 0
      },
      "text/plain": [
       "VersionHistory(component='VersionHistory', props={'versions': []})"
      ]
     },
     "metadata": {},
     "output_type": "display_data"
    }
   ],
   "source": [
    "vh"
   ]
  },
  {
   "cell_type": "markdown",
   "id": "c2ed7953-9066-41c2-b5f1-73bab89d9dab",
   "metadata": {
    "tags": []
   },
   "source": [
    "# DAG"
   ]
  },
  {
   "cell_type": "code",
   "execution_count": 4,
   "id": "19d728b0",
   "metadata": {},
   "outputs": [],
   "source": [
    "from causalvis import DAG"
   ]
  },
  {
   "cell_type": "code",
   "execution_count": 5,
   "id": "cea5f431",
   "metadata": {},
   "outputs": [],
   "source": [
    "dg = DAG(attributes=[\"b\", \"a\"])"
   ]
  },
  {
   "cell_type": "code",
   "execution_count": 6,
   "id": "cc8ed8b6-afe9-46de-85be-0015567da81c",
   "metadata": {
    "tags": []
   },
   "outputs": [
    {
     "data": {
      "application/vnd.jupyter.widget-view+json": {
       "model_id": "cd2476ea52d04705a27ab6169057e44a",
       "version_major": 2,
       "version_minor": 0
      },
      "text/plain": [
       "DAG(component='DAG', props={'attributes': ['a', 'b'], 'graph': None})"
      ]
     },
     "metadata": {},
     "output_type": "display_data"
    }
   ],
   "source": [
    "dg"
   ]
  },
  {
   "cell_type": "code",
   "execution_count": 7,
   "id": "2ba21545-40e3-4da2-902a-e02ebfdf10f5",
   "metadata": {},
   "outputs": [
    {
     "data": {
      "text/plain": [
       "{}"
      ]
     },
     "execution_count": 7,
     "metadata": {},
     "output_type": "execute_result"
    }
   ],
   "source": [
    "import json\n",
    "import pandas as pd\n",
    "\n",
    "example_dag = dg.DAG\n",
    "example_dag"
   ]
  },
  {
   "cell_type": "code",
   "execution_count": 8,
   "id": "7b234ad0-9231-4c7d-9a20-3658efb03a7a",
   "metadata": {},
   "outputs": [],
   "source": [
    "df = pd.DataFrame([1, 2, 3, 4, 5])\n",
    "vh.addVersion(({}, df, 3))"
   ]
  },
  {
   "cell_type": "markdown",
   "id": "b1f904a3-7c29-43b1-b40c-5d0aa337342f",
   "metadata": {},
   "source": [
    "# Cohort Evaluator"
   ]
  },
  {
   "cell_type": "code",
   "execution_count": 9,
   "id": "a2751ff3-be1a-441b-9236-0b4db3a584b1",
   "metadata": {},
   "outputs": [],
   "source": [
    "from causalvis import CohortEvaluator"
   ]
  },
  {
   "cell_type": "code",
   "execution_count": 10,
   "id": "a2f532d2-6e6e-4712-b091-4a25b20742d9",
   "metadata": {},
   "outputs": [
    {
     "data": {
      "text/plain": [
       "causalvis.widget.CohortEvaluator"
      ]
     },
     "execution_count": 10,
     "metadata": {},
     "output_type": "execute_result"
    }
   ],
   "source": [
    "CohortEvaluator"
   ]
  },
  {
   "cell_type": "code",
   "execution_count": 11,
   "id": "896f808e-4f7a-40c9-8a37-f7fc18789da2",
   "metadata": {
    "tags": []
   },
   "outputs": [],
   "source": [
    "import json\n",
    "\n",
    "files = ['../../public/cohort_propensity.json', '../../public/cohort_confounds.json', '../../public/cohort_treatment.json']\n",
    "\n",
    "with open('../../public/cohort_propensity.json', 'r') as f:\n",
    "    propensity = json.load(f)\n",
    "    \n",
    "with open('../../public/cohort_confounds.json', 'r') as f:\n",
    "    confounds = json.load(f)\n",
    "    \n",
    "with open('../../public/cohort_treatment.json', 'r') as f:\n",
    "    treatment = json.load(f)"
   ]
  },
  {
   "cell_type": "code",
   "execution_count": 12,
   "id": "fee23069-ba83-455a-845a-d6cac977d9b1",
   "metadata": {},
   "outputs": [],
   "source": [
    "unadjustedData = []\n",
    "\n",
    "for i in range(len(confounds)):\n",
    "    newDataInstance = confounds[i]\n",
    "    newDataInstance['treatment'] = treatment[i]\n",
    "    newDataInstance['propensity'] = propensity[i]\n",
    "    unadjustedData.append(newDataInstance)   "
   ]
  },
  {
   "cell_type": "code",
   "execution_count": 13,
   "id": "341e870f-769c-4e7f-9b18-2d354e03686c",
   "metadata": {},
   "outputs": [
    {
     "data": {
      "application/vnd.jupyter.widget-view+json": {
       "model_id": "0c90bba2018843378e9602b045740be1",
       "version_major": 2,
       "version_minor": 0
      },
      "text/plain": [
       "CohortEvaluator(component='CohortEvaluator', props={'unadjustedCohort': [{'age': 56, 'pdays': 999, 'previous':…"
      ]
     },
     "metadata": {},
     "output_type": "display_data"
    }
   ],
   "source": [
    "CohortEvaluator(unadjustedCohort=unadjustedData)"
   ]
  },
  {
   "cell_type": "markdown",
   "id": "92399599-9c55-4da3-b128-c15dfe88d59d",
   "metadata": {},
   "source": [
    "# Treatment Effect Evaluator"
   ]
  },
  {
   "cell_type": "code",
   "execution_count": 14,
   "id": "91024c7f-3bed-410e-bf79-93e5284b219c",
   "metadata": {},
   "outputs": [],
   "source": [
    "from causalvis import TreatmentEffectEvaluator"
   ]
  },
  {
   "cell_type": "code",
   "execution_count": 15,
   "id": "1cb6b3d3-6c57-4168-b0a8-fe57994ce00c",
   "metadata": {},
   "outputs": [
    {
     "data": {
      "text/plain": [
       "causalvis.widget.TreatmentEffectEvaluator"
      ]
     },
     "execution_count": 15,
     "metadata": {},
     "output_type": "execute_result"
    }
   ],
   "source": [
    "TreatmentEffectEvaluator"
   ]
  },
  {
   "cell_type": "code",
   "execution_count": 16,
   "id": "6c259a49-0d00-4a3e-837c-a8fc747d39b9",
   "metadata": {},
   "outputs": [],
   "source": [
    "import json\n",
    "\n",
    "files = ['../../public/cohort2_outcome.json', '../../public/cohort2_confounds.json', '../../public/cohort2_treatment.json', '../../public/cohort2_propensity.json']\n",
    "\n",
    "with open('../../public/cohort2_outcome.json', 'r') as f:\n",
    "    outcome2 = json.load(f)\n",
    "\n",
    "with open('../../public/cohort2_propensity.json', 'r') as f:\n",
    "    propensity2 = json.load(f)\n",
    "    \n",
    "with open('../../public/cohort2_confounds.json', 'r') as f:\n",
    "    confounds2 = json.load(f)\n",
    "    \n",
    "with open('../../public/cohort2_treatment.json', 'r') as f:\n",
    "    treatment2 = json.load(f)\n",
    "    \n",
    "with open('../../public/individual_treatment_effect.json', 'r') as f:\n",
    "    individualEffects2 = json.load(f)"
   ]
  },
  {
   "cell_type": "code",
   "execution_count": 21,
   "id": "b6caffd9-e554-493a-a202-0c7458fc69a0",
   "metadata": {},
   "outputs": [],
   "source": [
    "data = []\n",
    "\n",
    "for i in range(len(confounds2)):\n",
    "    newDataInstance2 = confounds2[i]\n",
    "    newDataInstance2['treatment'] = treatment2[i]\n",
    "    newDataInstance2['outcome'] = outcome2[i]\n",
    "    newDataInstance2['weight'] = 1/propensity2[i][str(treatment2[i])]\n",
    "    newDataInstance2['effect'] = individualEffects2[i][\"('ratio', 0)\"];\n",
    "    data.append(newDataInstance2)"
   ]
  },
  {
   "cell_type": "code",
   "execution_count": 22,
   "id": "26589d21-6611-47c3-9e2e-1905b96f17d4",
   "metadata": {},
   "outputs": [
    {
     "data": {
      "application/vnd.jupyter.widget-view+json": {
       "model_id": "2eec92bd825941008202dc7a96a8ec18",
       "version_major": 2,
       "version_minor": 0
      },
      "text/plain": [
       "TreatmentEffectEvaluator(component='TreatmentEffectEvaluator', props={'data': [{'age': 31, 'pdays': 999, 'prev…"
      ]
     },
     "metadata": {},
     "output_type": "display_data"
    }
   ],
   "source": [
    "TreatmentEffectEvaluator(data=data)"
   ]
  },
  {
   "cell_type": "markdown",
   "id": "e80f0f66-172f-4e6e-b1b0-fe87de144633",
   "metadata": {},
   "source": [
    "H1: ..."
   ]
  },
  {
   "cell_type": "code",
   "execution_count": null,
   "id": "154e4d51-cadf-4dc9-a756-c9aec05c1292",
   "metadata": {},
   "outputs": [],
   "source": []
  }
 ],
 "metadata": {
  "kernelspec": {
   "display_name": "Python 3 (ipykernel)",
   "language": "python",
   "name": "python3"
  },
  "language_info": {
   "codemirror_mode": {
    "name": "ipython",
    "version": 3
   },
   "file_extension": ".py",
   "mimetype": "text/x-python",
   "name": "python",
   "nbconvert_exporter": "python",
   "pygments_lexer": "ipython3",
   "version": "3.8.13"
  }
 },
 "nbformat": 4,
 "nbformat_minor": 5
}
