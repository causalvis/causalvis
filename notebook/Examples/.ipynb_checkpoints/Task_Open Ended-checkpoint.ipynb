{
 "cells": [
  {
   "cell_type": "code",
   "execution_count": 3,
   "id": "769a65e5-60d1-48fc-88e6-b0599f27626a",
   "metadata": {},
   "outputs": [],
   "source": [
    "from causallib.datasets import data_loader"
   ]
  },
  {
   "cell_type": "code",
   "execution_count": 10,
   "id": "a7db14cd-ea2a-4b24-9933-b4ba22041002",
   "metadata": {},
   "outputs": [],
   "source": [
    "import pandas as pd\n",
    "import numpy as np"
   ]
  },
  {
   "cell_type": "markdown",
   "id": "9fcf4b9e-ec26-48f2-96ae-9e93541e37cb",
   "metadata": {},
   "source": [
    "### Load Data\n",
    "\n",
    "The NHEFS dataset comes from a study in the 1970s and 1980s on the effects of smoking cessation on weight loss."
   ]
  },
  {
   "cell_type": "code",
   "execution_count": 50,
   "id": "48fee34b-d1ba-402f-8ae0-14ef15e7923a",
   "metadata": {},
   "outputs": [],
   "source": [
    "data = data_loader.load_nhefs(raw=False, restrict=True, augment=False, onehot=True)"
   ]
  },
  {
   "cell_type": "markdown",
   "id": "52ae69a5-3955-49db-9d9f-a2d2865a52fa",
   "metadata": {},
   "source": [
    "### Covariates\n",
    "\n",
    "There are 9 covariates in the original NHEFS dataset. One-hot encoding has been performed for categorical variables. Definitions for each covariate can be obtained from [Causal Inference: What If (the book)](https://www.hsph.harvard.edu/miguel-hernan/causal-inference-book/) and are as follows:\n",
    "\n",
    "| covariate | definition |\n",
    "| -: | :- |\n",
    "| age | AGE IN 1971 |\n",
    "| race | 0: WHITE 1: BLACK OR OTHER IN 1971 |\n",
    "| sex | 0: MALE 1: FEMALE |\n",
    "| smokeintensity | NUMBER OF CIGARETTES SMOKED PER DAY IN 1971 |\n",
    "| smokeyrs | YEARS OF SMOKING |\n",
    "| weight1971 | WEIGHT IN KILOGRAMS IN 1971 |\n",
    "| active | IN YOUR USUAL DAY, HOW ACTIVE ARE YOU? IN 1971, 0:very active, 1:moderately active, 2:inactive |\n",
    "| education | AMOUNT OF EDUCATION BY 1971: 1: 8TH GRADE OR LESS, 2: HS DROPOUT, 3: HS, 4:COLLEGE DROPOUT, 5: COLLEGE OR MORE |\n",
    "| exercise | IN RECREATION, HOW MUCH EXERCISE? IN 1971, 0: much exercise, 1: moderate exercise, 2: little or no exercise |"
   ]
  },
  {
   "cell_type": "code",
   "execution_count": 54,
   "id": "442e8e53-529d-4b35-8a0b-6c0e949a8875",
   "metadata": {},
   "outputs": [],
   "source": [
    "df_covariates = data.X\n",
    "df_covariates = df_covariates.rename(columns={'wt71': 'weight1971'})"
   ]
  },
  {
   "cell_type": "code",
   "execution_count": 55,
   "id": "c6d4e1dd-9c13-4985-8bd2-78bc463af287",
   "metadata": {},
   "outputs": [
    {
     "data": {
      "text/plain": [
       "['age',\n",
       " 'race',\n",
       " 'sex',\n",
       " 'smokeintensity',\n",
       " 'smokeyrs',\n",
       " 'weight1971',\n",
       " 'active_1',\n",
       " 'active_2',\n",
       " 'education_2',\n",
       " 'education_3',\n",
       " 'education_4',\n",
       " 'education_5',\n",
       " 'exercise_1',\n",
       " 'exercise_2']"
      ]
     },
     "execution_count": 55,
     "metadata": {},
     "output_type": "execute_result"
    }
   ],
   "source": [
    "covariates = list(df_covariates)\n",
    "covariates"
   ]
  },
  {
   "cell_type": "markdown",
   "id": "34b36d27-903f-4146-8333-6cf8cc79924e",
   "metadata": {},
   "source": [
    "### Treatment and Outcome\n",
    "\n",
    "This dataset contains a binary treatment condition. 0 for not quitting smoking and 1 for quitting smoking.\n",
    "\n",
    "The outcome variable is continuous, and measures the change in weight of each participant relative to their weight in 1971."
   ]
  },
  {
   "cell_type": "code",
   "execution_count": 56,
   "id": "47676c8d-2cd4-4f15-a6c8-403b063795ea",
   "metadata": {},
   "outputs": [],
   "source": [
    "df_treatments = data.a \n",
    "df_outcomes = data.y"
   ]
  },
  {
   "cell_type": "markdown",
   "id": "87fd5196-ec69-4722-996f-fe1a60f0118b",
   "metadata": {},
   "source": [
    "### Task\n",
    "\n",
    "Using the causalvis modules and any other Python library you are familiar with, estimate the average treatment effect of smoking cessation on weight loss."
   ]
  },
  {
   "cell_type": "code",
   "execution_count": null,
   "id": "73f97e3f-8d12-4426-b12d-8aefa2b8ce73",
   "metadata": {},
   "outputs": [],
   "source": []
  }
 ],
 "metadata": {
  "kernelspec": {
   "display_name": "Python 3 (ipykernel)",
   "language": "python",
   "name": "python3"
  },
  "language_info": {
   "codemirror_mode": {
    "name": "ipython",
    "version": 3
   },
   "file_extension": ".py",
   "mimetype": "text/x-python",
   "name": "python",
   "nbconvert_exporter": "python",
   "pygments_lexer": "ipython3",
   "version": "3.8.13"
  }
 },
 "nbformat": 4,
 "nbformat_minor": 5
}
