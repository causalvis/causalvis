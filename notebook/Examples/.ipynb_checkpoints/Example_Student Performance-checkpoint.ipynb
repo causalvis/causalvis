{
 "cells": [
  {
   "cell_type": "code",
   "execution_count": 89,
   "id": "8e59df46-2f6b-44e7-90cb-09a86ab0bd55",
   "metadata": {},
   "outputs": [],
   "source": [
    "import json\n",
    "import pandas as pd"
   ]
  },
  {
   "cell_type": "markdown",
   "id": "d4e39224-00bd-4da8-8b9c-1998b4711418",
   "metadata": {},
   "source": [
    "### Load Data"
   ]
  },
  {
   "cell_type": "code",
   "execution_count": 90,
   "id": "c905cc1c-e35b-4c9f-81f3-c73ec981ff96",
   "metadata": {},
   "outputs": [
    {
     "data": {
      "text/html": [
       "<div>\n",
       "<style scoped>\n",
       "    .dataframe tbody tr th:only-of-type {\n",
       "        vertical-align: middle;\n",
       "    }\n",
       "\n",
       "    .dataframe tbody tr th {\n",
       "        vertical-align: top;\n",
       "    }\n",
       "\n",
       "    .dataframe thead th {\n",
       "        text-align: right;\n",
       "    }\n",
       "</style>\n",
       "<table border=\"1\" class=\"dataframe\">\n",
       "  <thead>\n",
       "    <tr style=\"text-align: right;\">\n",
       "      <th></th>\n",
       "      <th>school</th>\n",
       "      <th>sex</th>\n",
       "      <th>age</th>\n",
       "      <th>address</th>\n",
       "      <th>famsize</th>\n",
       "      <th>Pstatus</th>\n",
       "      <th>Medu</th>\n",
       "      <th>Fedu</th>\n",
       "      <th>Mjob</th>\n",
       "      <th>Fjob</th>\n",
       "      <th>...</th>\n",
       "      <th>famrel</th>\n",
       "      <th>freetime</th>\n",
       "      <th>goout</th>\n",
       "      <th>Dalc</th>\n",
       "      <th>Walc</th>\n",
       "      <th>health</th>\n",
       "      <th>absences</th>\n",
       "      <th>G1</th>\n",
       "      <th>G2</th>\n",
       "      <th>G3</th>\n",
       "    </tr>\n",
       "  </thead>\n",
       "  <tbody>\n",
       "    <tr>\n",
       "      <th>0</th>\n",
       "      <td>GP</td>\n",
       "      <td>F</td>\n",
       "      <td>18</td>\n",
       "      <td>U</td>\n",
       "      <td>GT3</td>\n",
       "      <td>A</td>\n",
       "      <td>4</td>\n",
       "      <td>4</td>\n",
       "      <td>at_home</td>\n",
       "      <td>teacher</td>\n",
       "      <td>...</td>\n",
       "      <td>4</td>\n",
       "      <td>3</td>\n",
       "      <td>4</td>\n",
       "      <td>1</td>\n",
       "      <td>1</td>\n",
       "      <td>3</td>\n",
       "      <td>6</td>\n",
       "      <td>5</td>\n",
       "      <td>6</td>\n",
       "      <td>6</td>\n",
       "    </tr>\n",
       "    <tr>\n",
       "      <th>1</th>\n",
       "      <td>GP</td>\n",
       "      <td>F</td>\n",
       "      <td>17</td>\n",
       "      <td>U</td>\n",
       "      <td>GT3</td>\n",
       "      <td>T</td>\n",
       "      <td>1</td>\n",
       "      <td>1</td>\n",
       "      <td>at_home</td>\n",
       "      <td>other</td>\n",
       "      <td>...</td>\n",
       "      <td>5</td>\n",
       "      <td>3</td>\n",
       "      <td>3</td>\n",
       "      <td>1</td>\n",
       "      <td>1</td>\n",
       "      <td>3</td>\n",
       "      <td>4</td>\n",
       "      <td>5</td>\n",
       "      <td>5</td>\n",
       "      <td>6</td>\n",
       "    </tr>\n",
       "    <tr>\n",
       "      <th>2</th>\n",
       "      <td>GP</td>\n",
       "      <td>F</td>\n",
       "      <td>15</td>\n",
       "      <td>U</td>\n",
       "      <td>LE3</td>\n",
       "      <td>T</td>\n",
       "      <td>1</td>\n",
       "      <td>1</td>\n",
       "      <td>at_home</td>\n",
       "      <td>other</td>\n",
       "      <td>...</td>\n",
       "      <td>4</td>\n",
       "      <td>3</td>\n",
       "      <td>2</td>\n",
       "      <td>2</td>\n",
       "      <td>3</td>\n",
       "      <td>3</td>\n",
       "      <td>10</td>\n",
       "      <td>7</td>\n",
       "      <td>8</td>\n",
       "      <td>10</td>\n",
       "    </tr>\n",
       "    <tr>\n",
       "      <th>3</th>\n",
       "      <td>GP</td>\n",
       "      <td>F</td>\n",
       "      <td>15</td>\n",
       "      <td>U</td>\n",
       "      <td>GT3</td>\n",
       "      <td>T</td>\n",
       "      <td>4</td>\n",
       "      <td>2</td>\n",
       "      <td>health</td>\n",
       "      <td>services</td>\n",
       "      <td>...</td>\n",
       "      <td>3</td>\n",
       "      <td>2</td>\n",
       "      <td>2</td>\n",
       "      <td>1</td>\n",
       "      <td>1</td>\n",
       "      <td>5</td>\n",
       "      <td>2</td>\n",
       "      <td>15</td>\n",
       "      <td>14</td>\n",
       "      <td>15</td>\n",
       "    </tr>\n",
       "    <tr>\n",
       "      <th>4</th>\n",
       "      <td>GP</td>\n",
       "      <td>F</td>\n",
       "      <td>16</td>\n",
       "      <td>U</td>\n",
       "      <td>GT3</td>\n",
       "      <td>T</td>\n",
       "      <td>3</td>\n",
       "      <td>3</td>\n",
       "      <td>other</td>\n",
       "      <td>other</td>\n",
       "      <td>...</td>\n",
       "      <td>4</td>\n",
       "      <td>3</td>\n",
       "      <td>2</td>\n",
       "      <td>1</td>\n",
       "      <td>2</td>\n",
       "      <td>5</td>\n",
       "      <td>4</td>\n",
       "      <td>6</td>\n",
       "      <td>10</td>\n",
       "      <td>10</td>\n",
       "    </tr>\n",
       "  </tbody>\n",
       "</table>\n",
       "<p>5 rows × 33 columns</p>\n",
       "</div>"
      ],
      "text/plain": [
       "  school sex  age address famsize Pstatus  Medu  Fedu     Mjob      Fjob  ...  \\\n",
       "0     GP   F   18       U     GT3       A     4     4  at_home   teacher  ...   \n",
       "1     GP   F   17       U     GT3       T     1     1  at_home     other  ...   \n",
       "2     GP   F   15       U     LE3       T     1     1  at_home     other  ...   \n",
       "3     GP   F   15       U     GT3       T     4     2   health  services  ...   \n",
       "4     GP   F   16       U     GT3       T     3     3    other     other  ...   \n",
       "\n",
       "  famrel freetime  goout  Dalc  Walc health absences  G1  G2  G3  \n",
       "0      4        3      4     1     1      3        6   5   6   6  \n",
       "1      5        3      3     1     1      3        4   5   5   6  \n",
       "2      4        3      2     2     3      3       10   7   8  10  \n",
       "3      3        2      2     1     1      5        2  15  14  15  \n",
       "4      4        3      2     1     2      5        4   6  10  10  \n",
       "\n",
       "[5 rows x 33 columns]"
      ]
     },
     "execution_count": 90,
     "metadata": {},
     "output_type": "execute_result"
    }
   ],
   "source": [
    "data = pd.read_csv('./data/student-mat.csv', delimiter=';')\n",
    "data.head(5)"
   ]
  },
  {
   "cell_type": "code",
   "execution_count": 91,
   "id": "215148bf-811f-47ae-90ab-187a482924c5",
   "metadata": {},
   "outputs": [
    {
     "data": {
      "text/html": [
       "<div>\n",
       "<style scoped>\n",
       "    .dataframe tbody tr th:only-of-type {\n",
       "        vertical-align: middle;\n",
       "    }\n",
       "\n",
       "    .dataframe tbody tr th {\n",
       "        vertical-align: top;\n",
       "    }\n",
       "\n",
       "    .dataframe thead th {\n",
       "        text-align: right;\n",
       "    }\n",
       "</style>\n",
       "<table border=\"1\" class=\"dataframe\">\n",
       "  <thead>\n",
       "    <tr style=\"text-align: right;\">\n",
       "      <th></th>\n",
       "      <th>address</th>\n",
       "      <th>famsize</th>\n",
       "      <th>Pstatus</th>\n",
       "      <th>Medu</th>\n",
       "      <th>Fedu</th>\n",
       "      <th>traveltime</th>\n",
       "      <th>studytime</th>\n",
       "      <th>failures</th>\n",
       "      <th>schoolsup</th>\n",
       "      <th>famsup</th>\n",
       "      <th>...</th>\n",
       "      <th>famrel</th>\n",
       "      <th>freetime</th>\n",
       "      <th>goout</th>\n",
       "      <th>Dalc</th>\n",
       "      <th>Walc</th>\n",
       "      <th>health</th>\n",
       "      <th>absences</th>\n",
       "      <th>G1</th>\n",
       "      <th>G2</th>\n",
       "      <th>G3</th>\n",
       "    </tr>\n",
       "  </thead>\n",
       "  <tbody>\n",
       "    <tr>\n",
       "      <th>0</th>\n",
       "      <td>U</td>\n",
       "      <td>GT3</td>\n",
       "      <td>A</td>\n",
       "      <td>4</td>\n",
       "      <td>4</td>\n",
       "      <td>2</td>\n",
       "      <td>2</td>\n",
       "      <td>0</td>\n",
       "      <td>yes</td>\n",
       "      <td>no</td>\n",
       "      <td>...</td>\n",
       "      <td>4</td>\n",
       "      <td>3</td>\n",
       "      <td>4</td>\n",
       "      <td>1</td>\n",
       "      <td>1</td>\n",
       "      <td>3</td>\n",
       "      <td>6</td>\n",
       "      <td>5</td>\n",
       "      <td>6</td>\n",
       "      <td>6</td>\n",
       "    </tr>\n",
       "    <tr>\n",
       "      <th>1</th>\n",
       "      <td>U</td>\n",
       "      <td>GT3</td>\n",
       "      <td>T</td>\n",
       "      <td>1</td>\n",
       "      <td>1</td>\n",
       "      <td>1</td>\n",
       "      <td>2</td>\n",
       "      <td>0</td>\n",
       "      <td>no</td>\n",
       "      <td>yes</td>\n",
       "      <td>...</td>\n",
       "      <td>5</td>\n",
       "      <td>3</td>\n",
       "      <td>3</td>\n",
       "      <td>1</td>\n",
       "      <td>1</td>\n",
       "      <td>3</td>\n",
       "      <td>4</td>\n",
       "      <td>5</td>\n",
       "      <td>5</td>\n",
       "      <td>6</td>\n",
       "    </tr>\n",
       "    <tr>\n",
       "      <th>2</th>\n",
       "      <td>U</td>\n",
       "      <td>LE3</td>\n",
       "      <td>T</td>\n",
       "      <td>1</td>\n",
       "      <td>1</td>\n",
       "      <td>1</td>\n",
       "      <td>2</td>\n",
       "      <td>3</td>\n",
       "      <td>yes</td>\n",
       "      <td>no</td>\n",
       "      <td>...</td>\n",
       "      <td>4</td>\n",
       "      <td>3</td>\n",
       "      <td>2</td>\n",
       "      <td>2</td>\n",
       "      <td>3</td>\n",
       "      <td>3</td>\n",
       "      <td>10</td>\n",
       "      <td>7</td>\n",
       "      <td>8</td>\n",
       "      <td>10</td>\n",
       "    </tr>\n",
       "    <tr>\n",
       "      <th>3</th>\n",
       "      <td>U</td>\n",
       "      <td>GT3</td>\n",
       "      <td>T</td>\n",
       "      <td>4</td>\n",
       "      <td>2</td>\n",
       "      <td>1</td>\n",
       "      <td>3</td>\n",
       "      <td>0</td>\n",
       "      <td>no</td>\n",
       "      <td>yes</td>\n",
       "      <td>...</td>\n",
       "      <td>3</td>\n",
       "      <td>2</td>\n",
       "      <td>2</td>\n",
       "      <td>1</td>\n",
       "      <td>1</td>\n",
       "      <td>5</td>\n",
       "      <td>2</td>\n",
       "      <td>15</td>\n",
       "      <td>14</td>\n",
       "      <td>15</td>\n",
       "    </tr>\n",
       "    <tr>\n",
       "      <th>4</th>\n",
       "      <td>U</td>\n",
       "      <td>GT3</td>\n",
       "      <td>T</td>\n",
       "      <td>3</td>\n",
       "      <td>3</td>\n",
       "      <td>1</td>\n",
       "      <td>2</td>\n",
       "      <td>0</td>\n",
       "      <td>no</td>\n",
       "      <td>yes</td>\n",
       "      <td>...</td>\n",
       "      <td>4</td>\n",
       "      <td>3</td>\n",
       "      <td>2</td>\n",
       "      <td>1</td>\n",
       "      <td>2</td>\n",
       "      <td>5</td>\n",
       "      <td>4</td>\n",
       "      <td>6</td>\n",
       "      <td>10</td>\n",
       "      <td>10</td>\n",
       "    </tr>\n",
       "  </tbody>\n",
       "</table>\n",
       "<p>5 rows × 26 columns</p>\n",
       "</div>"
      ],
      "text/plain": [
       "  address famsize Pstatus  Medu  Fedu  traveltime  studytime  failures  \\\n",
       "0       U     GT3       A     4     4           2          2         0   \n",
       "1       U     GT3       T     1     1           1          2         0   \n",
       "2       U     LE3       T     1     1           1          2         3   \n",
       "3       U     GT3       T     4     2           1          3         0   \n",
       "4       U     GT3       T     3     3           1          2         0   \n",
       "\n",
       "  schoolsup famsup  ... famrel freetime goout Dalc Walc health  absences  G1  \\\n",
       "0       yes     no  ...      4        3     4    1    1      3         6   5   \n",
       "1        no    yes  ...      5        3     3    1    1      3         4   5   \n",
       "2       yes     no  ...      4        3     2    2    3      3        10   7   \n",
       "3        no    yes  ...      3        2     2    1    1      5         2  15   \n",
       "4        no    yes  ...      4        3     2    1    2      5         4   6   \n",
       "\n",
       "   G2  G3  \n",
       "0   6   6  \n",
       "1   5   6  \n",
       "2   8  10  \n",
       "3  14  15  \n",
       "4  10  10  \n",
       "\n",
       "[5 rows x 26 columns]"
      ]
     },
     "execution_count": 91,
     "metadata": {},
     "output_type": "execute_result"
    }
   ],
   "source": [
    "drop_col = ['school','sex','age','Mjob', 'Fjob','reason','guardian']\n",
    "data = data.drop(columns=drop_col)\n",
    "data.head(5)"
   ]
  },
  {
   "cell_type": "markdown",
   "id": "25c93a1d-7de6-40df-b532-22a03e836369",
   "metadata": {},
   "source": [
    "### Constructing the DAG"
   ]
  },
  {
   "cell_type": "code",
   "execution_count": 92,
   "id": "ffd8d31e-718d-412d-9d51-9174ef3a919c",
   "metadata": {},
   "outputs": [
    {
     "name": "stdout",
     "output_type": "stream",
     "text": [
      "['address', 'famsize', 'Pstatus', 'schoolsup', 'famsup', 'paid', 'activities', 'nursery', 'higher', 'internet', 'romantic']\n"
     ]
    }
   ],
   "source": [
    "import numpy as np\n",
    "\n",
    "struct_data = data.copy()\n",
    "non_numeric_columns = list(struct_data.select_dtypes(exclude=[np.number]).columns)\n",
    "\n",
    "print(non_numeric_columns)"
   ]
  },
  {
   "cell_type": "code",
   "execution_count": 93,
   "id": "0ed61007-802b-4f2c-b995-681482b648c4",
   "metadata": {},
   "outputs": [
    {
     "data": {
      "text/html": [
       "<div>\n",
       "<style scoped>\n",
       "    .dataframe tbody tr th:only-of-type {\n",
       "        vertical-align: middle;\n",
       "    }\n",
       "\n",
       "    .dataframe tbody tr th {\n",
       "        vertical-align: top;\n",
       "    }\n",
       "\n",
       "    .dataframe thead th {\n",
       "        text-align: right;\n",
       "    }\n",
       "</style>\n",
       "<table border=\"1\" class=\"dataframe\">\n",
       "  <thead>\n",
       "    <tr style=\"text-align: right;\">\n",
       "      <th></th>\n",
       "      <th>address</th>\n",
       "      <th>famsize</th>\n",
       "      <th>Pstatus</th>\n",
       "      <th>Medu</th>\n",
       "      <th>Fedu</th>\n",
       "      <th>traveltime</th>\n",
       "      <th>studytime</th>\n",
       "      <th>failures</th>\n",
       "      <th>schoolsup</th>\n",
       "      <th>famsup</th>\n",
       "      <th>...</th>\n",
       "      <th>famrel</th>\n",
       "      <th>freetime</th>\n",
       "      <th>goout</th>\n",
       "      <th>Dalc</th>\n",
       "      <th>Walc</th>\n",
       "      <th>health</th>\n",
       "      <th>absences</th>\n",
       "      <th>G1</th>\n",
       "      <th>G2</th>\n",
       "      <th>G3</th>\n",
       "    </tr>\n",
       "  </thead>\n",
       "  <tbody>\n",
       "    <tr>\n",
       "      <th>0</th>\n",
       "      <td>1</td>\n",
       "      <td>0</td>\n",
       "      <td>0</td>\n",
       "      <td>4</td>\n",
       "      <td>4</td>\n",
       "      <td>2</td>\n",
       "      <td>2</td>\n",
       "      <td>0</td>\n",
       "      <td>1</td>\n",
       "      <td>0</td>\n",
       "      <td>...</td>\n",
       "      <td>4</td>\n",
       "      <td>3</td>\n",
       "      <td>4</td>\n",
       "      <td>1</td>\n",
       "      <td>1</td>\n",
       "      <td>3</td>\n",
       "      <td>6</td>\n",
       "      <td>5</td>\n",
       "      <td>6</td>\n",
       "      <td>6</td>\n",
       "    </tr>\n",
       "    <tr>\n",
       "      <th>1</th>\n",
       "      <td>1</td>\n",
       "      <td>0</td>\n",
       "      <td>1</td>\n",
       "      <td>1</td>\n",
       "      <td>1</td>\n",
       "      <td>1</td>\n",
       "      <td>2</td>\n",
       "      <td>0</td>\n",
       "      <td>0</td>\n",
       "      <td>1</td>\n",
       "      <td>...</td>\n",
       "      <td>5</td>\n",
       "      <td>3</td>\n",
       "      <td>3</td>\n",
       "      <td>1</td>\n",
       "      <td>1</td>\n",
       "      <td>3</td>\n",
       "      <td>4</td>\n",
       "      <td>5</td>\n",
       "      <td>5</td>\n",
       "      <td>6</td>\n",
       "    </tr>\n",
       "    <tr>\n",
       "      <th>2</th>\n",
       "      <td>1</td>\n",
       "      <td>1</td>\n",
       "      <td>1</td>\n",
       "      <td>1</td>\n",
       "      <td>1</td>\n",
       "      <td>1</td>\n",
       "      <td>2</td>\n",
       "      <td>3</td>\n",
       "      <td>1</td>\n",
       "      <td>0</td>\n",
       "      <td>...</td>\n",
       "      <td>4</td>\n",
       "      <td>3</td>\n",
       "      <td>2</td>\n",
       "      <td>2</td>\n",
       "      <td>3</td>\n",
       "      <td>3</td>\n",
       "      <td>10</td>\n",
       "      <td>7</td>\n",
       "      <td>8</td>\n",
       "      <td>10</td>\n",
       "    </tr>\n",
       "    <tr>\n",
       "      <th>3</th>\n",
       "      <td>1</td>\n",
       "      <td>0</td>\n",
       "      <td>1</td>\n",
       "      <td>4</td>\n",
       "      <td>2</td>\n",
       "      <td>1</td>\n",
       "      <td>3</td>\n",
       "      <td>0</td>\n",
       "      <td>0</td>\n",
       "      <td>1</td>\n",
       "      <td>...</td>\n",
       "      <td>3</td>\n",
       "      <td>2</td>\n",
       "      <td>2</td>\n",
       "      <td>1</td>\n",
       "      <td>1</td>\n",
       "      <td>5</td>\n",
       "      <td>2</td>\n",
       "      <td>15</td>\n",
       "      <td>14</td>\n",
       "      <td>15</td>\n",
       "    </tr>\n",
       "    <tr>\n",
       "      <th>4</th>\n",
       "      <td>1</td>\n",
       "      <td>0</td>\n",
       "      <td>1</td>\n",
       "      <td>3</td>\n",
       "      <td>3</td>\n",
       "      <td>1</td>\n",
       "      <td>2</td>\n",
       "      <td>0</td>\n",
       "      <td>0</td>\n",
       "      <td>1</td>\n",
       "      <td>...</td>\n",
       "      <td>4</td>\n",
       "      <td>3</td>\n",
       "      <td>2</td>\n",
       "      <td>1</td>\n",
       "      <td>2</td>\n",
       "      <td>5</td>\n",
       "      <td>4</td>\n",
       "      <td>6</td>\n",
       "      <td>10</td>\n",
       "      <td>10</td>\n",
       "    </tr>\n",
       "  </tbody>\n",
       "</table>\n",
       "<p>5 rows × 26 columns</p>\n",
       "</div>"
      ],
      "text/plain": [
       "   address  famsize  Pstatus  Medu  Fedu  traveltime  studytime  failures  \\\n",
       "0        1        0        0     4     4           2          2         0   \n",
       "1        1        0        1     1     1           1          2         0   \n",
       "2        1        1        1     1     1           1          2         3   \n",
       "3        1        0        1     4     2           1          3         0   \n",
       "4        1        0        1     3     3           1          2         0   \n",
       "\n",
       "   schoolsup  famsup  ...  famrel  freetime  goout  Dalc  Walc  health  \\\n",
       "0          1       0  ...       4         3      4     1     1       3   \n",
       "1          0       1  ...       5         3      3     1     1       3   \n",
       "2          1       0  ...       4         3      2     2     3       3   \n",
       "3          0       1  ...       3         2      2     1     1       5   \n",
       "4          0       1  ...       4         3      2     1     2       5   \n",
       "\n",
       "   absences  G1  G2  G3  \n",
       "0         6   5   6   6  \n",
       "1         4   5   5   6  \n",
       "2        10   7   8  10  \n",
       "3         2  15  14  15  \n",
       "4         4   6  10  10  \n",
       "\n",
       "[5 rows x 26 columns]"
      ]
     },
     "execution_count": 93,
     "metadata": {},
     "output_type": "execute_result"
    }
   ],
   "source": [
    "from sklearn.preprocessing import LabelEncoder\n",
    "\n",
    "le = LabelEncoder()\n",
    "\n",
    "for col in non_numeric_columns:\n",
    "    struct_data[col] = le.fit_transform(struct_data[col])\n",
    "\n",
    "struct_data.head(5)"
   ]
  },
  {
   "cell_type": "markdown",
   "id": "793fbd50-ca11-4b84-81f9-65019b9d10f7",
   "metadata": {
    "tags": []
   },
   "source": [
    "### Editing the DAG\n",
    "\n",
    "You can pass all the attributes in the dataset to the DAG widget and construct your own DAG.\n",
    "If you would like to skip this step, you can load the example from the saved DAG file in the next cell."
   ]
  },
  {
   "cell_type": "code",
   "execution_count": 94,
   "id": "d4d4e191-cb7e-461b-9e97-b846787bfbb3",
   "metadata": {
    "tags": []
   },
   "outputs": [
    {
     "data": {
      "application/vnd.jupyter.widget-view+json": {
       "model_id": "a459e6870cfa450393f4ab889b7662ae",
       "version_major": 2,
       "version_minor": 0
      },
      "text/plain": [
       "DAG(component='DAG', props={'attributes': ['absences', 'activities', 'address', 'Dalc', 'failures', 'famrel', …"
      ]
     },
     "metadata": {},
     "output_type": "display_data"
    }
   ],
   "source": [
    "from causalvis import DAG\n",
    "\n",
    "DAG(data=struct_data)"
   ]
  },
  {
   "cell_type": "markdown",
   "id": "954ac34d-4704-498f-a21c-54d4ad7486da",
   "metadata": {},
   "source": [
    "### Identifying control variables\n",
    "\n",
    "Once we are satisfied with the DAG, we can set the treatment and outcome variables. In this case, we are interested in `G1` as the outcome variable, while `absences` is the treatment variable of interest. After selecting these variables, we see that other attributes in the DAG are automatically colored to reflect their relationship to the treatment and outcome.\n",
    "\n",
    "From the downloads button, we can get a list of the `confounds` and `prognostic` factors to control for."
   ]
  },
  {
   "cell_type": "code",
   "execution_count": 95,
   "id": "e4888c01-27b6-45b9-8a80-681e54d5c242",
   "metadata": {},
   "outputs": [],
   "source": [
    "with open('./data/DAG_student_example (1).json', 'r') as d:\n",
    "    graph = json.load(d)"
   ]
  },
  {
   "cell_type": "code",
   "execution_count": 96,
   "id": "96a9f2a0-0604-4aad-a2ab-c529a0af839e",
   "metadata": {},
   "outputs": [
    {
     "data": {
      "application/vnd.jupyter.widget-view+json": {
       "model_id": "d8b87559f06545f3a04fd5107380c416",
       "version_major": 2,
       "version_minor": 0
      },
      "text/plain": [
       "DAG(component='DAG', props={'attributes': None, 'graph': {'nodes': [{'x': 60.76065021003316, 'y': 411.32658125…"
      ]
     },
     "metadata": {},
     "output_type": "display_data"
    }
   ],
   "source": [
    "dg = DAG(graph=graph)\n",
    "dg"
   ]
  },
  {
   "cell_type": "code",
   "execution_count": 97,
   "id": "bf90c680-823c-45bc-9a41-c17c18653f10",
   "metadata": {},
   "outputs": [
    {
     "data": {
      "text/plain": [
       "['Pstatus', 'failures', 'internet', 'health', 'famsup', 'Medu']"
      ]
     },
     "execution_count": 97,
     "metadata": {},
     "output_type": "execute_result"
    }
   ],
   "source": [
    "confounds = [c['name'] for c in dg.confounds]\n",
    "confounds"
   ]
  },
  {
   "cell_type": "code",
   "execution_count": 98,
   "id": "1eb9847e-53dd-4154-961c-774bb639c18b",
   "metadata": {},
   "outputs": [
    {
     "data": {
      "text/plain": [
       "['studytime', 'schoolsup', 'paid', 'higher']"
      ]
     },
     "execution_count": 98,
     "metadata": {},
     "output_type": "execute_result"
    }
   ],
   "source": [
    "prognostics = [p['name'] for p in dg.prognostics]\n",
    "prognostics"
   ]
  },
  {
   "cell_type": "markdown",
   "id": "554b8d11-ed2a-4f30-a17a-971ff37809e7",
   "metadata": {},
   "source": [
    "# Cohort Construction and Refinement"
   ]
  },
  {
   "cell_type": "code",
   "execution_count": 99,
   "id": "a48123a5-ce4d-436a-bbca-29952b8d1c74",
   "metadata": {},
   "outputs": [],
   "source": [
    "from causalvis import CohortEvaluator"
   ]
  },
  {
   "cell_type": "code",
   "execution_count": 100,
   "id": "d822d148-e747-4c61-ab0a-3496bfbbbca9",
   "metadata": {},
   "outputs": [
    {
     "data": {
      "text/plain": [
       "(395, 26)"
      ]
     },
     "execution_count": 100,
     "metadata": {},
     "output_type": "execute_result"
    }
   ],
   "source": [
    "data.shape"
   ]
  },
  {
   "cell_type": "code",
   "execution_count": 101,
   "id": "35e5cd82-0bb5-4962-81d3-327d3bf0f66e",
   "metadata": {},
   "outputs": [],
   "source": [
    "a = data[\"absences\"]\n",
    "a = a >= a.median()\n",
    "a = a.astype(int)"
   ]
  },
  {
   "cell_type": "code",
   "execution_count": 102,
   "id": "0542169b-bf9a-451c-8f32-f0238f2e7422",
   "metadata": {},
   "outputs": [],
   "source": [
    "y = data[\"G1\"]"
   ]
  },
  {
   "cell_type": "code",
   "execution_count": 103,
   "id": "5efed9db-2970-492d-93f6-d2c6e61d4c64",
   "metadata": {},
   "outputs": [
    {
     "data": {
      "text/plain": [
       "Pstatus      object\n",
       "failures      int64\n",
       "internet     object\n",
       "health        int64\n",
       "famsup       object\n",
       "Medu          int64\n",
       "studytime     int64\n",
       "schoolsup    object\n",
       "paid         object\n",
       "higher       object\n",
       "dtype: object"
      ]
     },
     "execution_count": 103,
     "metadata": {},
     "output_type": "execute_result"
    }
   ],
   "source": [
    "covariates = confounds + prognostics\n",
    "\n",
    "X = data[covariates]\n",
    "X.dtypes"
   ]
  },
  {
   "cell_type": "code",
   "execution_count": 104,
   "id": "ea0a03e7-4e29-4652-8780-54825f99cbd4",
   "metadata": {},
   "outputs": [
    {
     "data": {
      "text/plain": [
       "(395, 10)"
      ]
     },
     "execution_count": 104,
     "metadata": {},
     "output_type": "execute_result"
    }
   ],
   "source": [
    "X = data.loc[:, covariates]\n",
    "X = pd.get_dummies(X, drop_first=True)\n",
    "X.shape"
   ]
  },
  {
   "cell_type": "code",
   "execution_count": 105,
   "id": "94a3bf58-9d69-4259-96d5-7aa5eb44fb23",
   "metadata": {
    "tags": []
   },
   "outputs": [],
   "source": [
    "from sklearn.linear_model import LogisticRegression\n",
    "from causallib.estimation import IPW\n",
    "\n",
    "lr = LogisticRegression(solver='lbfgs', max_iter=1000)\n",
    "ipw = IPW(lr)"
   ]
  },
  {
   "cell_type": "code",
   "execution_count": 106,
   "id": "98bedb0a-2d5a-42ce-b857-5ede5af78555",
   "metadata": {
    "tags": []
   },
   "outputs": [
    {
     "data": {
      "text/plain": [
       "IPW(clip_max=None, clip_min=None, use_stabilized=False, verbose=False,\n",
       "    learner=LogisticRegression(max_iter=1000))"
      ]
     },
     "execution_count": 106,
     "metadata": {},
     "output_type": "execute_result"
    }
   ],
   "source": [
    "ipw.fit(X, a)"
   ]
  },
  {
   "cell_type": "code",
   "execution_count": 107,
   "id": "6e1a35da-285f-4f2a-b826-4c36d3a0e22d",
   "metadata": {},
   "outputs": [],
   "source": [
    "propMatrix = ipw.compute_propensity_matrix(X, a).to_dict(orient=\"records\")"
   ]
  },
  {
   "cell_type": "code",
   "execution_count": 108,
   "id": "667bec81-ca90-45cc-b52e-e370193b2688",
   "metadata": {
    "tags": []
   },
   "outputs": [],
   "source": [
    "def formatData(X, a, y, propMatrix):\n",
    "    unadjustedData = []\n",
    "\n",
    "    confounds = X.to_dict(orient=\"records\")\n",
    "    a.reset_index(drop=True, inplace=True)\n",
    "    y.reset_index(drop=True, inplace=True)\n",
    "\n",
    "    for i in range(len(confounds)):\n",
    "        newDataInstance = confounds[i]\n",
    "        newDataInstance['treatment'] = a[i]\n",
    "        newDataInstance['propensity'] = propMatrix[i]\n",
    "\n",
    "        unadjustedData.append(newDataInstance)\n",
    "        \n",
    "    return unadjustedData"
   ]
  },
  {
   "cell_type": "markdown",
   "id": "614793bf-669e-4ccf-b0ab-0b2c7821b3c7",
   "metadata": {
    "jp-MarkdownHeadingCollapsed": true,
    "tags": []
   },
   "source": [
    "# IPW"
   ]
  },
  {
   "cell_type": "code",
   "execution_count": null,
   "id": "7ce78749-3a62-4899-833f-19619394ea1c",
   "metadata": {
    "tags": []
   },
   "outputs": [],
   "source": [
    "ceval = CohortEvaluator(unadjustedCohort=formatData(X, a, y, propMatrix))\n",
    "ceval"
   ]
  },
  {
   "cell_type": "markdown",
   "id": "6b09ca2d-4823-4967-ad3f-6eb014800d52",
   "metadata": {},
   "source": [
    "Since the population is well balanced, we can go ahead and estimate the treatment effect. This can be done quite easily in causallib, using the `estimate_population_outcome` function. From the result, we can see that having < 4 absences a year causes a slightly higher score for `G1`."
   ]
  },
  {
   "cell_type": "code",
   "execution_count": null,
   "id": "b2ea4623-fba4-440a-9d78-d7f1b170a200",
   "metadata": {
    "tags": []
   },
   "outputs": [],
   "source": [
    "len(ceval.selection[\"confounds\"])"
   ]
  },
  {
   "cell_type": "code",
   "execution_count": null,
   "id": "8b4e75ee-09ac-4d1b-8998-77b310a34624",
   "metadata": {},
   "outputs": [],
   "source": [
    "ipw.estimate_population_outcome(X, a, y)"
   ]
  },
  {
   "cell_type": "markdown",
   "id": "640ede12-d4ef-4843-9d6b-22ed17672315",
   "metadata": {},
   "source": [
    "# Matching"
   ]
  },
  {
   "cell_type": "code",
   "execution_count": 109,
   "id": "25bc6369-38f5-4816-b30b-3c0db84e0373",
   "metadata": {},
   "outputs": [],
   "source": [
    "from causallib.estimation import IPW, Matching\n",
    "from causallib.preprocessing.transformers import PropensityTransformer\n",
    "from causallib.preprocessing.transformers import MatchingTransformer\n",
    "from sklearn.linear_model import LogisticRegression\n",
    "import pandas as pd"
   ]
  },
  {
   "cell_type": "code",
   "execution_count": 110,
   "id": "0fea6094-98a9-485c-b894-95c4e688e813",
   "metadata": {},
   "outputs": [],
   "source": [
    "matcher = MatchingTransformer(with_replacement=True, n_neighbors=1, caliper=2)\n",
    "matcher.fit(X, a, y)\n",
    "Xm, am, ym = matcher.transform(X, a, y)\n",
    "\n",
    "Xm.reset_index(drop=True, inplace=True)\n",
    "am.reset_index(drop=True, inplace=True)\n",
    "ym.reset_index(drop=True, inplace=True)\n",
    "\n",
    "def learner(): return LogisticRegression(solver=\"liblinear\",\n",
    "                                         max_iter=5000,\n",
    "                                         class_weight=\"balanced\")\n",
    "\n",
    "ipw = IPW(learner=learner())\n",
    "ipw.fit(Xm, am)\n",
    "propMatrixm = ipw.compute_propensity_matrix(Xm, am).to_dict(orient=\"records\")"
   ]
  },
  {
   "cell_type": "code",
   "execution_count": 111,
   "id": "67b1b96a-7372-4fce-bec6-ffe0c92606bf",
   "metadata": {},
   "outputs": [
    {
     "data": {
      "text/plain": [
       "(328, 10)"
      ]
     },
     "execution_count": 111,
     "metadata": {},
     "output_type": "execute_result"
    }
   ],
   "source": [
    "Xm.shape"
   ]
  },
  {
   "cell_type": "code",
   "execution_count": 112,
   "id": "913651bb-5065-46b1-bf90-24cefe32e5a9",
   "metadata": {},
   "outputs": [
    {
     "data": {
      "application/vnd.jupyter.widget-view+json": {
       "model_id": "2597c173687744ea9e26346f3dc26b4f",
       "version_major": 2,
       "version_minor": 0
      },
      "text/plain": [
       "CohortEvaluator(component='CohortEvaluator', props={'unadjustedCohort': [{'failures': 0, 'health': 3, 'Medu': …"
      ]
     },
     "metadata": {},
     "output_type": "display_data"
    }
   ],
   "source": [
    "from causalvis import CohortEvaluator\n",
    "\n",
    "ceval = CohortEvaluator(adjustedCohort=formatData(Xm, am, ym, propMatrixm), unadjustedCohort=formatData(X, a, y, propMatrix))\n",
    "ceval"
   ]
  },
  {
   "cell_type": "code",
   "execution_count": 113,
   "id": "6cddb050-c0a5-4716-879b-9a718aaa5a2a",
   "metadata": {},
   "outputs": [],
   "source": [
    "matcher = MatchingTransformer(with_replacement=True, n_neighbors=1, caliper=1)\n",
    "matcher.fit(X, a, y)\n",
    "Xm2, am2, ym2 = matcher.transform(X, a, y)\n",
    "\n",
    "Xm2.reset_index(drop=True, inplace=True)\n",
    "am2.reset_index(drop=True, inplace=True)\n",
    "ym2.reset_index(drop=True, inplace=True)\n",
    "\n",
    "def learner(): return LogisticRegression(solver=\"liblinear\",\n",
    "                                         max_iter=5000,\n",
    "                                         class_weight=\"balanced\")\n",
    "\n",
    "ipw = IPW(learner=learner())\n",
    "ipw.fit(Xm2, am2)\n",
    "propMatrixm2 = ipw.compute_propensity_matrix(Xm2, am2).to_dict(orient=\"records\")"
   ]
  },
  {
   "cell_type": "code",
   "execution_count": 114,
   "id": "532ebe23-7351-4a2a-a8a3-3e22290b3818",
   "metadata": {},
   "outputs": [
    {
     "data": {
      "text/plain": [
       "(200, 10)"
      ]
     },
     "execution_count": 114,
     "metadata": {},
     "output_type": "execute_result"
    }
   ],
   "source": [
    "Xm2.shape"
   ]
  },
  {
   "cell_type": "code",
   "execution_count": 115,
   "id": "7c184316-1613-4275-88ce-2f90e2dc8bac",
   "metadata": {},
   "outputs": [
    {
     "data": {
      "application/vnd.jupyter.widget-view+json": {
       "model_id": "1caa51531d654f3ab14d084a6857338f",
       "version_major": 2,
       "version_minor": 0
      },
      "text/plain": [
       "CohortEvaluator(component='CohortEvaluator', props={'unadjustedCohort': [{'failures': 0, 'health': 3, 'Medu': …"
      ]
     },
     "metadata": {},
     "output_type": "display_data"
    }
   ],
   "source": [
    "ceval2 = CohortEvaluator(adjustedCohort=formatData(Xm2, am2, ym2, propMatrixm2), unadjustedCohort=formatData(X, a, y, propMatrix))\n",
    "ceval2"
   ]
  },
  {
   "cell_type": "code",
   "execution_count": 116,
   "id": "93e00170-b4f4-4045-8479-eaf0bf7a87c8",
   "metadata": {},
   "outputs": [],
   "source": [
    "propensity_transform = PropensityTransformer(\n",
    "    include_covariates=False, learner=learner())\n",
    "matcher = Matching(propensity_transform=propensity_transform,\n",
    "                   with_replacement=True, n_neighbors=1, knn_backend=\"sklearn\")\n",
    "matcher.fit(Xm2, am2, ym2)\n",
    "matches = matcher._execute_matching(Xm2, am2)"
   ]
  },
  {
   "cell_type": "code",
   "execution_count": 117,
   "id": "969553f7-3647-4b01-b5db-65a5ca8fb987",
   "metadata": {},
   "outputs": [
    {
     "data": {
      "text/plain": [
       "0    11.140\n",
       "1    11.565\n",
       "dtype: float64"
      ]
     },
     "execution_count": 117,
     "metadata": {},
     "output_type": "execute_result"
    }
   ],
   "source": [
    "matcher.estimate_population_outcome(Xm2, am2)"
   ]
  },
  {
   "cell_type": "code",
   "execution_count": 118,
   "id": "ac11f329-3f93-4814-a21c-84e006574b16",
   "metadata": {},
   "outputs": [
    {
     "data": {
      "text/plain": [
       "0.42499999999999893"
      ]
     },
     "execution_count": 118,
     "metadata": {},
     "output_type": "execute_result"
    }
   ],
   "source": [
    "population_outcome = matcher.estimate_population_outcome(Xm2, am2)\n",
    "ATE = population_outcome[1] - population_outcome[0]\n",
    "ATE"
   ]
  },
  {
   "cell_type": "code",
   "execution_count": 119,
   "id": "6a8c499c-842f-4257-96b0-d59acde06b1d",
   "metadata": {},
   "outputs": [],
   "source": [
    "ind_outcomes = matcher.estimate_individual_outcome(Xm2, am2).to_dict(orient=\"records\")\n",
    "\n",
    "ind_effects = []\n",
    "\n",
    "for i in ind_outcomes:\n",
    "    i_treatment = i[1]\n",
    "    i_control = i[0]\n",
    "    \n",
    "    effect = i_treatment - i_control\n",
    "    \n",
    "    ind_effects.append(effect)"
   ]
  },
  {
   "cell_type": "code",
   "execution_count": 120,
   "id": "d86fc1d3-51fd-4c40-869e-576aae3eb2a1",
   "metadata": {},
   "outputs": [],
   "source": [
    "data = []\n",
    "Xm_dict = Xm2.to_dict(orient=\"records\")\n",
    "\n",
    "for i in range(len(Xm_dict)):\n",
    "    newDataInstance = Xm_dict[i]\n",
    "    newDataInstance['treatment'] = int(am2[i])\n",
    "    newDataInstance['outcome'] = int(ym2[i])\n",
    "    newDataInstance['effect'] = int(ind_effects[i])\n",
    "    data.append(newDataInstance)"
   ]
  },
  {
   "cell_type": "code",
   "execution_count": 121,
   "id": "75e8c254-52c3-45e3-803b-c43c016f46df",
   "metadata": {},
   "outputs": [
    {
     "data": {
      "application/vnd.jupyter.widget-view+json": {
       "model_id": "dc9db94ca0cb4e94984247bb9c3ee9a6",
       "version_major": 2,
       "version_minor": 0
      },
      "text/plain": [
       "TreatmentEffectExplorer(component='TreatmentEffectExplorer', props={'data': [{'failures': 0, 'health': 3, 'Med…"
      ]
     },
     "metadata": {},
     "output_type": "display_data"
    }
   ],
   "source": [
    "from causalvis import TreatmentEffectExplorer\n",
    "\n",
    "TreatmentEffectExplorer(data=data)"
   ]
  },
  {
   "cell_type": "code",
   "execution_count": 122,
   "id": "04037118-507d-45d8-bcb2-84085be7bf55",
   "metadata": {},
   "outputs": [
    {
     "data": {
      "application/vnd.jupyter.widget-view+json": {
       "model_id": "7a1206ba98ce41e6b965c667c85d0508",
       "version_major": 2,
       "version_minor": 0
      },
      "text/plain": [
       "VersionHistory(component='VersionHistory', props={'versions': [], 'effect': 'effect'})"
      ]
     },
     "metadata": {},
     "output_type": "display_data"
    }
   ],
   "source": [
    "from causalvis import VersionHistory\n",
    "\n",
    "vh = VersionHistory()\n",
    "vh"
   ]
  },
  {
   "cell_type": "code",
   "execution_count": 123,
   "id": "d1919f7a-8189-4499-8d40-ac8868ef6162",
   "metadata": {},
   "outputs": [],
   "source": [
    "vh.addVersion((dg.DAG, Xm2, ATE.tolist()))"
   ]
  },
  {
   "cell_type": "code",
   "execution_count": 124,
   "id": "f62e52a2-2d27-4eba-a6ad-f86e27384d54",
   "metadata": {},
   "outputs": [],
   "source": [
    "vh.saveVersions()"
   ]
  },
  {
   "cell_type": "code",
   "execution_count": null,
   "id": "e7b2f51b-389b-4473-8938-ab241dd6bd22",
   "metadata": {},
   "outputs": [],
   "source": []
  }
 ],
 "metadata": {
  "kernelspec": {
   "display_name": "Python 3",
   "language": "python",
   "name": "python3"
  },
  "language_info": {
   "codemirror_mode": {
    "name": "ipython",
    "version": 3
   },
   "file_extension": ".py",
   "mimetype": "text/x-python",
   "name": "python",
   "nbconvert_exporter": "python",
   "pygments_lexer": "ipython3",
   "version": "3.8.3"
  }
 },
 "nbformat": 4,
 "nbformat_minor": 5
}
