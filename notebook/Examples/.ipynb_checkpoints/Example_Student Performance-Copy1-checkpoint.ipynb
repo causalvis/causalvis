{
 "cells": [
  {
   "cell_type": "markdown",
   "id": "b0fbbfc0-e754-4ceb-a426-3a0a625d3611",
   "metadata": {},
   "source": [
    "# Causalvis: Visualizations for Causal Inference"
   ]
  },
  {
   "cell_type": "code",
   "execution_count": 2,
   "id": "262c8742-b16b-4274-a5b1-fb1f6592db71",
   "metadata": {},
   "outputs": [],
   "source": [
    "import json\n",
    "import pandas as pd"
   ]
  },
  {
   "cell_type": "markdown",
   "id": "0772cdaa",
   "metadata": {},
   "source": [
    "### Load Data"
   ]
  },
  {
   "cell_type": "code",
   "execution_count": 3,
   "id": "c62cc351",
   "metadata": {},
   "outputs": [
    {
     "data": {
      "text/html": [
       "<div>\n",
       "<style scoped>\n",
       "    .dataframe tbody tr th:only-of-type {\n",
       "        vertical-align: middle;\n",
       "    }\n",
       "\n",
       "    .dataframe tbody tr th {\n",
       "        vertical-align: top;\n",
       "    }\n",
       "\n",
       "    .dataframe thead th {\n",
       "        text-align: right;\n",
       "    }\n",
       "</style>\n",
       "<table border=\"1\" class=\"dataframe\">\n",
       "  <thead>\n",
       "    <tr style=\"text-align: right;\">\n",
       "      <th></th>\n",
       "      <th>school</th>\n",
       "      <th>sex</th>\n",
       "      <th>age</th>\n",
       "      <th>address</th>\n",
       "      <th>famsize</th>\n",
       "      <th>Pstatus</th>\n",
       "      <th>Medu</th>\n",
       "      <th>Fedu</th>\n",
       "      <th>Mjob</th>\n",
       "      <th>Fjob</th>\n",
       "      <th>...</th>\n",
       "      <th>famrel</th>\n",
       "      <th>freetime</th>\n",
       "      <th>goout</th>\n",
       "      <th>Dalc</th>\n",
       "      <th>Walc</th>\n",
       "      <th>health</th>\n",
       "      <th>absences</th>\n",
       "      <th>G1</th>\n",
       "      <th>G2</th>\n",
       "      <th>G3</th>\n",
       "    </tr>\n",
       "  </thead>\n",
       "  <tbody>\n",
       "    <tr>\n",
       "      <th>0</th>\n",
       "      <td>GP</td>\n",
       "      <td>F</td>\n",
       "      <td>18</td>\n",
       "      <td>U</td>\n",
       "      <td>GT3</td>\n",
       "      <td>A</td>\n",
       "      <td>4</td>\n",
       "      <td>4</td>\n",
       "      <td>at_home</td>\n",
       "      <td>teacher</td>\n",
       "      <td>...</td>\n",
       "      <td>4</td>\n",
       "      <td>3</td>\n",
       "      <td>4</td>\n",
       "      <td>1</td>\n",
       "      <td>1</td>\n",
       "      <td>3</td>\n",
       "      <td>6</td>\n",
       "      <td>5</td>\n",
       "      <td>6</td>\n",
       "      <td>6</td>\n",
       "    </tr>\n",
       "    <tr>\n",
       "      <th>1</th>\n",
       "      <td>GP</td>\n",
       "      <td>F</td>\n",
       "      <td>17</td>\n",
       "      <td>U</td>\n",
       "      <td>GT3</td>\n",
       "      <td>T</td>\n",
       "      <td>1</td>\n",
       "      <td>1</td>\n",
       "      <td>at_home</td>\n",
       "      <td>other</td>\n",
       "      <td>...</td>\n",
       "      <td>5</td>\n",
       "      <td>3</td>\n",
       "      <td>3</td>\n",
       "      <td>1</td>\n",
       "      <td>1</td>\n",
       "      <td>3</td>\n",
       "      <td>4</td>\n",
       "      <td>5</td>\n",
       "      <td>5</td>\n",
       "      <td>6</td>\n",
       "    </tr>\n",
       "    <tr>\n",
       "      <th>2</th>\n",
       "      <td>GP</td>\n",
       "      <td>F</td>\n",
       "      <td>15</td>\n",
       "      <td>U</td>\n",
       "      <td>LE3</td>\n",
       "      <td>T</td>\n",
       "      <td>1</td>\n",
       "      <td>1</td>\n",
       "      <td>at_home</td>\n",
       "      <td>other</td>\n",
       "      <td>...</td>\n",
       "      <td>4</td>\n",
       "      <td>3</td>\n",
       "      <td>2</td>\n",
       "      <td>2</td>\n",
       "      <td>3</td>\n",
       "      <td>3</td>\n",
       "      <td>10</td>\n",
       "      <td>7</td>\n",
       "      <td>8</td>\n",
       "      <td>10</td>\n",
       "    </tr>\n",
       "    <tr>\n",
       "      <th>3</th>\n",
       "      <td>GP</td>\n",
       "      <td>F</td>\n",
       "      <td>15</td>\n",
       "      <td>U</td>\n",
       "      <td>GT3</td>\n",
       "      <td>T</td>\n",
       "      <td>4</td>\n",
       "      <td>2</td>\n",
       "      <td>health</td>\n",
       "      <td>services</td>\n",
       "      <td>...</td>\n",
       "      <td>3</td>\n",
       "      <td>2</td>\n",
       "      <td>2</td>\n",
       "      <td>1</td>\n",
       "      <td>1</td>\n",
       "      <td>5</td>\n",
       "      <td>2</td>\n",
       "      <td>15</td>\n",
       "      <td>14</td>\n",
       "      <td>15</td>\n",
       "    </tr>\n",
       "    <tr>\n",
       "      <th>4</th>\n",
       "      <td>GP</td>\n",
       "      <td>F</td>\n",
       "      <td>16</td>\n",
       "      <td>U</td>\n",
       "      <td>GT3</td>\n",
       "      <td>T</td>\n",
       "      <td>3</td>\n",
       "      <td>3</td>\n",
       "      <td>other</td>\n",
       "      <td>other</td>\n",
       "      <td>...</td>\n",
       "      <td>4</td>\n",
       "      <td>3</td>\n",
       "      <td>2</td>\n",
       "      <td>1</td>\n",
       "      <td>2</td>\n",
       "      <td>5</td>\n",
       "      <td>4</td>\n",
       "      <td>6</td>\n",
       "      <td>10</td>\n",
       "      <td>10</td>\n",
       "    </tr>\n",
       "  </tbody>\n",
       "</table>\n",
       "<p>5 rows × 33 columns</p>\n",
       "</div>"
      ],
      "text/plain": [
       "  school sex  age address famsize Pstatus  Medu  Fedu     Mjob      Fjob  ...  \\\n",
       "0     GP   F   18       U     GT3       A     4     4  at_home   teacher  ...   \n",
       "1     GP   F   17       U     GT3       T     1     1  at_home     other  ...   \n",
       "2     GP   F   15       U     LE3       T     1     1  at_home     other  ...   \n",
       "3     GP   F   15       U     GT3       T     4     2   health  services  ...   \n",
       "4     GP   F   16       U     GT3       T     3     3    other     other  ...   \n",
       "\n",
       "  famrel freetime  goout  Dalc  Walc health absences  G1  G2  G3  \n",
       "0      4        3      4     1     1      3        6   5   6   6  \n",
       "1      5        3      3     1     1      3        4   5   5   6  \n",
       "2      4        3      2     2     3      3       10   7   8  10  \n",
       "3      3        2      2     1     1      5        2  15  14  15  \n",
       "4      4        3      2     1     2      5        4   6  10  10  \n",
       "\n",
       "[5 rows x 33 columns]"
      ]
     },
     "execution_count": 3,
     "metadata": {},
     "output_type": "execute_result"
    }
   ],
   "source": [
    "data = pd.read_csv('./data/student-mat.csv', delimiter=';')\n",
    "data.head(5)"
   ]
  },
  {
   "cell_type": "code",
   "execution_count": 4,
   "id": "01e6085e",
   "metadata": {},
   "outputs": [
    {
     "data": {
      "text/html": [
       "<div>\n",
       "<style scoped>\n",
       "    .dataframe tbody tr th:only-of-type {\n",
       "        vertical-align: middle;\n",
       "    }\n",
       "\n",
       "    .dataframe tbody tr th {\n",
       "        vertical-align: top;\n",
       "    }\n",
       "\n",
       "    .dataframe thead th {\n",
       "        text-align: right;\n",
       "    }\n",
       "</style>\n",
       "<table border=\"1\" class=\"dataframe\">\n",
       "  <thead>\n",
       "    <tr style=\"text-align: right;\">\n",
       "      <th></th>\n",
       "      <th>address</th>\n",
       "      <th>famsize</th>\n",
       "      <th>Pstatus</th>\n",
       "      <th>Medu</th>\n",
       "      <th>Fedu</th>\n",
       "      <th>traveltime</th>\n",
       "      <th>studytime</th>\n",
       "      <th>failures</th>\n",
       "      <th>schoolsup</th>\n",
       "      <th>famsup</th>\n",
       "      <th>...</th>\n",
       "      <th>famrel</th>\n",
       "      <th>freetime</th>\n",
       "      <th>goout</th>\n",
       "      <th>Dalc</th>\n",
       "      <th>Walc</th>\n",
       "      <th>health</th>\n",
       "      <th>absences</th>\n",
       "      <th>G1</th>\n",
       "      <th>G2</th>\n",
       "      <th>G3</th>\n",
       "    </tr>\n",
       "  </thead>\n",
       "  <tbody>\n",
       "    <tr>\n",
       "      <th>0</th>\n",
       "      <td>U</td>\n",
       "      <td>GT3</td>\n",
       "      <td>A</td>\n",
       "      <td>4</td>\n",
       "      <td>4</td>\n",
       "      <td>2</td>\n",
       "      <td>2</td>\n",
       "      <td>0</td>\n",
       "      <td>yes</td>\n",
       "      <td>no</td>\n",
       "      <td>...</td>\n",
       "      <td>4</td>\n",
       "      <td>3</td>\n",
       "      <td>4</td>\n",
       "      <td>1</td>\n",
       "      <td>1</td>\n",
       "      <td>3</td>\n",
       "      <td>6</td>\n",
       "      <td>5</td>\n",
       "      <td>6</td>\n",
       "      <td>6</td>\n",
       "    </tr>\n",
       "    <tr>\n",
       "      <th>1</th>\n",
       "      <td>U</td>\n",
       "      <td>GT3</td>\n",
       "      <td>T</td>\n",
       "      <td>1</td>\n",
       "      <td>1</td>\n",
       "      <td>1</td>\n",
       "      <td>2</td>\n",
       "      <td>0</td>\n",
       "      <td>no</td>\n",
       "      <td>yes</td>\n",
       "      <td>...</td>\n",
       "      <td>5</td>\n",
       "      <td>3</td>\n",
       "      <td>3</td>\n",
       "      <td>1</td>\n",
       "      <td>1</td>\n",
       "      <td>3</td>\n",
       "      <td>4</td>\n",
       "      <td>5</td>\n",
       "      <td>5</td>\n",
       "      <td>6</td>\n",
       "    </tr>\n",
       "    <tr>\n",
       "      <th>2</th>\n",
       "      <td>U</td>\n",
       "      <td>LE3</td>\n",
       "      <td>T</td>\n",
       "      <td>1</td>\n",
       "      <td>1</td>\n",
       "      <td>1</td>\n",
       "      <td>2</td>\n",
       "      <td>3</td>\n",
       "      <td>yes</td>\n",
       "      <td>no</td>\n",
       "      <td>...</td>\n",
       "      <td>4</td>\n",
       "      <td>3</td>\n",
       "      <td>2</td>\n",
       "      <td>2</td>\n",
       "      <td>3</td>\n",
       "      <td>3</td>\n",
       "      <td>10</td>\n",
       "      <td>7</td>\n",
       "      <td>8</td>\n",
       "      <td>10</td>\n",
       "    </tr>\n",
       "    <tr>\n",
       "      <th>3</th>\n",
       "      <td>U</td>\n",
       "      <td>GT3</td>\n",
       "      <td>T</td>\n",
       "      <td>4</td>\n",
       "      <td>2</td>\n",
       "      <td>1</td>\n",
       "      <td>3</td>\n",
       "      <td>0</td>\n",
       "      <td>no</td>\n",
       "      <td>yes</td>\n",
       "      <td>...</td>\n",
       "      <td>3</td>\n",
       "      <td>2</td>\n",
       "      <td>2</td>\n",
       "      <td>1</td>\n",
       "      <td>1</td>\n",
       "      <td>5</td>\n",
       "      <td>2</td>\n",
       "      <td>15</td>\n",
       "      <td>14</td>\n",
       "      <td>15</td>\n",
       "    </tr>\n",
       "    <tr>\n",
       "      <th>4</th>\n",
       "      <td>U</td>\n",
       "      <td>GT3</td>\n",
       "      <td>T</td>\n",
       "      <td>3</td>\n",
       "      <td>3</td>\n",
       "      <td>1</td>\n",
       "      <td>2</td>\n",
       "      <td>0</td>\n",
       "      <td>no</td>\n",
       "      <td>yes</td>\n",
       "      <td>...</td>\n",
       "      <td>4</td>\n",
       "      <td>3</td>\n",
       "      <td>2</td>\n",
       "      <td>1</td>\n",
       "      <td>2</td>\n",
       "      <td>5</td>\n",
       "      <td>4</td>\n",
       "      <td>6</td>\n",
       "      <td>10</td>\n",
       "      <td>10</td>\n",
       "    </tr>\n",
       "  </tbody>\n",
       "</table>\n",
       "<p>5 rows × 26 columns</p>\n",
       "</div>"
      ],
      "text/plain": [
       "  address famsize Pstatus  Medu  Fedu  traveltime  studytime  failures  \\\n",
       "0       U     GT3       A     4     4           2          2         0   \n",
       "1       U     GT3       T     1     1           1          2         0   \n",
       "2       U     LE3       T     1     1           1          2         3   \n",
       "3       U     GT3       T     4     2           1          3         0   \n",
       "4       U     GT3       T     3     3           1          2         0   \n",
       "\n",
       "  schoolsup famsup  ... famrel freetime goout Dalc Walc health  absences  G1  \\\n",
       "0       yes     no  ...      4        3     4    1    1      3         6   5   \n",
       "1        no    yes  ...      5        3     3    1    1      3         4   5   \n",
       "2       yes     no  ...      4        3     2    2    3      3        10   7   \n",
       "3        no    yes  ...      3        2     2    1    1      5         2  15   \n",
       "4        no    yes  ...      4        3     2    1    2      5         4   6   \n",
       "\n",
       "   G2  G3  \n",
       "0   6   6  \n",
       "1   5   6  \n",
       "2   8  10  \n",
       "3  14  15  \n",
       "4  10  10  \n",
       "\n",
       "[5 rows x 26 columns]"
      ]
     },
     "execution_count": 4,
     "metadata": {},
     "output_type": "execute_result"
    }
   ],
   "source": [
    "drop_col = ['school','sex','age','Mjob', 'Fjob','reason','guardian']\n",
    "data = data.drop(columns=drop_col)\n",
    "data.head(5)"
   ]
  },
  {
   "cell_type": "markdown",
   "id": "7e0d8148",
   "metadata": {},
   "source": [
    "### Constructing the DAG"
   ]
  },
  {
   "cell_type": "code",
   "execution_count": 5,
   "id": "7ade0ae1",
   "metadata": {},
   "outputs": [
    {
     "name": "stdout",
     "output_type": "stream",
     "text": [
      "['address', 'famsize', 'Pstatus', 'schoolsup', 'famsup', 'paid', 'activities', 'nursery', 'higher', 'internet', 'romantic']\n"
     ]
    }
   ],
   "source": [
    "import numpy as np\n",
    "\n",
    "struct_data = data.copy()\n",
    "non_numeric_columns = list(struct_data.select_dtypes(exclude=[np.number]).columns)\n",
    "\n",
    "print(non_numeric_columns)"
   ]
  },
  {
   "cell_type": "code",
   "execution_count": 6,
   "id": "463dd062",
   "metadata": {},
   "outputs": [
    {
     "data": {
      "text/html": [
       "<div>\n",
       "<style scoped>\n",
       "    .dataframe tbody tr th:only-of-type {\n",
       "        vertical-align: middle;\n",
       "    }\n",
       "\n",
       "    .dataframe tbody tr th {\n",
       "        vertical-align: top;\n",
       "    }\n",
       "\n",
       "    .dataframe thead th {\n",
       "        text-align: right;\n",
       "    }\n",
       "</style>\n",
       "<table border=\"1\" class=\"dataframe\">\n",
       "  <thead>\n",
       "    <tr style=\"text-align: right;\">\n",
       "      <th></th>\n",
       "      <th>address</th>\n",
       "      <th>famsize</th>\n",
       "      <th>Pstatus</th>\n",
       "      <th>Medu</th>\n",
       "      <th>Fedu</th>\n",
       "      <th>traveltime</th>\n",
       "      <th>studytime</th>\n",
       "      <th>failures</th>\n",
       "      <th>schoolsup</th>\n",
       "      <th>famsup</th>\n",
       "      <th>...</th>\n",
       "      <th>famrel</th>\n",
       "      <th>freetime</th>\n",
       "      <th>goout</th>\n",
       "      <th>Dalc</th>\n",
       "      <th>Walc</th>\n",
       "      <th>health</th>\n",
       "      <th>absences</th>\n",
       "      <th>G1</th>\n",
       "      <th>G2</th>\n",
       "      <th>G3</th>\n",
       "    </tr>\n",
       "  </thead>\n",
       "  <tbody>\n",
       "    <tr>\n",
       "      <th>0</th>\n",
       "      <td>1</td>\n",
       "      <td>0</td>\n",
       "      <td>0</td>\n",
       "      <td>4</td>\n",
       "      <td>4</td>\n",
       "      <td>2</td>\n",
       "      <td>2</td>\n",
       "      <td>0</td>\n",
       "      <td>1</td>\n",
       "      <td>0</td>\n",
       "      <td>...</td>\n",
       "      <td>4</td>\n",
       "      <td>3</td>\n",
       "      <td>4</td>\n",
       "      <td>1</td>\n",
       "      <td>1</td>\n",
       "      <td>3</td>\n",
       "      <td>6</td>\n",
       "      <td>5</td>\n",
       "      <td>6</td>\n",
       "      <td>6</td>\n",
       "    </tr>\n",
       "    <tr>\n",
       "      <th>1</th>\n",
       "      <td>1</td>\n",
       "      <td>0</td>\n",
       "      <td>1</td>\n",
       "      <td>1</td>\n",
       "      <td>1</td>\n",
       "      <td>1</td>\n",
       "      <td>2</td>\n",
       "      <td>0</td>\n",
       "      <td>0</td>\n",
       "      <td>1</td>\n",
       "      <td>...</td>\n",
       "      <td>5</td>\n",
       "      <td>3</td>\n",
       "      <td>3</td>\n",
       "      <td>1</td>\n",
       "      <td>1</td>\n",
       "      <td>3</td>\n",
       "      <td>4</td>\n",
       "      <td>5</td>\n",
       "      <td>5</td>\n",
       "      <td>6</td>\n",
       "    </tr>\n",
       "    <tr>\n",
       "      <th>2</th>\n",
       "      <td>1</td>\n",
       "      <td>1</td>\n",
       "      <td>1</td>\n",
       "      <td>1</td>\n",
       "      <td>1</td>\n",
       "      <td>1</td>\n",
       "      <td>2</td>\n",
       "      <td>3</td>\n",
       "      <td>1</td>\n",
       "      <td>0</td>\n",
       "      <td>...</td>\n",
       "      <td>4</td>\n",
       "      <td>3</td>\n",
       "      <td>2</td>\n",
       "      <td>2</td>\n",
       "      <td>3</td>\n",
       "      <td>3</td>\n",
       "      <td>10</td>\n",
       "      <td>7</td>\n",
       "      <td>8</td>\n",
       "      <td>10</td>\n",
       "    </tr>\n",
       "    <tr>\n",
       "      <th>3</th>\n",
       "      <td>1</td>\n",
       "      <td>0</td>\n",
       "      <td>1</td>\n",
       "      <td>4</td>\n",
       "      <td>2</td>\n",
       "      <td>1</td>\n",
       "      <td>3</td>\n",
       "      <td>0</td>\n",
       "      <td>0</td>\n",
       "      <td>1</td>\n",
       "      <td>...</td>\n",
       "      <td>3</td>\n",
       "      <td>2</td>\n",
       "      <td>2</td>\n",
       "      <td>1</td>\n",
       "      <td>1</td>\n",
       "      <td>5</td>\n",
       "      <td>2</td>\n",
       "      <td>15</td>\n",
       "      <td>14</td>\n",
       "      <td>15</td>\n",
       "    </tr>\n",
       "    <tr>\n",
       "      <th>4</th>\n",
       "      <td>1</td>\n",
       "      <td>0</td>\n",
       "      <td>1</td>\n",
       "      <td>3</td>\n",
       "      <td>3</td>\n",
       "      <td>1</td>\n",
       "      <td>2</td>\n",
       "      <td>0</td>\n",
       "      <td>0</td>\n",
       "      <td>1</td>\n",
       "      <td>...</td>\n",
       "      <td>4</td>\n",
       "      <td>3</td>\n",
       "      <td>2</td>\n",
       "      <td>1</td>\n",
       "      <td>2</td>\n",
       "      <td>5</td>\n",
       "      <td>4</td>\n",
       "      <td>6</td>\n",
       "      <td>10</td>\n",
       "      <td>10</td>\n",
       "    </tr>\n",
       "  </tbody>\n",
       "</table>\n",
       "<p>5 rows × 26 columns</p>\n",
       "</div>"
      ],
      "text/plain": [
       "   address  famsize  Pstatus  Medu  Fedu  traveltime  studytime  failures  \\\n",
       "0        1        0        0     4     4           2          2         0   \n",
       "1        1        0        1     1     1           1          2         0   \n",
       "2        1        1        1     1     1           1          2         3   \n",
       "3        1        0        1     4     2           1          3         0   \n",
       "4        1        0        1     3     3           1          2         0   \n",
       "\n",
       "   schoolsup  famsup  ...  famrel  freetime  goout  Dalc  Walc  health  \\\n",
       "0          1       0  ...       4         3      4     1     1       3   \n",
       "1          0       1  ...       5         3      3     1     1       3   \n",
       "2          1       0  ...       4         3      2     2     3       3   \n",
       "3          0       1  ...       3         2      2     1     1       5   \n",
       "4          0       1  ...       4         3      2     1     2       5   \n",
       "\n",
       "   absences  G1  G2  G3  \n",
       "0         6   5   6   6  \n",
       "1         4   5   5   6  \n",
       "2        10   7   8  10  \n",
       "3         2  15  14  15  \n",
       "4         4   6  10  10  \n",
       "\n",
       "[5 rows x 26 columns]"
      ]
     },
     "execution_count": 6,
     "metadata": {},
     "output_type": "execute_result"
    }
   ],
   "source": [
    "from sklearn.preprocessing import LabelEncoder\n",
    "\n",
    "le = LabelEncoder()\n",
    "\n",
    "for col in non_numeric_columns:\n",
    "    struct_data[col] = le.fit_transform(struct_data[col])\n",
    "\n",
    "struct_data.head(5)"
   ]
  },
  {
   "cell_type": "markdown",
   "id": "fa212454",
   "metadata": {
    "tags": []
   },
   "source": [
    "### Editing the DAG\n",
    "\n",
    "You can pass all the attributes in the dataset to the DAG widget and construct your own DAG.\n",
    "If you would like to skip this step, you can load the example from the saved DAG file in the next cell."
   ]
  },
  {
   "cell_type": "code",
   "execution_count": 7,
   "id": "d116d810",
   "metadata": {
    "tags": []
   },
   "outputs": [
    {
     "data": {
      "application/vnd.jupyter.widget-view+json": {
       "model_id": "02269e35d271492f823aa1e26e94e9bb",
       "version_major": 2,
       "version_minor": 0
      },
      "text/plain": [
       "DAG(component='DAG', props={'attributes': ['absences', 'activities', 'address', 'Dalc', 'failures', 'famrel', …"
      ]
     },
     "metadata": {},
     "output_type": "display_data"
    }
   ],
   "source": [
    "from causalvis import DAG\n",
    "\n",
    "DAG(data=struct_data)"
   ]
  },
  {
   "cell_type": "markdown",
   "id": "76f8b509",
   "metadata": {},
   "source": [
    "### Identifying control variables\n",
    "\n",
    "Once we are satisfied with the DAG, we can set the treatment and outcome variables. In this case, we are interested in `G1` as the outcome variable, while `absences` is the treatment variable of interest. After selecting these variables, we see that other attributes in the DAG are automatically colored to reflect their relationship to the treatment and outcome.\n",
    "\n",
    "From the downloads button, we can get a list of the `confounds` and `prognostic` factors to control for."
   ]
  },
  {
   "cell_type": "code",
   "execution_count": 8,
   "id": "58367750",
   "metadata": {},
   "outputs": [],
   "source": [
    "with open('./data/DAG_student_example (1).json', 'r') as d:\n",
    "    graph = json.load(d)"
   ]
  },
  {
   "cell_type": "code",
   "execution_count": 9,
   "id": "bbca2649",
   "metadata": {},
   "outputs": [
    {
     "data": {
      "application/vnd.jupyter.widget-view+json": {
       "model_id": "83483f032d2b4b1ba399e8fd85aa5cae",
       "version_major": 2,
       "version_minor": 0
      },
      "text/plain": [
       "DAG(component='DAG', props={'attributes': None, 'graph': {'nodes': [{'x': 60.76065021003316, 'y': 411.32658125…"
      ]
     },
     "metadata": {},
     "output_type": "display_data"
    }
   ],
   "source": [
    "dg = DAG(graph=graph)\n",
    "dg"
   ]
  },
  {
   "cell_type": "code",
   "execution_count": 13,
   "id": "10aec3c7",
   "metadata": {},
   "outputs": [
    {
     "data": {
      "text/plain": [
       "['Pstatus', 'failures', 'internet', 'health', 'famsup', 'Medu']"
      ]
     },
     "execution_count": 13,
     "metadata": {},
     "output_type": "execute_result"
    }
   ],
   "source": [
    "confounds = [c['name'] for c in dg.confounds]\n",
    "confounds"
   ]
  },
  {
   "cell_type": "code",
   "execution_count": 14,
   "id": "59dc4c15",
   "metadata": {},
   "outputs": [
    {
     "data": {
      "text/plain": [
       "['studytime', 'schoolsup', 'paid', 'higher']"
      ]
     },
     "execution_count": 14,
     "metadata": {},
     "output_type": "execute_result"
    }
   ],
   "source": [
    "prognostics = [p['name'] for p in dg.prognostics]\n",
    "prognostics"
   ]
  },
  {
   "cell_type": "markdown",
   "id": "2ef7f160",
   "metadata": {},
   "source": [
    "# Cohort Construction and Refinement"
   ]
  },
  {
   "cell_type": "code",
   "execution_count": 15,
   "id": "343ce86f",
   "metadata": {},
   "outputs": [],
   "source": [
    "from causalvis import CohortEvaluator"
   ]
  },
  {
   "cell_type": "code",
   "execution_count": 16,
   "id": "4d6f88d1",
   "metadata": {},
   "outputs": [
    {
     "data": {
      "text/plain": [
       "(395, 26)"
      ]
     },
     "execution_count": 16,
     "metadata": {},
     "output_type": "execute_result"
    }
   ],
   "source": [
    "data.shape"
   ]
  },
  {
   "cell_type": "code",
   "execution_count": 17,
   "id": "bf9fc7ec",
   "metadata": {},
   "outputs": [],
   "source": [
    "a = data[\"absences\"]\n",
    "a = a >= a.median()\n",
    "a = a.astype(int)"
   ]
  },
  {
   "cell_type": "code",
   "execution_count": 18,
   "id": "3b7725b4",
   "metadata": {},
   "outputs": [],
   "source": [
    "y = data[\"G1\"]"
   ]
  },
  {
   "cell_type": "code",
   "execution_count": 19,
   "id": "5a085bc4",
   "metadata": {},
   "outputs": [
    {
     "data": {
      "text/plain": [
       "Pstatus      object\n",
       "failures      int64\n",
       "internet     object\n",
       "health        int64\n",
       "famsup       object\n",
       "Medu          int64\n",
       "studytime     int64\n",
       "schoolsup    object\n",
       "paid         object\n",
       "higher       object\n",
       "dtype: object"
      ]
     },
     "execution_count": 19,
     "metadata": {},
     "output_type": "execute_result"
    }
   ],
   "source": [
    "covariates = confounds + prognostics\n",
    "\n",
    "X = data[covariates]\n",
    "X.dtypes"
   ]
  },
  {
   "cell_type": "code",
   "execution_count": 20,
   "id": "3316de52",
   "metadata": {},
   "outputs": [
    {
     "data": {
      "text/plain": [
       "(395, 10)"
      ]
     },
     "execution_count": 20,
     "metadata": {},
     "output_type": "execute_result"
    }
   ],
   "source": [
    "X = data.loc[:, covariates]\n",
    "X = pd.get_dummies(X, drop_first=True)\n",
    "X.shape"
   ]
  },
  {
   "cell_type": "code",
   "execution_count": 21,
   "id": "eb927e6a",
   "metadata": {
    "tags": []
   },
   "outputs": [
    {
     "name": "stderr",
     "output_type": "stream",
     "text": [
      "/Users/grace/opt/anaconda3/lib/python3.8/site-packages/statsmodels/tsa/base/tsa_model.py:7: FutureWarning: pandas.Int64Index is deprecated and will be removed from pandas in a future version. Use pandas.Index with the appropriate dtype instead.\n",
      "  from pandas import (to_datetime, Int64Index, DatetimeIndex, Period,\n",
      "/Users/grace/opt/anaconda3/lib/python3.8/site-packages/statsmodels/tsa/base/tsa_model.py:7: FutureWarning: pandas.Float64Index is deprecated and will be removed from pandas in a future version. Use pandas.Index with the appropriate dtype instead.\n",
      "  from pandas import (to_datetime, Int64Index, DatetimeIndex, Period,\n"
     ]
    }
   ],
   "source": [
    "from sklearn.linear_model import LogisticRegression\n",
    "from causallib.estimation import IPW\n",
    "\n",
    "lr = LogisticRegression(solver='lbfgs', max_iter=1000)\n",
    "ipw = IPW(lr)"
   ]
  },
  {
   "cell_type": "code",
   "execution_count": 22,
   "id": "4065452e",
   "metadata": {
    "tags": []
   },
   "outputs": [
    {
     "data": {
      "text/plain": [
       "IPW(clip_max=None, clip_min=None, use_stabilized=False, verbose=False,\n",
       "    learner=LogisticRegression(max_iter=1000))"
      ]
     },
     "execution_count": 22,
     "metadata": {},
     "output_type": "execute_result"
    }
   ],
   "source": [
    "ipw.fit(X, a)"
   ]
  },
  {
   "cell_type": "code",
   "execution_count": 23,
   "id": "65fe45fe",
   "metadata": {},
   "outputs": [],
   "source": [
    "propMatrix = ipw.compute_propensity_matrix(X, a).to_dict(orient=\"records\")"
   ]
  },
  {
   "cell_type": "code",
   "execution_count": 24,
   "id": "67b175da",
   "metadata": {
    "tags": []
   },
   "outputs": [],
   "source": [
    "def formatData(X, a, y, propMatrix):\n",
    "    unadjustedData = []\n",
    "\n",
    "    confounds = X.to_dict(orient=\"records\")\n",
    "    a.reset_index(drop=True, inplace=True)\n",
    "    y.reset_index(drop=True, inplace=True)\n",
    "\n",
    "    for i in range(len(confounds)):\n",
    "        newDataInstance = confounds[i]\n",
    "        newDataInstance['treatment'] = a[i]\n",
    "        newDataInstance['propensity'] = propMatrix[i]\n",
    "\n",
    "        unadjustedData.append(newDataInstance)\n",
    "        \n",
    "    return unadjustedData"
   ]
  },
  {
   "cell_type": "markdown",
   "id": "215e8f32",
   "metadata": {
    "tags": []
   },
   "source": [
    "# IPW"
   ]
  },
  {
   "cell_type": "code",
   "execution_count": 43,
   "id": "4a455880",
   "metadata": {
    "tags": []
   },
   "outputs": [
    {
     "data": {
      "application/vnd.jupyter.widget-view+json": {
       "model_id": "97d9fbfca8a44194a66473df877ec981",
       "version_major": 2,
       "version_minor": 0
      },
      "text/plain": [
       "CohortEvaluator(component='CohortEvaluator', props={'unadjustedCohort': [{'failures': 0, 'health': 3, 'Medu': …"
      ]
     },
     "metadata": {},
     "output_type": "display_data"
    }
   ],
   "source": [
    "ceval = CohortEvaluator(unadjustedCohort=formatData(X, a, y, propMatrix))\n",
    "ceval"
   ]
  },
  {
   "cell_type": "markdown",
   "id": "5e564afd",
   "metadata": {},
   "source": [
    "Since the population is well balanced, we can go ahead and estimate the treatment effect. This can be done quite easily in causallib, using the `estimate_population_outcome` function. From the result, we can see that having < 4 absences a year causes a slightly higher score for `G1`."
   ]
  },
  {
   "cell_type": "code",
   "execution_count": 27,
   "id": "265622e1",
   "metadata": {},
   "outputs": [
    {
     "data": {
      "text/plain": [
       "0    11.036720\n",
       "1    10.797529\n",
       "dtype: float64"
      ]
     },
     "execution_count": 27,
     "metadata": {},
     "output_type": "execute_result"
    }
   ],
   "source": [
    "ipw.estimate_population_outcome(X, a, y)"
   ]
  },
  {
   "cell_type": "markdown",
   "id": "279f1aab",
   "metadata": {},
   "source": [
    "# Matching"
   ]
  },
  {
   "cell_type": "code",
   "execution_count": 28,
   "id": "2f12c2a5",
   "metadata": {},
   "outputs": [],
   "source": [
    "from causallib.estimation import IPW, Matching\n",
    "from causallib.preprocessing.transformers import PropensityTransformer\n",
    "from causallib.preprocessing.transformers import MatchingTransformer\n",
    "from sklearn.linear_model import LogisticRegression\n",
    "import pandas as pd"
   ]
  },
  {
   "cell_type": "code",
   "execution_count": 29,
   "id": "14e06d91",
   "metadata": {},
   "outputs": [],
   "source": [
    "matcher = MatchingTransformer(with_replacement=True, n_neighbors=1, caliper=2)\n",
    "matcher.fit(X, a, y)\n",
    "Xm, am, ym = matcher.transform(X, a, y)\n",
    "\n",
    "Xm.reset_index(drop=True, inplace=True)\n",
    "am.reset_index(drop=True, inplace=True)\n",
    "ym.reset_index(drop=True, inplace=True)\n",
    "\n",
    "def learner(): return LogisticRegression(solver=\"liblinear\",\n",
    "                                         max_iter=5000,\n",
    "                                         class_weight=\"balanced\")\n",
    "\n",
    "ipw = IPW(learner=learner())\n",
    "ipw.fit(Xm, am)\n",
    "propMatrixm = ipw.compute_propensity_matrix(Xm, am).to_dict(orient=\"records\")"
   ]
  },
  {
   "cell_type": "code",
   "execution_count": 30,
   "id": "e7c6564a",
   "metadata": {},
   "outputs": [
    {
     "data": {
      "text/plain": [
       "(328, 10)"
      ]
     },
     "execution_count": 30,
     "metadata": {},
     "output_type": "execute_result"
    }
   ],
   "source": [
    "Xm.shape"
   ]
  },
  {
   "cell_type": "code",
   "execution_count": 31,
   "id": "ff169b89",
   "metadata": {},
   "outputs": [
    {
     "data": {
      "application/vnd.jupyter.widget-view+json": {
       "model_id": "2dddb727a5174a1ea1db379a81cf24b2",
       "version_major": 2,
       "version_minor": 0
      },
      "text/plain": [
       "CohortEvaluator(component='CohortEvaluator', props={'unadjustedCohort': [{'failures': 0, 'health': 3, 'Medu': …"
      ]
     },
     "metadata": {},
     "output_type": "display_data"
    }
   ],
   "source": [
    "from causalvis import CohortEvaluator\n",
    "\n",
    "ceval = CohortEvaluator(adjustedCohort=formatData(Xm, am, ym, propMatrixm), unadjustedCohort=formatData(X, a, y, propMatrix))\n",
    "ceval"
   ]
  },
  {
   "cell_type": "code",
   "execution_count": 32,
   "id": "bb28406c",
   "metadata": {},
   "outputs": [],
   "source": [
    "matcher = MatchingTransformer(with_replacement=True, n_neighbors=1, caliper=1)\n",
    "matcher.fit(X, a, y)\n",
    "Xm2, am2, ym2 = matcher.transform(X, a, y)\n",
    "\n",
    "Xm2.reset_index(drop=True, inplace=True)\n",
    "am2.reset_index(drop=True, inplace=True)\n",
    "ym2.reset_index(drop=True, inplace=True)\n",
    "\n",
    "def learner(): return LogisticRegression(solver=\"liblinear\",\n",
    "                                         max_iter=5000,\n",
    "                                         class_weight=\"balanced\")\n",
    "\n",
    "ipw = IPW(learner=learner())\n",
    "ipw.fit(Xm2, am2)\n",
    "propMatrixm2 = ipw.compute_propensity_matrix(Xm2, am2).to_dict(orient=\"records\")"
   ]
  },
  {
   "cell_type": "code",
   "execution_count": 33,
   "id": "3290a5ca",
   "metadata": {},
   "outputs": [
    {
     "data": {
      "text/plain": [
       "(200, 10)"
      ]
     },
     "execution_count": 33,
     "metadata": {},
     "output_type": "execute_result"
    }
   ],
   "source": [
    "Xm2.shape"
   ]
  },
  {
   "cell_type": "code",
   "execution_count": 34,
   "id": "e43c6a18",
   "metadata": {},
   "outputs": [
    {
     "data": {
      "application/vnd.jupyter.widget-view+json": {
       "model_id": "acaa52c593414ba89867ccda9a1d809c",
       "version_major": 2,
       "version_minor": 0
      },
      "text/plain": [
       "CohortEvaluator(component='CohortEvaluator', props={'unadjustedCohort': [{'failures': 0, 'health': 3, 'Medu': …"
      ]
     },
     "metadata": {},
     "output_type": "display_data"
    }
   ],
   "source": [
    "ceval2 = CohortEvaluator(adjustedCohort=formatData(Xm2, am2, ym2, propMatrixm2), unadjustedCohort=formatData(X, a, y, propMatrix))\n",
    "ceval2"
   ]
  },
  {
   "cell_type": "code",
   "execution_count": 35,
   "id": "071d31b7",
   "metadata": {},
   "outputs": [],
   "source": [
    "propensity_transform = PropensityTransformer(\n",
    "    include_covariates=False, learner=learner())\n",
    "matcher = Matching(propensity_transform=propensity_transform,\n",
    "                   with_replacement=True, n_neighbors=1, knn_backend=\"sklearn\")\n",
    "matcher.fit(Xm2, am2, ym2)\n",
    "matches = matcher._execute_matching(Xm2, am2)"
   ]
  },
  {
   "cell_type": "code",
   "execution_count": 36,
   "id": "27cc5d9a",
   "metadata": {},
   "outputs": [
    {
     "data": {
      "text/plain": [
       "0    11.140\n",
       "1    11.565\n",
       "dtype: float64"
      ]
     },
     "execution_count": 36,
     "metadata": {},
     "output_type": "execute_result"
    }
   ],
   "source": [
    "matcher.estimate_population_outcome(Xm2, am2)"
   ]
  },
  {
   "cell_type": "code",
   "execution_count": 37,
   "id": "1eba97e1",
   "metadata": {},
   "outputs": [
    {
     "data": {
      "text/plain": [
       "0.42499999999999893"
      ]
     },
     "execution_count": 37,
     "metadata": {},
     "output_type": "execute_result"
    }
   ],
   "source": [
    "population_outcome = matcher.estimate_population_outcome(Xm2, am2)\n",
    "ATE = population_outcome[1] - population_outcome[0]\n",
    "ATE"
   ]
  },
  {
   "cell_type": "code",
   "execution_count": 38,
   "id": "edf73c1b",
   "metadata": {},
   "outputs": [],
   "source": [
    "ind_outcomes = matcher.estimate_individual_outcome(Xm2, am2).to_dict(orient=\"records\")\n",
    "\n",
    "ind_effects = []\n",
    "\n",
    "for i in ind_outcomes:\n",
    "    i_treatment = i[1]\n",
    "    i_control = i[0]\n",
    "    \n",
    "    effect = i_treatment - i_control\n",
    "    \n",
    "    ind_effects.append(effect)"
   ]
  },
  {
   "cell_type": "code",
   "execution_count": 39,
   "id": "c0b5a5c3",
   "metadata": {},
   "outputs": [],
   "source": [
    "data = []\n",
    "Xm_dict = Xm2.to_dict(orient=\"records\")\n",
    "\n",
    "for i in range(len(Xm_dict)):\n",
    "    newDataInstance = Xm_dict[i]\n",
    "    newDataInstance['treatment'] = int(am2[i])\n",
    "    newDataInstance['outcome'] = int(ym2[i])\n",
    "    newDataInstance['effect'] = int(ind_effects[i])\n",
    "    data.append(newDataInstance)"
   ]
  },
  {
   "cell_type": "code",
   "execution_count": 40,
   "id": "7e7369c1",
   "metadata": {},
   "outputs": [
    {
     "data": {
      "application/vnd.jupyter.widget-view+json": {
       "model_id": "5ae3b2fa526a486b85a024960d881a75",
       "version_major": 2,
       "version_minor": 0
      },
      "text/plain": [
       "TreatmentEffectExplorer(component='TreatmentEffectExplorer', props={'data': [{'failures': 0, 'health': 3, 'Med…"
      ]
     },
     "metadata": {},
     "output_type": "display_data"
    }
   ],
   "source": [
    "from causalvis import TreatmentEffectExplorer\n",
    "\n",
    "TreatmentEffectExplorer(data=data)"
   ]
  },
  {
   "cell_type": "code",
   "execution_count": 41,
   "id": "77599bb5",
   "metadata": {
    "tags": []
   },
   "outputs": [
    {
     "data": {
      "application/vnd.jupyter.widget-view+json": {
       "model_id": "0027cf86dd9e47ae9df8a878347cdcaf",
       "version_major": 2,
       "version_minor": 0
      },
      "text/plain": [
       "VersionHistory(component='VersionHistory', props={'versions': [], 'effect': 'effect'})"
      ]
     },
     "metadata": {},
     "output_type": "display_data"
    }
   ],
   "source": [
    "from causalvis import VersionHistory\n",
    "\n",
    "vh = VersionHistory()\n",
    "vh"
   ]
  },
  {
   "cell_type": "code",
   "execution_count": 42,
   "id": "f743fd14",
   "metadata": {
    "tags": []
   },
   "outputs": [],
   "source": [
    "vh.addVersion((dg.DAG, Xm2, ATE.tolist()))"
   ]
  },
  {
   "cell_type": "code",
   "execution_count": 124,
   "id": "01b1b9ef",
   "metadata": {
    "tags": []
   },
   "outputs": [],
   "source": [
    "vh.saveVersions()"
   ]
  },
  {
   "cell_type": "code",
   "execution_count": null,
   "id": "6a02fbf1",
   "metadata": {},
   "outputs": [],
   "source": []
  }
 ],
 "metadata": {
  "kernelspec": {
   "display_name": "Python 3",
   "language": "python",
   "name": "python3"
  },
  "language_info": {
   "codemirror_mode": {
    "name": "ipython",
    "version": 3
   },
   "file_extension": ".py",
   "mimetype": "text/x-python",
   "name": "python",
   "nbconvert_exporter": "python",
   "pygments_lexer": "ipython3",
   "version": "3.8.3"
  }
 },
 "nbformat": 4,
 "nbformat_minor": 5
}
