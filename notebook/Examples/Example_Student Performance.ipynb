{
 "cells": [
  {
   "cell_type": "code",
   "execution_count": 1,
   "id": "8e59df46-2f6b-44e7-90cb-09a86ab0bd55",
   "metadata": {},
   "outputs": [],
   "source": [
    "import json\n",
    "import pandas as pd"
   ]
  },
  {
   "cell_type": "markdown",
   "id": "d4e39224-00bd-4da8-8b9c-1998b4711418",
   "metadata": {},
   "source": [
    "### Load Data"
   ]
  },
  {
   "cell_type": "code",
   "execution_count": 2,
   "id": "c905cc1c-e35b-4c9f-81f3-c73ec981ff96",
   "metadata": {},
   "outputs": [
    {
     "data": {
      "text/html": [
       "<div>\n",
       "<style scoped>\n",
       "    .dataframe tbody tr th:only-of-type {\n",
       "        vertical-align: middle;\n",
       "    }\n",
       "\n",
       "    .dataframe tbody tr th {\n",
       "        vertical-align: top;\n",
       "    }\n",
       "\n",
       "    .dataframe thead th {\n",
       "        text-align: right;\n",
       "    }\n",
       "</style>\n",
       "<table border=\"1\" class=\"dataframe\">\n",
       "  <thead>\n",
       "    <tr style=\"text-align: right;\">\n",
       "      <th></th>\n",
       "      <th>school</th>\n",
       "      <th>sex</th>\n",
       "      <th>age</th>\n",
       "      <th>address</th>\n",
       "      <th>famsize</th>\n",
       "      <th>Pstatus</th>\n",
       "      <th>Medu</th>\n",
       "      <th>Fedu</th>\n",
       "      <th>Mjob</th>\n",
       "      <th>Fjob</th>\n",
       "      <th>...</th>\n",
       "      <th>famrel</th>\n",
       "      <th>freetime</th>\n",
       "      <th>goout</th>\n",
       "      <th>Dalc</th>\n",
       "      <th>Walc</th>\n",
       "      <th>health</th>\n",
       "      <th>absences</th>\n",
       "      <th>G1</th>\n",
       "      <th>G2</th>\n",
       "      <th>G3</th>\n",
       "    </tr>\n",
       "  </thead>\n",
       "  <tbody>\n",
       "    <tr>\n",
       "      <th>0</th>\n",
       "      <td>GP</td>\n",
       "      <td>F</td>\n",
       "      <td>18</td>\n",
       "      <td>U</td>\n",
       "      <td>GT3</td>\n",
       "      <td>A</td>\n",
       "      <td>4</td>\n",
       "      <td>4</td>\n",
       "      <td>at_home</td>\n",
       "      <td>teacher</td>\n",
       "      <td>...</td>\n",
       "      <td>4</td>\n",
       "      <td>3</td>\n",
       "      <td>4</td>\n",
       "      <td>1</td>\n",
       "      <td>1</td>\n",
       "      <td>3</td>\n",
       "      <td>4</td>\n",
       "      <td>0</td>\n",
       "      <td>11</td>\n",
       "      <td>11</td>\n",
       "    </tr>\n",
       "    <tr>\n",
       "      <th>1</th>\n",
       "      <td>GP</td>\n",
       "      <td>F</td>\n",
       "      <td>17</td>\n",
       "      <td>U</td>\n",
       "      <td>GT3</td>\n",
       "      <td>T</td>\n",
       "      <td>1</td>\n",
       "      <td>1</td>\n",
       "      <td>at_home</td>\n",
       "      <td>other</td>\n",
       "      <td>...</td>\n",
       "      <td>5</td>\n",
       "      <td>3</td>\n",
       "      <td>3</td>\n",
       "      <td>1</td>\n",
       "      <td>1</td>\n",
       "      <td>3</td>\n",
       "      <td>2</td>\n",
       "      <td>9</td>\n",
       "      <td>11</td>\n",
       "      <td>11</td>\n",
       "    </tr>\n",
       "    <tr>\n",
       "      <th>2</th>\n",
       "      <td>GP</td>\n",
       "      <td>F</td>\n",
       "      <td>15</td>\n",
       "      <td>U</td>\n",
       "      <td>LE3</td>\n",
       "      <td>T</td>\n",
       "      <td>1</td>\n",
       "      <td>1</td>\n",
       "      <td>at_home</td>\n",
       "      <td>other</td>\n",
       "      <td>...</td>\n",
       "      <td>4</td>\n",
       "      <td>3</td>\n",
       "      <td>2</td>\n",
       "      <td>2</td>\n",
       "      <td>3</td>\n",
       "      <td>3</td>\n",
       "      <td>6</td>\n",
       "      <td>12</td>\n",
       "      <td>13</td>\n",
       "      <td>12</td>\n",
       "    </tr>\n",
       "    <tr>\n",
       "      <th>3</th>\n",
       "      <td>GP</td>\n",
       "      <td>F</td>\n",
       "      <td>15</td>\n",
       "      <td>U</td>\n",
       "      <td>GT3</td>\n",
       "      <td>T</td>\n",
       "      <td>4</td>\n",
       "      <td>2</td>\n",
       "      <td>health</td>\n",
       "      <td>services</td>\n",
       "      <td>...</td>\n",
       "      <td>3</td>\n",
       "      <td>2</td>\n",
       "      <td>2</td>\n",
       "      <td>1</td>\n",
       "      <td>1</td>\n",
       "      <td>5</td>\n",
       "      <td>0</td>\n",
       "      <td>14</td>\n",
       "      <td>14</td>\n",
       "      <td>14</td>\n",
       "    </tr>\n",
       "    <tr>\n",
       "      <th>4</th>\n",
       "      <td>GP</td>\n",
       "      <td>F</td>\n",
       "      <td>16</td>\n",
       "      <td>U</td>\n",
       "      <td>GT3</td>\n",
       "      <td>T</td>\n",
       "      <td>3</td>\n",
       "      <td>3</td>\n",
       "      <td>other</td>\n",
       "      <td>other</td>\n",
       "      <td>...</td>\n",
       "      <td>4</td>\n",
       "      <td>3</td>\n",
       "      <td>2</td>\n",
       "      <td>1</td>\n",
       "      <td>2</td>\n",
       "      <td>5</td>\n",
       "      <td>0</td>\n",
       "      <td>11</td>\n",
       "      <td>13</td>\n",
       "      <td>13</td>\n",
       "    </tr>\n",
       "  </tbody>\n",
       "</table>\n",
       "<p>5 rows × 33 columns</p>\n",
       "</div>"
      ],
      "text/plain": [
       "  school sex  age address famsize Pstatus  Medu  Fedu     Mjob      Fjob  ...  \\\n",
       "0     GP   F   18       U     GT3       A     4     4  at_home   teacher  ...   \n",
       "1     GP   F   17       U     GT3       T     1     1  at_home     other  ...   \n",
       "2     GP   F   15       U     LE3       T     1     1  at_home     other  ...   \n",
       "3     GP   F   15       U     GT3       T     4     2   health  services  ...   \n",
       "4     GP   F   16       U     GT3       T     3     3    other     other  ...   \n",
       "\n",
       "  famrel freetime  goout  Dalc  Walc health absences  G1  G2  G3  \n",
       "0      4        3      4     1     1      3        4   0  11  11  \n",
       "1      5        3      3     1     1      3        2   9  11  11  \n",
       "2      4        3      2     2     3      3        6  12  13  12  \n",
       "3      3        2      2     1     1      5        0  14  14  14  \n",
       "4      4        3      2     1     2      5        0  11  13  13  \n",
       "\n",
       "[5 rows x 33 columns]"
      ]
     },
     "execution_count": 2,
     "metadata": {},
     "output_type": "execute_result"
    }
   ],
   "source": [
    "data = pd.read_csv('../student-por.csv', delimiter=';')\n",
    "data.head(5)"
   ]
  },
  {
   "cell_type": "code",
   "execution_count": 3,
   "id": "215148bf-811f-47ae-90ab-187a482924c5",
   "metadata": {},
   "outputs": [
    {
     "data": {
      "text/html": [
       "<div>\n",
       "<style scoped>\n",
       "    .dataframe tbody tr th:only-of-type {\n",
       "        vertical-align: middle;\n",
       "    }\n",
       "\n",
       "    .dataframe tbody tr th {\n",
       "        vertical-align: top;\n",
       "    }\n",
       "\n",
       "    .dataframe thead th {\n",
       "        text-align: right;\n",
       "    }\n",
       "</style>\n",
       "<table border=\"1\" class=\"dataframe\">\n",
       "  <thead>\n",
       "    <tr style=\"text-align: right;\">\n",
       "      <th></th>\n",
       "      <th>address</th>\n",
       "      <th>famsize</th>\n",
       "      <th>Pstatus</th>\n",
       "      <th>Medu</th>\n",
       "      <th>Fedu</th>\n",
       "      <th>traveltime</th>\n",
       "      <th>studytime</th>\n",
       "      <th>failures</th>\n",
       "      <th>schoolsup</th>\n",
       "      <th>famsup</th>\n",
       "      <th>...</th>\n",
       "      <th>famrel</th>\n",
       "      <th>freetime</th>\n",
       "      <th>goout</th>\n",
       "      <th>Dalc</th>\n",
       "      <th>Walc</th>\n",
       "      <th>health</th>\n",
       "      <th>absences</th>\n",
       "      <th>G1</th>\n",
       "      <th>G2</th>\n",
       "      <th>G3</th>\n",
       "    </tr>\n",
       "  </thead>\n",
       "  <tbody>\n",
       "    <tr>\n",
       "      <th>0</th>\n",
       "      <td>U</td>\n",
       "      <td>GT3</td>\n",
       "      <td>A</td>\n",
       "      <td>4</td>\n",
       "      <td>4</td>\n",
       "      <td>2</td>\n",
       "      <td>2</td>\n",
       "      <td>0</td>\n",
       "      <td>yes</td>\n",
       "      <td>no</td>\n",
       "      <td>...</td>\n",
       "      <td>4</td>\n",
       "      <td>3</td>\n",
       "      <td>4</td>\n",
       "      <td>1</td>\n",
       "      <td>1</td>\n",
       "      <td>3</td>\n",
       "      <td>4</td>\n",
       "      <td>0</td>\n",
       "      <td>11</td>\n",
       "      <td>11</td>\n",
       "    </tr>\n",
       "    <tr>\n",
       "      <th>1</th>\n",
       "      <td>U</td>\n",
       "      <td>GT3</td>\n",
       "      <td>T</td>\n",
       "      <td>1</td>\n",
       "      <td>1</td>\n",
       "      <td>1</td>\n",
       "      <td>2</td>\n",
       "      <td>0</td>\n",
       "      <td>no</td>\n",
       "      <td>yes</td>\n",
       "      <td>...</td>\n",
       "      <td>5</td>\n",
       "      <td>3</td>\n",
       "      <td>3</td>\n",
       "      <td>1</td>\n",
       "      <td>1</td>\n",
       "      <td>3</td>\n",
       "      <td>2</td>\n",
       "      <td>9</td>\n",
       "      <td>11</td>\n",
       "      <td>11</td>\n",
       "    </tr>\n",
       "    <tr>\n",
       "      <th>2</th>\n",
       "      <td>U</td>\n",
       "      <td>LE3</td>\n",
       "      <td>T</td>\n",
       "      <td>1</td>\n",
       "      <td>1</td>\n",
       "      <td>1</td>\n",
       "      <td>2</td>\n",
       "      <td>0</td>\n",
       "      <td>yes</td>\n",
       "      <td>no</td>\n",
       "      <td>...</td>\n",
       "      <td>4</td>\n",
       "      <td>3</td>\n",
       "      <td>2</td>\n",
       "      <td>2</td>\n",
       "      <td>3</td>\n",
       "      <td>3</td>\n",
       "      <td>6</td>\n",
       "      <td>12</td>\n",
       "      <td>13</td>\n",
       "      <td>12</td>\n",
       "    </tr>\n",
       "    <tr>\n",
       "      <th>3</th>\n",
       "      <td>U</td>\n",
       "      <td>GT3</td>\n",
       "      <td>T</td>\n",
       "      <td>4</td>\n",
       "      <td>2</td>\n",
       "      <td>1</td>\n",
       "      <td>3</td>\n",
       "      <td>0</td>\n",
       "      <td>no</td>\n",
       "      <td>yes</td>\n",
       "      <td>...</td>\n",
       "      <td>3</td>\n",
       "      <td>2</td>\n",
       "      <td>2</td>\n",
       "      <td>1</td>\n",
       "      <td>1</td>\n",
       "      <td>5</td>\n",
       "      <td>0</td>\n",
       "      <td>14</td>\n",
       "      <td>14</td>\n",
       "      <td>14</td>\n",
       "    </tr>\n",
       "    <tr>\n",
       "      <th>4</th>\n",
       "      <td>U</td>\n",
       "      <td>GT3</td>\n",
       "      <td>T</td>\n",
       "      <td>3</td>\n",
       "      <td>3</td>\n",
       "      <td>1</td>\n",
       "      <td>2</td>\n",
       "      <td>0</td>\n",
       "      <td>no</td>\n",
       "      <td>yes</td>\n",
       "      <td>...</td>\n",
       "      <td>4</td>\n",
       "      <td>3</td>\n",
       "      <td>2</td>\n",
       "      <td>1</td>\n",
       "      <td>2</td>\n",
       "      <td>5</td>\n",
       "      <td>0</td>\n",
       "      <td>11</td>\n",
       "      <td>13</td>\n",
       "      <td>13</td>\n",
       "    </tr>\n",
       "  </tbody>\n",
       "</table>\n",
       "<p>5 rows × 26 columns</p>\n",
       "</div>"
      ],
      "text/plain": [
       "  address famsize Pstatus  Medu  Fedu  traveltime  studytime  failures  \\\n",
       "0       U     GT3       A     4     4           2          2         0   \n",
       "1       U     GT3       T     1     1           1          2         0   \n",
       "2       U     LE3       T     1     1           1          2         0   \n",
       "3       U     GT3       T     4     2           1          3         0   \n",
       "4       U     GT3       T     3     3           1          2         0   \n",
       "\n",
       "  schoolsup famsup  ... famrel freetime goout Dalc Walc health  absences  G1  \\\n",
       "0       yes     no  ...      4        3     4    1    1      3         4   0   \n",
       "1        no    yes  ...      5        3     3    1    1      3         2   9   \n",
       "2       yes     no  ...      4        3     2    2    3      3         6  12   \n",
       "3        no    yes  ...      3        2     2    1    1      5         0  14   \n",
       "4        no    yes  ...      4        3     2    1    2      5         0  11   \n",
       "\n",
       "   G2  G3  \n",
       "0  11  11  \n",
       "1  11  11  \n",
       "2  13  12  \n",
       "3  14  14  \n",
       "4  13  13  \n",
       "\n",
       "[5 rows x 26 columns]"
      ]
     },
     "execution_count": 3,
     "metadata": {},
     "output_type": "execute_result"
    }
   ],
   "source": [
    "drop_col = ['school','sex','age','Mjob', 'Fjob','reason','guardian']\n",
    "data = data.drop(columns=drop_col)\n",
    "data.head(5)"
   ]
  },
  {
   "cell_type": "markdown",
   "id": "25c93a1d-7de6-40df-b532-22a03e836369",
   "metadata": {},
   "source": [
    "### Constructing the DAG"
   ]
  },
  {
   "cell_type": "code",
   "execution_count": 1,
   "id": "3521f3ea-085d-4b63-92bb-9e6c2c34717b",
   "metadata": {},
   "outputs": [],
   "source": [
    "from causalvis import DAG"
   ]
  },
  {
   "cell_type": "code",
   "execution_count": 5,
   "id": "ffd8d31e-718d-412d-9d51-9174ef3a919c",
   "metadata": {},
   "outputs": [
    {
     "name": "stdout",
     "output_type": "stream",
     "text": [
      "['address', 'famsize', 'Pstatus', 'schoolsup', 'famsup', 'paid', 'activities', 'nursery', 'higher', 'internet', 'romantic']\n"
     ]
    }
   ],
   "source": [
    "import numpy as np\n",
    "\n",
    "struct_data = data.copy()\n",
    "non_numeric_columns = list(struct_data.select_dtypes(exclude=[np.number]).columns)\n",
    "\n",
    "print(non_numeric_columns)"
   ]
  },
  {
   "cell_type": "code",
   "execution_count": 6,
   "id": "0ed61007-802b-4f2c-b995-681482b648c4",
   "metadata": {},
   "outputs": [
    {
     "data": {
      "text/html": [
       "<div>\n",
       "<style scoped>\n",
       "    .dataframe tbody tr th:only-of-type {\n",
       "        vertical-align: middle;\n",
       "    }\n",
       "\n",
       "    .dataframe tbody tr th {\n",
       "        vertical-align: top;\n",
       "    }\n",
       "\n",
       "    .dataframe thead th {\n",
       "        text-align: right;\n",
       "    }\n",
       "</style>\n",
       "<table border=\"1\" class=\"dataframe\">\n",
       "  <thead>\n",
       "    <tr style=\"text-align: right;\">\n",
       "      <th></th>\n",
       "      <th>address</th>\n",
       "      <th>famsize</th>\n",
       "      <th>Pstatus</th>\n",
       "      <th>Medu</th>\n",
       "      <th>Fedu</th>\n",
       "      <th>traveltime</th>\n",
       "      <th>studytime</th>\n",
       "      <th>failures</th>\n",
       "      <th>schoolsup</th>\n",
       "      <th>famsup</th>\n",
       "      <th>...</th>\n",
       "      <th>famrel</th>\n",
       "      <th>freetime</th>\n",
       "      <th>goout</th>\n",
       "      <th>Dalc</th>\n",
       "      <th>Walc</th>\n",
       "      <th>health</th>\n",
       "      <th>absences</th>\n",
       "      <th>G1</th>\n",
       "      <th>G2</th>\n",
       "      <th>G3</th>\n",
       "    </tr>\n",
       "  </thead>\n",
       "  <tbody>\n",
       "    <tr>\n",
       "      <th>0</th>\n",
       "      <td>1</td>\n",
       "      <td>0</td>\n",
       "      <td>0</td>\n",
       "      <td>4</td>\n",
       "      <td>4</td>\n",
       "      <td>2</td>\n",
       "      <td>2</td>\n",
       "      <td>0</td>\n",
       "      <td>1</td>\n",
       "      <td>0</td>\n",
       "      <td>...</td>\n",
       "      <td>4</td>\n",
       "      <td>3</td>\n",
       "      <td>4</td>\n",
       "      <td>1</td>\n",
       "      <td>1</td>\n",
       "      <td>3</td>\n",
       "      <td>4</td>\n",
       "      <td>0</td>\n",
       "      <td>11</td>\n",
       "      <td>11</td>\n",
       "    </tr>\n",
       "    <tr>\n",
       "      <th>1</th>\n",
       "      <td>1</td>\n",
       "      <td>0</td>\n",
       "      <td>1</td>\n",
       "      <td>1</td>\n",
       "      <td>1</td>\n",
       "      <td>1</td>\n",
       "      <td>2</td>\n",
       "      <td>0</td>\n",
       "      <td>0</td>\n",
       "      <td>1</td>\n",
       "      <td>...</td>\n",
       "      <td>5</td>\n",
       "      <td>3</td>\n",
       "      <td>3</td>\n",
       "      <td>1</td>\n",
       "      <td>1</td>\n",
       "      <td>3</td>\n",
       "      <td>2</td>\n",
       "      <td>9</td>\n",
       "      <td>11</td>\n",
       "      <td>11</td>\n",
       "    </tr>\n",
       "    <tr>\n",
       "      <th>2</th>\n",
       "      <td>1</td>\n",
       "      <td>1</td>\n",
       "      <td>1</td>\n",
       "      <td>1</td>\n",
       "      <td>1</td>\n",
       "      <td>1</td>\n",
       "      <td>2</td>\n",
       "      <td>0</td>\n",
       "      <td>1</td>\n",
       "      <td>0</td>\n",
       "      <td>...</td>\n",
       "      <td>4</td>\n",
       "      <td>3</td>\n",
       "      <td>2</td>\n",
       "      <td>2</td>\n",
       "      <td>3</td>\n",
       "      <td>3</td>\n",
       "      <td>6</td>\n",
       "      <td>12</td>\n",
       "      <td>13</td>\n",
       "      <td>12</td>\n",
       "    </tr>\n",
       "    <tr>\n",
       "      <th>3</th>\n",
       "      <td>1</td>\n",
       "      <td>0</td>\n",
       "      <td>1</td>\n",
       "      <td>4</td>\n",
       "      <td>2</td>\n",
       "      <td>1</td>\n",
       "      <td>3</td>\n",
       "      <td>0</td>\n",
       "      <td>0</td>\n",
       "      <td>1</td>\n",
       "      <td>...</td>\n",
       "      <td>3</td>\n",
       "      <td>2</td>\n",
       "      <td>2</td>\n",
       "      <td>1</td>\n",
       "      <td>1</td>\n",
       "      <td>5</td>\n",
       "      <td>0</td>\n",
       "      <td>14</td>\n",
       "      <td>14</td>\n",
       "      <td>14</td>\n",
       "    </tr>\n",
       "    <tr>\n",
       "      <th>4</th>\n",
       "      <td>1</td>\n",
       "      <td>0</td>\n",
       "      <td>1</td>\n",
       "      <td>3</td>\n",
       "      <td>3</td>\n",
       "      <td>1</td>\n",
       "      <td>2</td>\n",
       "      <td>0</td>\n",
       "      <td>0</td>\n",
       "      <td>1</td>\n",
       "      <td>...</td>\n",
       "      <td>4</td>\n",
       "      <td>3</td>\n",
       "      <td>2</td>\n",
       "      <td>1</td>\n",
       "      <td>2</td>\n",
       "      <td>5</td>\n",
       "      <td>0</td>\n",
       "      <td>11</td>\n",
       "      <td>13</td>\n",
       "      <td>13</td>\n",
       "    </tr>\n",
       "  </tbody>\n",
       "</table>\n",
       "<p>5 rows × 26 columns</p>\n",
       "</div>"
      ],
      "text/plain": [
       "   address  famsize  Pstatus  Medu  Fedu  traveltime  studytime  failures  \\\n",
       "0        1        0        0     4     4           2          2         0   \n",
       "1        1        0        1     1     1           1          2         0   \n",
       "2        1        1        1     1     1           1          2         0   \n",
       "3        1        0        1     4     2           1          3         0   \n",
       "4        1        0        1     3     3           1          2         0   \n",
       "\n",
       "   schoolsup  famsup  ...  famrel  freetime  goout  Dalc  Walc  health  \\\n",
       "0          1       0  ...       4         3      4     1     1       3   \n",
       "1          0       1  ...       5         3      3     1     1       3   \n",
       "2          1       0  ...       4         3      2     2     3       3   \n",
       "3          0       1  ...       3         2      2     1     1       5   \n",
       "4          0       1  ...       4         3      2     1     2       5   \n",
       "\n",
       "   absences  G1  G2  G3  \n",
       "0         4   0  11  11  \n",
       "1         2   9  11  11  \n",
       "2         6  12  13  12  \n",
       "3         0  14  14  14  \n",
       "4         0  11  13  13  \n",
       "\n",
       "[5 rows x 26 columns]"
      ]
     },
     "execution_count": 6,
     "metadata": {},
     "output_type": "execute_result"
    }
   ],
   "source": [
    "from sklearn.preprocessing import LabelEncoder\n",
    "\n",
    "le = LabelEncoder()\n",
    "\n",
    "for col in non_numeric_columns:\n",
    "    struct_data[col] = le.fit_transform(struct_data[col])\n",
    "\n",
    "struct_data.head(5)"
   ]
  },
  {
   "cell_type": "markdown",
   "id": "793fbd50-ca11-4b84-81f9-65019b9d10f7",
   "metadata": {
    "tags": []
   },
   "source": [
    "### Editing the DAG\n",
    "\n",
    "You can pass all the attributes in the dataset to the DAG widget and construct your own DAG.\n",
    "If you would like to skip this step, you can load the example from the saved DAG file in the next cell."
   ]
  },
  {
   "cell_type": "code",
   "execution_count": 7,
   "id": "d4d4e191-cb7e-461b-9e97-b846787bfbb3",
   "metadata": {},
   "outputs": [
    {
     "data": {
      "application/vnd.jupyter.widget-view+json": {
       "model_id": "68976b7ee6b640b6a35347e329092f0c",
       "version_major": 2,
       "version_minor": 0
      },
      "text/plain": [
       "DAG(component='DAG', props={'attributes': ['absences', 'activities', 'address', 'Dalc', 'failures', 'famrel', …"
      ]
     },
     "metadata": {},
     "output_type": "display_data"
    }
   ],
   "source": [
    "DAG(data=struct_data)"
   ]
  },
  {
   "cell_type": "markdown",
   "id": "954ac34d-4704-498f-a21c-54d4ad7486da",
   "metadata": {},
   "source": [
    "### Identifying control variables\n",
    "\n",
    "Once we are satisfied with the DAG, we can set the treatment and outcome variables. In this case, we are interested in `G1` as the outcome variable, while `absences` is the treatment variable of interest. After selecting these variables, we see that other attributes in the DAG are automatically colored to reflect their relationship to the treatment and outcome.\n",
    "\n",
    "From the downloads button, we can get a list of the `confounds` and `prognostic` factors to control for."
   ]
  },
  {
   "cell_type": "code",
   "execution_count": 8,
   "id": "e4888c01-27b6-45b9-8a80-681e54d5c242",
   "metadata": {},
   "outputs": [],
   "source": [
    "with open('../student_por_DAG.json', 'r') as d:\n",
    "    graph = json.load(d)"
   ]
  },
  {
   "cell_type": "code",
   "execution_count": 9,
   "id": "96a9f2a0-0604-4aad-a2ab-c529a0af839e",
   "metadata": {},
   "outputs": [
    {
     "data": {
      "application/vnd.jupyter.widget-view+json": {
       "model_id": "9cd56928c3f44d7bb82776d51d9a81c7",
       "version_major": 2,
       "version_minor": 0
      },
      "text/plain": [
       "DAG(component='DAG', props={'attributes': None, 'graph': {'nodes': [{'x': 500, 'y': 250, 'id': 1658176204175, …"
      ]
     },
     "metadata": {},
     "output_type": "display_data"
    }
   ],
   "source": [
    "DAG(graph=graph)"
   ]
  },
  {
   "cell_type": "code",
   "execution_count": 10,
   "id": "bf90c680-823c-45bc-9a41-c17c18653f10",
   "metadata": {},
   "outputs": [],
   "source": [
    "confounds = [\"failures\", \"address\", \"paid\", \"internet\", \"Pstatus\"]\n",
    "prognostics = [\"higher\", \"schoolsup\", \"studytime\"]"
   ]
  },
  {
   "cell_type": "markdown",
   "id": "554b8d11-ed2a-4f30-a17a-971ff37809e7",
   "metadata": {},
   "source": [
    "# Cohort Construction and Refinement"
   ]
  },
  {
   "cell_type": "code",
   "execution_count": 11,
   "id": "a48123a5-ce4d-436a-bbca-29952b8d1c74",
   "metadata": {},
   "outputs": [],
   "source": [
    "from causalvis import CohortEvaluator"
   ]
  },
  {
   "cell_type": "code",
   "execution_count": 12,
   "id": "d822d148-e747-4c61-ab0a-3496bfbbbca9",
   "metadata": {},
   "outputs": [
    {
     "data": {
      "text/plain": [
       "(649, 26)"
      ]
     },
     "execution_count": 12,
     "metadata": {},
     "output_type": "execute_result"
    }
   ],
   "source": [
    "data.shape"
   ]
  },
  {
   "cell_type": "code",
   "execution_count": 13,
   "id": "d5796d93-3df0-4bb1-bd91-b98042525c0f",
   "metadata": {},
   "outputs": [
    {
     "data": {
      "text/plain": [
       "8.403697996918336"
      ]
     },
     "execution_count": 13,
     "metadata": {},
     "output_type": "execute_result"
    }
   ],
   "source": [
    "from sklearn.preprocessing import LabelEncoder\n",
    "le = LabelEncoder()\n",
    "y = pd.Series(le.fit_transform(data['G1']))\n",
    "y.mean()"
   ]
  },
  {
   "cell_type": "code",
   "execution_count": 14,
   "id": "35e5cd82-0bb5-4962-81d3-327d3bf0f66e",
   "metadata": {},
   "outputs": [
    {
     "data": {
      "text/plain": [
       "3.596302003081664"
      ]
     },
     "execution_count": 14,
     "metadata": {},
     "output_type": "execute_result"
    }
   ],
   "source": [
    "a = pd.Series(le.fit_transform(data['absences']))\n",
    "a.mean()"
   ]
  },
  {
   "cell_type": "code",
   "execution_count": 15,
   "id": "95a36ed2-5242-4c98-a074-2ac13cc3f5e4",
   "metadata": {},
   "outputs": [],
   "source": [
    "def toBinary(x):\n",
    "    if x < 4: return 0\n",
    "    else: return 1\n",
    "a = a.apply(toBinary)"
   ]
  },
  {
   "cell_type": "code",
   "execution_count": 16,
   "id": "5efed9db-2970-492d-93f6-d2c6e61d4c64",
   "metadata": {},
   "outputs": [
    {
     "data": {
      "text/plain": [
       "failures      int64\n",
       "address      object\n",
       "paid         object\n",
       "internet     object\n",
       "Pstatus      object\n",
       "higher       object\n",
       "schoolsup    object\n",
       "studytime     int64\n",
       "dtype: object"
      ]
     },
     "execution_count": 16,
     "metadata": {},
     "output_type": "execute_result"
    }
   ],
   "source": [
    "confounders = confounds + prognostics\n",
    "\n",
    "X = data[confounders]\n",
    "X.dtypes"
   ]
  },
  {
   "cell_type": "code",
   "execution_count": 17,
   "id": "ea0a03e7-4e29-4652-8780-54825f99cbd4",
   "metadata": {},
   "outputs": [
    {
     "data": {
      "text/plain": [
       "(649, 8)"
      ]
     },
     "execution_count": 17,
     "metadata": {},
     "output_type": "execute_result"
    }
   ],
   "source": [
    "X = pd.get_dummies(X, prefix_sep='=', drop_first=True)\n",
    "X.shape"
   ]
  },
  {
   "cell_type": "code",
   "execution_count": 18,
   "id": "94a3bf58-9d69-4259-96d5-7aa5eb44fb23",
   "metadata": {},
   "outputs": [],
   "source": [
    "from sklearn.linear_model import LogisticRegression\n",
    "from causallib.estimation import IPW\n",
    "\n",
    "lr = LogisticRegression(solver='lbfgs', max_iter=1000)\n",
    "ipw = IPW(lr)"
   ]
  },
  {
   "cell_type": "code",
   "execution_count": 19,
   "id": "98bedb0a-2d5a-42ce-b857-5ede5af78555",
   "metadata": {},
   "outputs": [
    {
     "data": {
      "text/plain": [
       "IPW(clip_max=None, clip_min=None, use_stabilized=False, verbose=False,\n",
       "    learner=LogisticRegression(max_iter=1000))"
      ]
     },
     "execution_count": 19,
     "metadata": {},
     "output_type": "execute_result"
    }
   ],
   "source": [
    "ipw.fit(X, a)"
   ]
  },
  {
   "cell_type": "code",
   "execution_count": 20,
   "id": "6e1a35da-285f-4f2a-b826-4c36d3a0e22d",
   "metadata": {},
   "outputs": [],
   "source": [
    "propMatrix = ipw.compute_propensity_matrix(X, a).to_dict(orient=\"records\")"
   ]
  },
  {
   "cell_type": "code",
   "execution_count": 21,
   "id": "667bec81-ca90-45cc-b52e-e370193b2688",
   "metadata": {},
   "outputs": [],
   "source": [
    "def formatData(X, a, y, propMatrix):\n",
    "    unadjustedData = []\n",
    "\n",
    "    confounds = X.to_dict(orient=\"records\")\n",
    "    a.reset_index(drop=True, inplace=True)\n",
    "    y.reset_index(drop=True, inplace=True)\n",
    "\n",
    "    for i in range(len(confounds)):\n",
    "        newDataInstance = confounds[i]\n",
    "        newDataInstance['treatment'] = a[i]\n",
    "        # newDataInstance['outcome'] = y[i]\n",
    "        newDataInstance['propensity'] = propMatrix[i]\n",
    "\n",
    "        unadjustedData.append(newDataInstance)\n",
    "        \n",
    "    return unadjustedData"
   ]
  },
  {
   "cell_type": "code",
   "execution_count": 22,
   "id": "7ce78749-3a62-4899-833f-19619394ea1c",
   "metadata": {},
   "outputs": [
    {
     "data": {
      "application/vnd.jupyter.widget-view+json": {
       "model_id": "a14c9cd3e09e4bbdab5f413059f6911f",
       "version_major": 2,
       "version_minor": 0
      },
      "text/plain": [
       "CohortEvaluator(component='CohortEvaluator', props={'unadjustedCohort': [{'failures': 0, 'studytime': 2, 'addr…"
      ]
     },
     "metadata": {},
     "output_type": "display_data"
    }
   ],
   "source": [
    "ceval = CohortEvaluator(unadjustedCohort=formatData(X, a, y, propMatrix))\n",
    "ceval"
   ]
  },
  {
   "cell_type": "code",
   "execution_count": 23,
   "id": "b2ea4623-fba4-440a-9d78-d7f1b170a200",
   "metadata": {},
   "outputs": [],
   "source": [
    "# ceval.selection"
   ]
  },
  {
   "cell_type": "markdown",
   "id": "614793bf-669e-4ccf-b0ab-0b2c7821b3c7",
   "metadata": {},
   "source": [
    "# IPW"
   ]
  },
  {
   "cell_type": "markdown",
   "id": "6b09ca2d-4823-4967-ad3f-6eb014800d52",
   "metadata": {},
   "source": [
    "Since the population is well balanced, we can go ahead and estimate the treatment effect. This can be done quite easily in causallib, using the `estimate_population_outcome` function. From the result, we can see that having < 4 absences a year causes a slightly higher score for `G1`."
   ]
  },
  {
   "cell_type": "code",
   "execution_count": 24,
   "id": "8b4e75ee-09ac-4d1b-8998-77b310a34624",
   "metadata": {},
   "outputs": [
    {
     "data": {
      "text/plain": [
       "0    8.662879\n",
       "1    8.040071\n",
       "dtype: float64"
      ]
     },
     "execution_count": 24,
     "metadata": {},
     "output_type": "execute_result"
    }
   ],
   "source": [
    "ipw.estimate_population_outcome(X, a, y)"
   ]
  },
  {
   "cell_type": "markdown",
   "id": "640ede12-d4ef-4843-9d6b-22ed17672315",
   "metadata": {},
   "source": [
    "# Matching"
   ]
  },
  {
   "cell_type": "code",
   "execution_count": 25,
   "id": "25bc6369-38f5-4816-b30b-3c0db84e0373",
   "metadata": {},
   "outputs": [],
   "source": [
    "from causallib.estimation import IPW, Matching\n",
    "from causallib.preprocessing.transformers import PropensityTransformer\n",
    "from sklearn.linear_model import LogisticRegression\n",
    "import pandas as pd\n",
    "\n",
    "\n",
    "def learner(): return LogisticRegression(solver=\"liblinear\",\n",
    "                                         max_iter=5000,\n",
    "                                         class_weight=\"balanced\")"
   ]
  },
  {
   "cell_type": "code",
   "execution_count": 26,
   "id": "b59e813f-7f86-434b-bdca-6113bfa3b9b8",
   "metadata": {},
   "outputs": [],
   "source": [
    "try:\n",
    "    from causallib.contrib.faissknn import FaissNearestNeighbors\n",
    "    knn_backend = FaissNearestNeighbors\n",
    "except ImportError:\n",
    "    knn_backend = \"sklearn\""
   ]
  },
  {
   "cell_type": "code",
   "execution_count": 40,
   "id": "ee7a9965-fb29-4259-a066-c1e6204b0c91",
   "metadata": {},
   "outputs": [],
   "source": [
    "from causallib.preprocessing.transformers import MatchingTransformer\n",
    "from causallib.evaluation.weight_evaluator import calculate_covariate_balance\n",
    "caliper = np.logspace(-5.5, -1, 10)[5]\n",
    "covbal = []\n",
    "n_neighbors = 3\n",
    "\n",
    "# def match_then_ipw_weight(caliper):\n",
    "mt = MatchingTransformer(\n",
    "    propensity_transform=PropensityTransformer(\n",
    "        include_covariates=False, learner=learner()),\n",
    "    caliper=caliper,\n",
    "    n_neighbors=n_neighbors)\n",
    "mt.fit(X, a, y)\n",
    "Xm, am, ym = mt.transform(X, a, y)\n",
    "\n",
    "ipw = IPW(learner=learner())\n",
    "ipw.fit(Xm, am)\n",
    "propMatrixm = ipw.compute_propensity_matrix(Xm, am).to_dict(orient=\"records\")"
   ]
  },
  {
   "cell_type": "code",
   "execution_count": 41,
   "id": "184f5079-e815-4c63-bfb8-73cc220cca09",
   "metadata": {},
   "outputs": [
    {
     "data": {
      "text/plain": [
       "(587, 8)"
      ]
     },
     "execution_count": 41,
     "metadata": {},
     "output_type": "execute_result"
    }
   ],
   "source": [
    "Xm.reset_index(drop=True, inplace=True)\n",
    "am.reset_index(drop=True, inplace=True)\n",
    "ym.reset_index(drop=True, inplace=True)\n",
    "Xm.shape"
   ]
  },
  {
   "cell_type": "code",
   "execution_count": 42,
   "id": "a30da36f-5083-43bb-a2ea-838e56538210",
   "metadata": {},
   "outputs": [
    {
     "data": {
      "application/vnd.jupyter.widget-view+json": {
       "model_id": "65e7aba903714b5183de889cd546b625",
       "version_major": 2,
       "version_minor": 0
      },
      "text/plain": [
       "CohortEvaluator(component='CohortEvaluator', props={'unadjustedCohort': [{'failures': 0, 'studytime': 2, 'addr…"
      ]
     },
     "metadata": {},
     "output_type": "display_data"
    }
   ],
   "source": [
    "cevalm = CohortEvaluator(adjustedCohort=formatData(Xm, am, ym, propMatrixm), unadjustedCohort=formatData(X, a, y, propMatrix))\n",
    "cevalm"
   ]
  },
  {
   "cell_type": "code",
   "execution_count": 43,
   "id": "af13eee4-20a1-4db5-9dab-31b4ef7e1d4b",
   "metadata": {},
   "outputs": [],
   "source": [
    "propensity_transform = PropensityTransformer(\n",
    "    include_covariates=False, learner=learner())\n",
    "matcher = Matching(propensity_transform=propensity_transform,\n",
    "                   with_replacement=True, n_neighbors=1, knn_backend=knn_backend)\n",
    "matcher.fit(Xm, am, ym)\n",
    "matches = matcher._execute_matching(Xm, am)"
   ]
  },
  {
   "cell_type": "code",
   "execution_count": 44,
   "id": "ec90e60c-3b6a-4912-b89c-2c339172bec3",
   "metadata": {},
   "outputs": [
    {
     "data": {
      "text/plain": [
       "0    8.453152\n",
       "1    8.967632\n",
       "dtype: float64"
      ]
     },
     "execution_count": 44,
     "metadata": {},
     "output_type": "execute_result"
    }
   ],
   "source": [
    "matcher.estimate_population_outcome(Xm, am)"
   ]
  },
  {
   "cell_type": "code",
   "execution_count": 45,
   "id": "1fec5554-f163-4d89-8fa4-9da83fcb9701",
   "metadata": {},
   "outputs": [],
   "source": [
    "ind_outcomes = matcher.estimate_individual_outcome(Xm, am).to_dict(orient=\"records\")"
   ]
  },
  {
   "cell_type": "code",
   "execution_count": 46,
   "id": "7ae279db-5c00-4899-91cd-39a5e29b6fb7",
   "metadata": {},
   "outputs": [],
   "source": [
    "I_treatment = []\n",
    "I_control = []\n",
    "\n",
    "for i in ind_outcomes:\n",
    "    i_treatment = i[1]\n",
    "    i_control = i[0]\n",
    "    \n",
    "    I_treatment.append(i_treatment)\n",
    "    I_control.append(i_control)"
   ]
  },
  {
   "cell_type": "code",
   "execution_count": 47,
   "id": "2fb465ab-055c-4b07-a416-91b0938b657f",
   "metadata": {},
   "outputs": [],
   "source": [
    "ind_effects = []\n",
    "\n",
    "for i in range(len(I_treatment)):\n",
    "    treatment_val = I_treatment[i]\n",
    "    control_val = I_control[i]\n",
    "    \n",
    "    effect = treatment_val - control_val\n",
    "    \n",
    "    ind_effects.append(effect)"
   ]
  },
  {
   "cell_type": "code",
   "execution_count": 48,
   "id": "e190f20e-6cc1-4039-aa22-93392bc7abe3",
   "metadata": {},
   "outputs": [],
   "source": [
    "data = []\n",
    "Xm_dict = Xm.to_dict(orient=\"records\")\n",
    "\n",
    "for i in range(len(Xm_dict)):\n",
    "    newDataInstance = Xm_dict[i]\n",
    "    newDataInstance['treatment'] = int(am[i])\n",
    "    newDataInstance['outcome'] = int(ym[i])\n",
    "    newDataInstance['effect'] = int(ind_effects[i])\n",
    "    data.append(newDataInstance)"
   ]
  },
  {
   "cell_type": "code",
   "execution_count": 49,
   "id": "0567eeb1-312f-4f02-921e-45970287f36c",
   "metadata": {},
   "outputs": [
    {
     "data": {
      "application/vnd.jupyter.widget-view+json": {
       "model_id": "4b8d96c12d0f40d28fae5768214709b8",
       "version_major": 2,
       "version_minor": 0
      },
      "text/plain": [
       "TreatmentEffectEvaluator(component='TreatmentEffectEvaluator', props={'data': [{'failures': 0, 'studytime': 2,…"
      ]
     },
     "metadata": {},
     "output_type": "display_data"
    }
   ],
   "source": [
    "from causalvis import TreatmentEffectEvaluator\n",
    "\n",
    "TreatmentEffectEvaluator(data=data)"
   ]
  },
  {
   "cell_type": "code",
   "execution_count": 50,
   "id": "436e895d-22a0-427a-ac44-597ab683d899",
   "metadata": {},
   "outputs": [],
   "source": [
    "import json\n",
    "with open('../../public/te_test_3.json', 'w') as f:\n",
    "    json.dump(data, f)"
   ]
  },
  {
   "cell_type": "code",
   "execution_count": null,
   "id": "de23efee-5767-4042-8c9a-85442b84a206",
   "metadata": {},
   "outputs": [],
   "source": []
  }
 ],
 "metadata": {
  "kernelspec": {
   "display_name": "Python 3 (ipykernel)",
   "language": "python",
   "name": "python3"
  },
  "language_info": {
   "codemirror_mode": {
    "name": "ipython",
    "version": 3
   },
   "file_extension": ".py",
   "mimetype": "text/x-python",
   "name": "python",
   "nbconvert_exporter": "python",
   "pygments_lexer": "ipython3",
   "version": "3.8.13"
  }
 },
 "nbformat": 4,
 "nbformat_minor": 5
}
