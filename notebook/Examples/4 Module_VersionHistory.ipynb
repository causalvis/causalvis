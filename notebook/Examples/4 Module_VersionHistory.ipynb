{
 "cells": [
  {
   "cell_type": "code",
   "execution_count": 1,
   "id": "1c804154-515e-4391-b2c1-a4f885fb16e7",
   "metadata": {},
   "outputs": [],
   "source": [
    "import pandas as pd\n",
    "import json"
   ]
  },
  {
   "cell_type": "markdown",
   "id": "a82a7ea2-78be-48ce-b936-3390d6a1a7f2",
   "metadata": {},
   "source": [
    "# The VersionHistory Module\n",
    "\n",
    "In order to keep track of the various DAGs, cohorts, and ATEs, we provide the VersionHistory module as part of the causalvis package. On initialization, the VersionHistory module will be empty."
   ]
  },
  {
   "cell_type": "code",
   "execution_count": 2,
   "id": "51cd3ae9-0876-458d-b6bb-507b63d4d9ee",
   "metadata": {},
   "outputs": [],
   "source": [
    "from causalvis import VersionHistory"
   ]
  },
  {
   "cell_type": "code",
   "execution_count": 3,
   "id": "7945dad5-c1dc-44ea-84e9-a51cd12850fb",
   "metadata": {},
   "outputs": [],
   "source": [
    "vh = VersionHistory()"
   ]
  },
  {
   "cell_type": "code",
   "execution_count": 4,
   "id": "9fefb681-2c18-48ec-8e87-4cdcb1967ac2",
   "metadata": {},
   "outputs": [
    {
     "data": {
      "application/vnd.jupyter.widget-view+json": {
       "model_id": "18b72cd17f4e4f0283728f7fab403c05",
       "version_major": 2,
       "version_minor": 0
      },
      "text/plain": [
       "VersionHistory(component='VersionHistory', props={'versions': [], 'effect': 'effect'})"
      ]
     },
     "metadata": {},
     "output_type": "display_data"
    }
   ],
   "source": [
    "vh"
   ]
  },
  {
   "cell_type": "markdown",
   "id": "c28f7394-483a-4f62-8849-59cc9951ea0a",
   "metadata": {},
   "source": [
    "### Saving Versions\n",
    "\n",
    "The `.addVersion()` function of the VersionHistory module accepts tuples of `(DAG, Data, ATE)`. Each tuple represents an analysis version to be stored for later retrieval. The expected data types are `DAG: Dict`, `Data: DataFrame`, `ATE: Float`. Added versions will be automatically visualized in the above module."
   ]
  },
  {
   "cell_type": "code",
   "execution_count": 5,
   "id": "9691c3b4-dc9d-4ff6-ae1c-76f0365fa484",
   "metadata": {},
   "outputs": [],
   "source": [
    "nodelink1 = {\"nodes\":[{\"x\":1, \"y\":2}], \"links\":[]}\n",
    "\n",
    "df1 = pd.read_json('../../public/te_test.json')"
   ]
  },
  {
   "cell_type": "code",
   "execution_count": 6,
   "id": "cc18e9aa-0d3c-45d0-857d-8f78162d64c1",
   "metadata": {},
   "outputs": [],
   "source": [
    "vh.addVersion((nodelink1, df1, 3.0))"
   ]
  },
  {
   "cell_type": "code",
   "execution_count": 7,
   "id": "3ba15c2c-44ac-4303-955b-6bb8652e037b",
   "metadata": {},
   "outputs": [],
   "source": [
    "df2 = pd.read_json('../../public/te_test_2.json')\n",
    "\n",
    "vh.addVersion((nodelink1, df2, 5.0))"
   ]
  },
  {
   "cell_type": "markdown",
   "id": "cd4e6b40-d7d1-4da4-8d21-23c9b3cc9305",
   "metadata": {},
   "source": [
    "The number of saved versions can be accessed using the `.versionCount()` function."
   ]
  },
  {
   "cell_type": "code",
   "execution_count": 13,
   "id": "1e1a0f35-fa58-46fb-8073-5287b4b5c297",
   "metadata": {},
   "outputs": [
    {
     "name": "stdout",
     "output_type": "stream",
     "text": [
      "2\n"
     ]
    }
   ],
   "source": [
    "vh.versionCount()"
   ]
  },
  {
   "cell_type": "markdown",
   "id": "0b2870c3-6c33-4193-b485-1d4e0e35267c",
   "metadata": {},
   "source": [
    "All versions can be downloaded as a version using the `saveVersions()` function."
   ]
  },
  {
   "cell_type": "code",
   "execution_count": 14,
   "id": "75488eda-a92a-4b01-9dc4-3a3ec27c2a73",
   "metadata": {},
   "outputs": [],
   "source": [
    "vh.saveVersions()"
   ]
  },
  {
   "cell_type": "code",
   "execution_count": 15,
   "id": "48a94f39-4e68-4f6b-bf5e-b7a3b84b3c88",
   "metadata": {},
   "outputs": [
    {
     "data": {
      "application/vnd.jupyter.widget-view+json": {
       "model_id": "69ba71c40eac4a85be3d8bee7136c890",
       "version_major": 2,
       "version_minor": 0
      },
      "text/plain": [
       "VersionHistory(component='VersionHistory', props={'versions': [{'DAG': {'nodes': [{'x': 1, 'y': 2}], 'links': …"
      ]
     },
     "metadata": {},
     "output_type": "display_data"
    }
   ],
   "source": [
    "vh"
   ]
  },
  {
   "cell_type": "code",
   "execution_count": null,
   "id": "d50167c1-ae35-4d6e-bfcf-c02214f0a2e2",
   "metadata": {},
   "outputs": [],
   "source": []
  }
 ],
 "metadata": {
  "kernelspec": {
   "display_name": "Python 3 (ipykernel)",
   "language": "python",
   "name": "python3"
  },
  "language_info": {
   "codemirror_mode": {
    "name": "ipython",
    "version": 3
   },
   "file_extension": ".py",
   "mimetype": "text/x-python",
   "name": "python",
   "nbconvert_exporter": "python",
   "pygments_lexer": "ipython3",
   "version": "3.8.13"
  }
 },
 "nbformat": 4,
 "nbformat_minor": 5
}
