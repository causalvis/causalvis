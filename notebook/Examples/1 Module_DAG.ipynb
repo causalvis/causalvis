{
 "cells": [
  {
   "cell_type": "code",
   "execution_count": 1,
   "id": "6279a385-ecca-408f-84f2-cd74dfb9afe5",
   "metadata": {},
   "outputs": [],
   "source": [
    "import json"
   ]
  },
  {
   "cell_type": "markdown",
   "id": "9292447b-b9a4-4213-b5ed-0733b478bde9",
   "metadata": {},
   "source": [
    "# The DAG Module\n",
    "\n",
    "The DAG module can be used to create and edit DAGs (Directed Acyclic Graphs) to reflect the causal relationships between attributes. In the following examples, we walkthrough different features of the DAG module. There will also be some tasks for you to gain familiarity working with the DAG."
   ]
  },
  {
   "cell_type": "code",
   "execution_count": 2,
   "id": "96820563-0dd5-4674-8aed-00a84886bb74",
   "metadata": {},
   "outputs": [],
   "source": [
    "from causalvis import DAG"
   ]
  },
  {
   "cell_type": "markdown",
   "id": "88417d45-7374-4535-acbd-d7ef332e34c0",
   "metadata": {},
   "source": [
    "### DAG quick start\n",
    "\n",
    "The easiest way of getting started is to create an empty DAG canvas. Custom attributes can be added using the `ADD NODE` button on the left. Along the top menu are the options: `Select/Move`, `Edit Links`, `Search`, `Download Image`, and `Download JSON`.\n",
    "\n",
    "Task: \n",
    "\n",
    "1) add **three attributes (nodes)** to the canvas, \n",
    "\n",
    "- Click `+ ADD NODE'\n",
    "- Write Variable Name (any names you like)\n",
    "- Click `ADD'\n",
    "- Repeat above three times\n",
    "\n",
    "2) **position** them, and \n",
    "\n",
    "- Click and move nodes\n",
    "\n",
    "3) **connect** the nodes to express a causal relationship.\n",
    "\n",
    "- Click the connect icon next to search box\n",
    "- Click two nodes in a series to draw a directed edge between them\n",
    "- Click an edge to remove it\n",
    "\n",
    "\n",
    "Once you get familiar with the process, you can move on to the next task."
   ]
  },
  {
   "cell_type": "code",
   "execution_count": 2,
   "id": "036416e0-3550-4eb9-aa9a-8051c5aa73cd",
   "metadata": {
    "tags": []
   },
   "outputs": [
    {
     "data": {
      "application/vnd.jupyter.widget-view+json": {
       "model_id": "1058c1d6d95247eaa87c8753bf28d6c0",
       "version_major": 2,
       "version_minor": 0
      },
      "text/plain": [
       "DAG(component='DAG', props={'attributes': [], 'graph': None})"
      ]
     },
     "metadata": {},
     "output_type": "display_data"
    }
   ],
   "source": [
    "DAG()"
   ]
  },
  {
   "cell_type": "markdown",
   "id": "4f9aac61-0dee-4272-a943-865b1c29409e",
   "metadata": {},
   "source": [
    "### DAG from attributes list\n",
    "\n",
    "If the list of causal factors is known, the DAG can also be initialized by passing this list to the `attributes` prop.\n",
    "\n",
    "Task: 1) Edit the cell below to initialize the module with **five attributes.**"
   ]
  },
  {
   "cell_type": "code",
   "execution_count": 10,
   "id": "075b5e91-5afe-4214-8ecd-6afe24bad40f",
   "metadata": {},
   "outputs": [
    {
     "data": {
      "application/vnd.jupyter.widget-view+json": {
       "model_id": "1c1e9bd875424469be2f18d34fafac45",
       "version_major": 2,
       "version_minor": 0
      },
      "text/plain": [
       "DAG(component='DAG', props={'attributes': ['.', 'A', 'List', 'of', 'Variables'], 'graph': None})"
      ]
     },
     "metadata": {},
     "output_type": "display_data"
    }
   ],
   "source": [
    "dg = DAG(attributes=[\"A\", \"List\", \"of\", \"Variables\", \".\"])\n",
    "dg"
   ]
  },
  {
   "cell_type": "markdown",
   "id": "ca410205-77c0-48ea-a410-d7bd22af8425",
   "metadata": {},
   "source": [
    "### DAG from file\n",
    "\n",
    "If a json nodelink file has already been created to capture the causal relationships between attributes, the contents of this file can be passed to the DAG module using the `graph` prop."
   ]
  },
  {
   "cell_type": "code",
   "execution_count": 13,
   "id": "fedfae6b-39b1-435a-aead-523f03b7a7ff",
   "metadata": {},
   "outputs": [],
   "source": [
    "with open('../../public/DAG.json', 'r') as d:\n",
    "    graph = json.load(d)"
   ]
  },
  {
   "cell_type": "code",
   "execution_count": 18,
   "id": "f44b4629-0766-4669-8951-a0f1d65648a9",
   "metadata": {
    "tags": []
   },
   "outputs": [
    {
     "data": {
      "application/vnd.jupyter.widget-view+json": {
       "model_id": "e67154b9de9247f3bab21e2fd6a6ac6c",
       "version_major": 2,
       "version_minor": 0
      },
      "text/plain": [
       "DAG(component='DAG', props={'attributes': None, 'graph': {'nodes': [{'x': 728.2895763246523, 'y': 83.853498218…"
      ]
     },
     "metadata": {},
     "output_type": "display_data"
    }
   ],
   "source": [
    "dg2 = DAG(graph=graph)\n",
    "dg2"
   ]
  },
  {
   "cell_type": "markdown",
   "id": "aa9b26d8-3af2-4f31-aa31-168a7316417d",
   "metadata": {},
   "source": [
    "Once a graph has been created (such as in the cell above), treatment and outcome variables can be set using the context menu for each attribute in the list on the left. To pull up the context menu, `Shift - Right Click` on the attribute name.\n",
    "\n",
    "Setting the treatment and outcome variables will prompt an automatic highlighting of other attributes in the DAG to reflect their relationship to the treatment and outcome. The color legend can be seen on the bottom right.\n",
    "\n",
    "Task: 1) Set `absences` as the **treatment** variable, 2) Set `G1` as the **outcome** variable, 3) **save** the DAG as an png image (click the image icon on the top right corner)."
   ]
  },
  {
   "cell_type": "markdown",
   "id": "2f9fbfd1-0c4e-4d44-8932-ce633719fca0",
   "metadata": {},
   "source": [
    "### Obtaining Controls\n",
    "\n",
    "The list of confounds, colliders, mediators, and prognostic variables can be accessed using the `Download JSON` button (top right). They can also be obtained by accessing the python variable such as `dg.confounds`.\n",
    "\n",
    "Task: 1) Get the **confounds and prognostic variables** of the DAG above.\n",
    "- `dg.mediators`\n",
    "- `dg.confounds`\n",
    "- `dg.prognostic`\n",
    "- `dg.colliders`"
   ]
  },
  {
   "cell_type": "code",
   "execution_count": 24,
   "id": "63ecaae6-899e-451a-b126-f09f8c2352b7",
   "metadata": {
    "tags": []
   },
   "outputs": [
    {
     "data": {
      "text/plain": [
       "[{'x': 772.9974349287219,\n",
       "  'y': 83.8534982181423,\n",
       "  'name': 'address',\n",
       "  'id': 1654633751261,\n",
       "  'children': {},\n",
       "  'parents': {}},\n",
       " {'x': 630.5364416359243,\n",
       "  'y': 196.9156004380896,\n",
       "  'name': 'Pstatus',\n",
       "  'id': 1654633751280,\n",
       "  'children': {},\n",
       "  'parents': {}},\n",
       " {'x': 940,\n",
       "  'y': 420.62860531976867,\n",
       "  'name': 'failures',\n",
       "  'id': 1654633751260,\n",
       "  'children': {},\n",
       "  'parents': {}},\n",
       " {'x': 850.7105472179201,\n",
       "  'y': 214.66998632429113,\n",
       "  'name': 'paid',\n",
       "  'id': 1654633751235,\n",
       "  'children': {},\n",
       "  'parents': {}},\n",
       " {'x': 835.6618795143202,\n",
       "  'y': 361.4791805256952,\n",
       "  'name': 'internet',\n",
       "  'id': 1654633751275,\n",
       "  'children': {},\n",
       "  'parents': {}}]"
      ]
     },
     "execution_count": 24,
     "metadata": {},
     "output_type": "execute_result"
    }
   ],
   "source": [
    "dg2.confounds"
   ]
  },
  {
   "cell_type": "markdown",
   "id": "88046e70-f033-4c27-af96-f0fdb9afde5a",
   "metadata": {
    "tags": []
   },
   "source": [
    "### DAG from DataFrame\n",
    "\n",
    "The DAG can also be initialized by passing in a pandas `DataFrame` using the `data` prop. In the following example, we load a dataset of student school performance. After dropping columns that contain sensitive demographic information, we pass the `DataFrame` to the DAG module.\n",
    "\n",
    "This example is from [Causalnex](https://causalnex.readthedocs.io/en/latest/03_tutorial/01_first_tutorial.html)."
   ]
  },
  {
   "cell_type": "code",
   "execution_count": 25,
   "id": "6b3becc7-27f6-46a7-ab29-abb3082e4044",
   "metadata": {},
   "outputs": [
    {
     "data": {
      "text/html": [
       "<div>\n",
       "<style scoped>\n",
       "    .dataframe tbody tr th:only-of-type {\n",
       "        vertical-align: middle;\n",
       "    }\n",
       "\n",
       "    .dataframe tbody tr th {\n",
       "        vertical-align: top;\n",
       "    }\n",
       "\n",
       "    .dataframe thead th {\n",
       "        text-align: right;\n",
       "    }\n",
       "</style>\n",
       "<table border=\"1\" class=\"dataframe\">\n",
       "  <thead>\n",
       "    <tr style=\"text-align: right;\">\n",
       "      <th></th>\n",
       "      <th>school</th>\n",
       "      <th>sex</th>\n",
       "      <th>age</th>\n",
       "      <th>address</th>\n",
       "      <th>famsize</th>\n",
       "      <th>Pstatus</th>\n",
       "      <th>Medu</th>\n",
       "      <th>Fedu</th>\n",
       "      <th>Mjob</th>\n",
       "      <th>Fjob</th>\n",
       "      <th>...</th>\n",
       "      <th>famrel</th>\n",
       "      <th>freetime</th>\n",
       "      <th>goout</th>\n",
       "      <th>Dalc</th>\n",
       "      <th>Walc</th>\n",
       "      <th>health</th>\n",
       "      <th>absences</th>\n",
       "      <th>G1</th>\n",
       "      <th>G2</th>\n",
       "      <th>G3</th>\n",
       "    </tr>\n",
       "  </thead>\n",
       "  <tbody>\n",
       "    <tr>\n",
       "      <th>0</th>\n",
       "      <td>GP</td>\n",
       "      <td>F</td>\n",
       "      <td>18</td>\n",
       "      <td>U</td>\n",
       "      <td>GT3</td>\n",
       "      <td>A</td>\n",
       "      <td>4</td>\n",
       "      <td>4</td>\n",
       "      <td>at_home</td>\n",
       "      <td>teacher</td>\n",
       "      <td>...</td>\n",
       "      <td>4</td>\n",
       "      <td>3</td>\n",
       "      <td>4</td>\n",
       "      <td>1</td>\n",
       "      <td>1</td>\n",
       "      <td>3</td>\n",
       "      <td>4</td>\n",
       "      <td>0</td>\n",
       "      <td>11</td>\n",
       "      <td>11</td>\n",
       "    </tr>\n",
       "    <tr>\n",
       "      <th>1</th>\n",
       "      <td>GP</td>\n",
       "      <td>F</td>\n",
       "      <td>17</td>\n",
       "      <td>U</td>\n",
       "      <td>GT3</td>\n",
       "      <td>T</td>\n",
       "      <td>1</td>\n",
       "      <td>1</td>\n",
       "      <td>at_home</td>\n",
       "      <td>other</td>\n",
       "      <td>...</td>\n",
       "      <td>5</td>\n",
       "      <td>3</td>\n",
       "      <td>3</td>\n",
       "      <td>1</td>\n",
       "      <td>1</td>\n",
       "      <td>3</td>\n",
       "      <td>2</td>\n",
       "      <td>9</td>\n",
       "      <td>11</td>\n",
       "      <td>11</td>\n",
       "    </tr>\n",
       "    <tr>\n",
       "      <th>2</th>\n",
       "      <td>GP</td>\n",
       "      <td>F</td>\n",
       "      <td>15</td>\n",
       "      <td>U</td>\n",
       "      <td>LE3</td>\n",
       "      <td>T</td>\n",
       "      <td>1</td>\n",
       "      <td>1</td>\n",
       "      <td>at_home</td>\n",
       "      <td>other</td>\n",
       "      <td>...</td>\n",
       "      <td>4</td>\n",
       "      <td>3</td>\n",
       "      <td>2</td>\n",
       "      <td>2</td>\n",
       "      <td>3</td>\n",
       "      <td>3</td>\n",
       "      <td>6</td>\n",
       "      <td>12</td>\n",
       "      <td>13</td>\n",
       "      <td>12</td>\n",
       "    </tr>\n",
       "    <tr>\n",
       "      <th>3</th>\n",
       "      <td>GP</td>\n",
       "      <td>F</td>\n",
       "      <td>15</td>\n",
       "      <td>U</td>\n",
       "      <td>GT3</td>\n",
       "      <td>T</td>\n",
       "      <td>4</td>\n",
       "      <td>2</td>\n",
       "      <td>health</td>\n",
       "      <td>services</td>\n",
       "      <td>...</td>\n",
       "      <td>3</td>\n",
       "      <td>2</td>\n",
       "      <td>2</td>\n",
       "      <td>1</td>\n",
       "      <td>1</td>\n",
       "      <td>5</td>\n",
       "      <td>0</td>\n",
       "      <td>14</td>\n",
       "      <td>14</td>\n",
       "      <td>14</td>\n",
       "    </tr>\n",
       "    <tr>\n",
       "      <th>4</th>\n",
       "      <td>GP</td>\n",
       "      <td>F</td>\n",
       "      <td>16</td>\n",
       "      <td>U</td>\n",
       "      <td>GT3</td>\n",
       "      <td>T</td>\n",
       "      <td>3</td>\n",
       "      <td>3</td>\n",
       "      <td>other</td>\n",
       "      <td>other</td>\n",
       "      <td>...</td>\n",
       "      <td>4</td>\n",
       "      <td>3</td>\n",
       "      <td>2</td>\n",
       "      <td>1</td>\n",
       "      <td>2</td>\n",
       "      <td>5</td>\n",
       "      <td>0</td>\n",
       "      <td>11</td>\n",
       "      <td>13</td>\n",
       "      <td>13</td>\n",
       "    </tr>\n",
       "  </tbody>\n",
       "</table>\n",
       "<p>5 rows × 33 columns</p>\n",
       "</div>"
      ],
      "text/plain": [
       "  school sex  age address famsize Pstatus  Medu  Fedu     Mjob      Fjob  ...  \\\n",
       "0     GP   F   18       U     GT3       A     4     4  at_home   teacher  ...   \n",
       "1     GP   F   17       U     GT3       T     1     1  at_home     other  ...   \n",
       "2     GP   F   15       U     LE3       T     1     1  at_home     other  ...   \n",
       "3     GP   F   15       U     GT3       T     4     2   health  services  ...   \n",
       "4     GP   F   16       U     GT3       T     3     3    other     other  ...   \n",
       "\n",
       "  famrel freetime  goout  Dalc  Walc health absences  G1  G2  G3  \n",
       "0      4        3      4     1     1      3        4   0  11  11  \n",
       "1      5        3      3     1     1      3        2   9  11  11  \n",
       "2      4        3      2     2     3      3        6  12  13  12  \n",
       "3      3        2      2     1     1      5        0  14  14  14  \n",
       "4      4        3      2     1     2      5        0  11  13  13  \n",
       "\n",
       "[5 rows x 33 columns]"
      ]
     },
     "execution_count": 25,
     "metadata": {},
     "output_type": "execute_result"
    }
   ],
   "source": [
    "import pandas as pd\n",
    "\n",
    "data = pd.read_csv('../student-por.csv', delimiter=';')\n",
    "data.head(5)"
   ]
  },
  {
   "cell_type": "code",
   "execution_count": 26,
   "id": "67f6c891-2661-48f3-b9bc-239c4ff954a6",
   "metadata": {},
   "outputs": [
    {
     "data": {
      "text/html": [
       "<div>\n",
       "<style scoped>\n",
       "    .dataframe tbody tr th:only-of-type {\n",
       "        vertical-align: middle;\n",
       "    }\n",
       "\n",
       "    .dataframe tbody tr th {\n",
       "        vertical-align: top;\n",
       "    }\n",
       "\n",
       "    .dataframe thead th {\n",
       "        text-align: right;\n",
       "    }\n",
       "</style>\n",
       "<table border=\"1\" class=\"dataframe\">\n",
       "  <thead>\n",
       "    <tr style=\"text-align: right;\">\n",
       "      <th></th>\n",
       "      <th>address</th>\n",
       "      <th>famsize</th>\n",
       "      <th>Pstatus</th>\n",
       "      <th>Medu</th>\n",
       "      <th>Fedu</th>\n",
       "      <th>traveltime</th>\n",
       "      <th>studytime</th>\n",
       "      <th>failures</th>\n",
       "      <th>schoolsup</th>\n",
       "      <th>famsup</th>\n",
       "      <th>...</th>\n",
       "      <th>famrel</th>\n",
       "      <th>freetime</th>\n",
       "      <th>goout</th>\n",
       "      <th>Dalc</th>\n",
       "      <th>Walc</th>\n",
       "      <th>health</th>\n",
       "      <th>absences</th>\n",
       "      <th>G1</th>\n",
       "      <th>G2</th>\n",
       "      <th>G3</th>\n",
       "    </tr>\n",
       "  </thead>\n",
       "  <tbody>\n",
       "    <tr>\n",
       "      <th>0</th>\n",
       "      <td>U</td>\n",
       "      <td>GT3</td>\n",
       "      <td>A</td>\n",
       "      <td>4</td>\n",
       "      <td>4</td>\n",
       "      <td>2</td>\n",
       "      <td>2</td>\n",
       "      <td>0</td>\n",
       "      <td>yes</td>\n",
       "      <td>no</td>\n",
       "      <td>...</td>\n",
       "      <td>4</td>\n",
       "      <td>3</td>\n",
       "      <td>4</td>\n",
       "      <td>1</td>\n",
       "      <td>1</td>\n",
       "      <td>3</td>\n",
       "      <td>4</td>\n",
       "      <td>0</td>\n",
       "      <td>11</td>\n",
       "      <td>11</td>\n",
       "    </tr>\n",
       "    <tr>\n",
       "      <th>1</th>\n",
       "      <td>U</td>\n",
       "      <td>GT3</td>\n",
       "      <td>T</td>\n",
       "      <td>1</td>\n",
       "      <td>1</td>\n",
       "      <td>1</td>\n",
       "      <td>2</td>\n",
       "      <td>0</td>\n",
       "      <td>no</td>\n",
       "      <td>yes</td>\n",
       "      <td>...</td>\n",
       "      <td>5</td>\n",
       "      <td>3</td>\n",
       "      <td>3</td>\n",
       "      <td>1</td>\n",
       "      <td>1</td>\n",
       "      <td>3</td>\n",
       "      <td>2</td>\n",
       "      <td>9</td>\n",
       "      <td>11</td>\n",
       "      <td>11</td>\n",
       "    </tr>\n",
       "    <tr>\n",
       "      <th>2</th>\n",
       "      <td>U</td>\n",
       "      <td>LE3</td>\n",
       "      <td>T</td>\n",
       "      <td>1</td>\n",
       "      <td>1</td>\n",
       "      <td>1</td>\n",
       "      <td>2</td>\n",
       "      <td>0</td>\n",
       "      <td>yes</td>\n",
       "      <td>no</td>\n",
       "      <td>...</td>\n",
       "      <td>4</td>\n",
       "      <td>3</td>\n",
       "      <td>2</td>\n",
       "      <td>2</td>\n",
       "      <td>3</td>\n",
       "      <td>3</td>\n",
       "      <td>6</td>\n",
       "      <td>12</td>\n",
       "      <td>13</td>\n",
       "      <td>12</td>\n",
       "    </tr>\n",
       "    <tr>\n",
       "      <th>3</th>\n",
       "      <td>U</td>\n",
       "      <td>GT3</td>\n",
       "      <td>T</td>\n",
       "      <td>4</td>\n",
       "      <td>2</td>\n",
       "      <td>1</td>\n",
       "      <td>3</td>\n",
       "      <td>0</td>\n",
       "      <td>no</td>\n",
       "      <td>yes</td>\n",
       "      <td>...</td>\n",
       "      <td>3</td>\n",
       "      <td>2</td>\n",
       "      <td>2</td>\n",
       "      <td>1</td>\n",
       "      <td>1</td>\n",
       "      <td>5</td>\n",
       "      <td>0</td>\n",
       "      <td>14</td>\n",
       "      <td>14</td>\n",
       "      <td>14</td>\n",
       "    </tr>\n",
       "    <tr>\n",
       "      <th>4</th>\n",
       "      <td>U</td>\n",
       "      <td>GT3</td>\n",
       "      <td>T</td>\n",
       "      <td>3</td>\n",
       "      <td>3</td>\n",
       "      <td>1</td>\n",
       "      <td>2</td>\n",
       "      <td>0</td>\n",
       "      <td>no</td>\n",
       "      <td>yes</td>\n",
       "      <td>...</td>\n",
       "      <td>4</td>\n",
       "      <td>3</td>\n",
       "      <td>2</td>\n",
       "      <td>1</td>\n",
       "      <td>2</td>\n",
       "      <td>5</td>\n",
       "      <td>0</td>\n",
       "      <td>11</td>\n",
       "      <td>13</td>\n",
       "      <td>13</td>\n",
       "    </tr>\n",
       "  </tbody>\n",
       "</table>\n",
       "<p>5 rows × 26 columns</p>\n",
       "</div>"
      ],
      "text/plain": [
       "  address famsize Pstatus  Medu  Fedu  traveltime  studytime  failures  \\\n",
       "0       U     GT3       A     4     4           2          2         0   \n",
       "1       U     GT3       T     1     1           1          2         0   \n",
       "2       U     LE3       T     1     1           1          2         0   \n",
       "3       U     GT3       T     4     2           1          3         0   \n",
       "4       U     GT3       T     3     3           1          2         0   \n",
       "\n",
       "  schoolsup famsup  ... famrel freetime goout Dalc Walc health  absences  G1  \\\n",
       "0       yes     no  ...      4        3     4    1    1      3         4   0   \n",
       "1        no    yes  ...      5        3     3    1    1      3         2   9   \n",
       "2       yes     no  ...      4        3     2    2    3      3         6  12   \n",
       "3        no    yes  ...      3        2     2    1    1      5         0  14   \n",
       "4        no    yes  ...      4        3     2    1    2      5         0  11   \n",
       "\n",
       "   G2  G3  \n",
       "0  11  11  \n",
       "1  11  11  \n",
       "2  13  12  \n",
       "3  14  14  \n",
       "4  13  13  \n",
       "\n",
       "[5 rows x 26 columns]"
      ]
     },
     "execution_count": 26,
     "metadata": {},
     "output_type": "execute_result"
    }
   ],
   "source": [
    "drop_col = ['school','sex','age','Mjob', 'Fjob','reason','guardian']\n",
    "data = data.drop(columns=drop_col)\n",
    "data.head(5)"
   ]
  },
  {
   "cell_type": "code",
   "execution_count": 21,
   "id": "18601ed7-0ebf-438b-bd57-24b0c316360c",
   "metadata": {},
   "outputs": [
    {
     "name": "stdout",
     "output_type": "stream",
     "text": [
      "['address', 'famsize', 'Pstatus', 'schoolsup', 'famsup', 'paid', 'activities', 'nursery', 'higher', 'internet', 'romantic']\n"
     ]
    }
   ],
   "source": [
    "import numpy as np\n",
    "\n",
    "struct_data = data.copy()\n",
    "non_numeric_columns = list(struct_data.select_dtypes(exclude=[np.number]).columns)\n",
    "\n",
    "print(non_numeric_columns)"
   ]
  },
  {
   "cell_type": "code",
   "execution_count": 22,
   "id": "f35b6877-40e3-448a-93ae-d1017c03da49",
   "metadata": {},
   "outputs": [
    {
     "data": {
      "text/html": [
       "<div>\n",
       "<style scoped>\n",
       "    .dataframe tbody tr th:only-of-type {\n",
       "        vertical-align: middle;\n",
       "    }\n",
       "\n",
       "    .dataframe tbody tr th {\n",
       "        vertical-align: top;\n",
       "    }\n",
       "\n",
       "    .dataframe thead th {\n",
       "        text-align: right;\n",
       "    }\n",
       "</style>\n",
       "<table border=\"1\" class=\"dataframe\">\n",
       "  <thead>\n",
       "    <tr style=\"text-align: right;\">\n",
       "      <th></th>\n",
       "      <th>address</th>\n",
       "      <th>famsize</th>\n",
       "      <th>Pstatus</th>\n",
       "      <th>Medu</th>\n",
       "      <th>Fedu</th>\n",
       "      <th>traveltime</th>\n",
       "      <th>studytime</th>\n",
       "      <th>failures</th>\n",
       "      <th>schoolsup</th>\n",
       "      <th>famsup</th>\n",
       "      <th>...</th>\n",
       "      <th>famrel</th>\n",
       "      <th>freetime</th>\n",
       "      <th>goout</th>\n",
       "      <th>Dalc</th>\n",
       "      <th>Walc</th>\n",
       "      <th>health</th>\n",
       "      <th>absences</th>\n",
       "      <th>G1</th>\n",
       "      <th>G2</th>\n",
       "      <th>G3</th>\n",
       "    </tr>\n",
       "  </thead>\n",
       "  <tbody>\n",
       "    <tr>\n",
       "      <th>0</th>\n",
       "      <td>1</td>\n",
       "      <td>0</td>\n",
       "      <td>0</td>\n",
       "      <td>4</td>\n",
       "      <td>4</td>\n",
       "      <td>2</td>\n",
       "      <td>2</td>\n",
       "      <td>0</td>\n",
       "      <td>1</td>\n",
       "      <td>0</td>\n",
       "      <td>...</td>\n",
       "      <td>4</td>\n",
       "      <td>3</td>\n",
       "      <td>4</td>\n",
       "      <td>1</td>\n",
       "      <td>1</td>\n",
       "      <td>3</td>\n",
       "      <td>4</td>\n",
       "      <td>0</td>\n",
       "      <td>11</td>\n",
       "      <td>11</td>\n",
       "    </tr>\n",
       "    <tr>\n",
       "      <th>1</th>\n",
       "      <td>1</td>\n",
       "      <td>0</td>\n",
       "      <td>1</td>\n",
       "      <td>1</td>\n",
       "      <td>1</td>\n",
       "      <td>1</td>\n",
       "      <td>2</td>\n",
       "      <td>0</td>\n",
       "      <td>0</td>\n",
       "      <td>1</td>\n",
       "      <td>...</td>\n",
       "      <td>5</td>\n",
       "      <td>3</td>\n",
       "      <td>3</td>\n",
       "      <td>1</td>\n",
       "      <td>1</td>\n",
       "      <td>3</td>\n",
       "      <td>2</td>\n",
       "      <td>9</td>\n",
       "      <td>11</td>\n",
       "      <td>11</td>\n",
       "    </tr>\n",
       "    <tr>\n",
       "      <th>2</th>\n",
       "      <td>1</td>\n",
       "      <td>1</td>\n",
       "      <td>1</td>\n",
       "      <td>1</td>\n",
       "      <td>1</td>\n",
       "      <td>1</td>\n",
       "      <td>2</td>\n",
       "      <td>0</td>\n",
       "      <td>1</td>\n",
       "      <td>0</td>\n",
       "      <td>...</td>\n",
       "      <td>4</td>\n",
       "      <td>3</td>\n",
       "      <td>2</td>\n",
       "      <td>2</td>\n",
       "      <td>3</td>\n",
       "      <td>3</td>\n",
       "      <td>6</td>\n",
       "      <td>12</td>\n",
       "      <td>13</td>\n",
       "      <td>12</td>\n",
       "    </tr>\n",
       "    <tr>\n",
       "      <th>3</th>\n",
       "      <td>1</td>\n",
       "      <td>0</td>\n",
       "      <td>1</td>\n",
       "      <td>4</td>\n",
       "      <td>2</td>\n",
       "      <td>1</td>\n",
       "      <td>3</td>\n",
       "      <td>0</td>\n",
       "      <td>0</td>\n",
       "      <td>1</td>\n",
       "      <td>...</td>\n",
       "      <td>3</td>\n",
       "      <td>2</td>\n",
       "      <td>2</td>\n",
       "      <td>1</td>\n",
       "      <td>1</td>\n",
       "      <td>5</td>\n",
       "      <td>0</td>\n",
       "      <td>14</td>\n",
       "      <td>14</td>\n",
       "      <td>14</td>\n",
       "    </tr>\n",
       "    <tr>\n",
       "      <th>4</th>\n",
       "      <td>1</td>\n",
       "      <td>0</td>\n",
       "      <td>1</td>\n",
       "      <td>3</td>\n",
       "      <td>3</td>\n",
       "      <td>1</td>\n",
       "      <td>2</td>\n",
       "      <td>0</td>\n",
       "      <td>0</td>\n",
       "      <td>1</td>\n",
       "      <td>...</td>\n",
       "      <td>4</td>\n",
       "      <td>3</td>\n",
       "      <td>2</td>\n",
       "      <td>1</td>\n",
       "      <td>2</td>\n",
       "      <td>5</td>\n",
       "      <td>0</td>\n",
       "      <td>11</td>\n",
       "      <td>13</td>\n",
       "      <td>13</td>\n",
       "    </tr>\n",
       "  </tbody>\n",
       "</table>\n",
       "<p>5 rows × 26 columns</p>\n",
       "</div>"
      ],
      "text/plain": [
       "   address  famsize  Pstatus  Medu  Fedu  traveltime  studytime  failures  \\\n",
       "0        1        0        0     4     4           2          2         0   \n",
       "1        1        0        1     1     1           1          2         0   \n",
       "2        1        1        1     1     1           1          2         0   \n",
       "3        1        0        1     4     2           1          3         0   \n",
       "4        1        0        1     3     3           1          2         0   \n",
       "\n",
       "   schoolsup  famsup  ...  famrel  freetime  goout  Dalc  Walc  health  \\\n",
       "0          1       0  ...       4         3      4     1     1       3   \n",
       "1          0       1  ...       5         3      3     1     1       3   \n",
       "2          1       0  ...       4         3      2     2     3       3   \n",
       "3          0       1  ...       3         2      2     1     1       5   \n",
       "4          0       1  ...       4         3      2     1     2       5   \n",
       "\n",
       "   absences  G1  G2  G3  \n",
       "0         4   0  11  11  \n",
       "1         2   9  11  11  \n",
       "2         6  12  13  12  \n",
       "3         0  14  14  14  \n",
       "4         0  11  13  13  \n",
       "\n",
       "[5 rows x 26 columns]"
      ]
     },
     "execution_count": 22,
     "metadata": {},
     "output_type": "execute_result"
    }
   ],
   "source": [
    "from sklearn.preprocessing import LabelEncoder\n",
    "\n",
    "le = LabelEncoder()\n",
    "\n",
    "for col in non_numeric_columns:\n",
    "    struct_data[col] = le.fit_transform(struct_data[col])\n",
    "\n",
    "struct_data.head(5)"
   ]
  },
  {
   "cell_type": "code",
   "execution_count": 23,
   "id": "a0dabfd4-7be9-4168-bff0-5ef5dce11561",
   "metadata": {},
   "outputs": [
    {
     "data": {
      "application/vnd.jupyter.widget-view+json": {
       "model_id": "ebb23e9120b5472bae9d08575eab68eb",
       "version_major": 2,
       "version_minor": 0
      },
      "text/plain": [
       "DAG(component='DAG', props={'attributes': ['absences', 'activities', 'address', 'Dalc', 'failures', 'famrel', …"
      ]
     },
     "metadata": {},
     "output_type": "display_data"
    }
   ],
   "source": [
    "DAG(data=struct_data)"
   ]
  },
  {
   "cell_type": "markdown",
   "id": "07d3164e-8dda-40b2-b8e6-407cc53078ae",
   "metadata": {},
   "source": [
    "### DAG from NetworkX and Causalnex\n",
    "\n",
    "Causal discovery packages such as [Causalnex](https://causalnex.readthedocs.io/en/latest/index.html) can also be used with the Causalvis DAG module. If you do not have Causalnex on your machine, you can skip the following example.\n",
    "\n",
    "Note that the Causalnex package outputs a [NetworkX](https://networkx.org/documentation/stable/index.html) graph. The DAG module accepts graphs of this type using the `nx_graph` prop. The layout of the nodes will be automatically processed (Causalvis assumes no x and y coordinates are provided). Any NetworkX graph can be passed to this prop, and it is not limited to Causalnex outputs."
   ]
  },
  {
   "cell_type": "code",
   "execution_count": 13,
   "id": "5432d04b-f83d-4fa7-b631-dfe11b226306",
   "metadata": {},
   "outputs": [],
   "source": [
    "import warnings\n",
    "from causalnex.structure import StructureModel\n",
    "\n",
    "warnings.filterwarnings(\"ignore\")  # silence warnings\n",
    "\n",
    "sm = StructureModel()"
   ]
  },
  {
   "cell_type": "code",
   "execution_count": 14,
   "id": "62539428-ddc7-4366-aa05-b7b3d14d1539",
   "metadata": {},
   "outputs": [],
   "source": [
    "from causalnex.structure.notears import from_pandas\n",
    "\n",
    "sm = from_pandas(struct_data)"
   ]
  },
  {
   "cell_type": "code",
   "execution_count": 15,
   "id": "c7ba6227-0db3-478b-a5cf-f6ea7e44dc23",
   "metadata": {},
   "outputs": [
    {
     "data": {
      "image/png": "[encoded data removed]",
      "text/plain": [
       "<IPython.core.display.Image object>"
      ]
     },
     "execution_count": 15,
     "metadata": {},
     "output_type": "execute_result"
    }
   ],
   "source": [
    "from IPython.display import Image\n",
    "from causalnex.plots import plot_structure, NODE_STYLE, EDGE_STYLE\n",
    "\n",
    "sm.remove_edges_below_threshold(0.8)\n",
    "viz = plot_structure(\n",
    "    sm,\n",
    "    graph_attributes={\"scale\": \"0.5\"},\n",
    "    all_node_attributes=NODE_STYLE.WEAK,\n",
    "    all_edge_attributes=EDGE_STYLE.WEAK,\n",
    ")\n",
    "Image(viz.draw(format='png'))"
   ]
  },
  {
   "cell_type": "code",
   "execution_count": 16,
   "id": "86dc3769-1d14-4b2a-9c3d-04f3c85bc4e1",
   "metadata": {},
   "outputs": [
    {
     "data": {
      "application/vnd.jupyter.widget-view+json": {
       "model_id": "91b41290714c4ecf93dbb799892cef7c",
       "version_major": 2,
       "version_minor": 0
      },
      "text/plain": [
       "DAG(component='DAG', props={'attributes': None, 'graph': {'nodes': [{'x': -0.3948684560354587, 'y': 0.10818540…"
      ]
     },
     "metadata": {},
     "output_type": "display_data"
    }
   ],
   "source": [
    "DAG(nx_graph=sm)"
   ]
  },
  {
   "cell_type": "code",
   "execution_count": null,
   "id": "2066b5f2-9a6a-4955-9176-7365e9804ca9",
   "metadata": {},
   "outputs": [],
   "source": []
  }
 ],
 "metadata": {
  "kernelspec": {
   "display_name": "Python 3 (ipykernel)",
   "language": "python",
   "name": "python3"
  },
  "language_info": {
   "codemirror_mode": {
    "name": "ipython",
    "version": 3
   },
   "file_extension": ".py",
   "mimetype": "text/x-python",
   "name": "python",
   "nbconvert_exporter": "python",
   "pygments_lexer": "ipython3",
   "version": "3.8.13"
  }
 },
 "nbformat": 4,
 "nbformat_minor": 5
}
