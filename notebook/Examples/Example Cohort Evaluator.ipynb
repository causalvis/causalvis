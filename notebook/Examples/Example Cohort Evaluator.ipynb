{
 "cells": [
  {
   "cell_type": "code",
   "execution_count": 25,
   "id": "4ce0ac95-b97b-469c-9c20-eeb5cf1046d8",
   "metadata": {},
   "outputs": [],
   "source": [
    "from causalvis import CohortEvaluator"
   ]
  },
  {
   "cell_type": "code",
   "execution_count": 26,
   "id": "1e03b82d-a77e-4b3f-b301-002ae8e25a99",
   "metadata": {},
   "outputs": [],
   "source": [
    "import numpy as np\n",
    "import pandas as pd\n",
    "\n",
    "def read_data_from_UCI():\n",
    "    \"\"\"Reads the bank-marketing data table from a zip file directly from UCI\"\"\"\n",
    "    import zipfile\n",
    "    import io\n",
    "    from urllib import request\n",
    "\n",
    "    url = \"https://archive.ics.uci.edu/ml/machine-learning-databases/00222/bank-additional.zip\"\n",
    "    with request.urlopen(url) as r:\n",
    "        with zipfile.ZipFile(io.BytesIO(r.read())) as zf:\n",
    "            csv_file = zf.open(\"bank-additional/bank-additional-full.csv\")\n",
    "            df = pd.read_csv(csv_file, sep=\";\")\n",
    "    return df"
   ]
  },
  {
   "cell_type": "code",
   "execution_count": 27,
   "id": "e44dda1f-ea34-470e-8872-bd39494dd0fe",
   "metadata": {},
   "outputs": [
    {
     "data": {
      "text/plain": [
       "(41188, 21)"
      ]
     },
     "execution_count": 27,
     "metadata": {},
     "output_type": "execute_result"
    }
   ],
   "source": [
    "data = read_data_from_UCI()\n",
    "data.shape"
   ]
  },
  {
   "cell_type": "code",
   "execution_count": 28,
   "id": "ffce4be6-a31f-452f-a046-298ebdc81926",
   "metadata": {},
   "outputs": [
    {
     "data": {
      "text/plain": [
       "Index(['age', 'job', 'marital', 'education', 'default', 'housing', 'loan',\n",
       "       'contact', 'month', 'day_of_week', 'duration', 'campaign', 'pdays',\n",
       "       'previous', 'poutcome', 'emp.var.rate', 'cons.price.idx',\n",
       "       'cons.conf.idx', 'euribor3m', 'nr.employed', 'y'],\n",
       "      dtype='object')"
      ]
     },
     "execution_count": 28,
     "metadata": {},
     "output_type": "execute_result"
    }
   ],
   "source": [
    "data.columns"
   ]
  },
  {
   "cell_type": "code",
   "execution_count": 29,
   "id": "a973a0cf-8703-4dd3-a099-32a833402e17",
   "metadata": {},
   "outputs": [
    {
     "name": "stdout",
     "output_type": "stream",
     "text": [
      "['no' 'yes']\n"
     ]
    },
    {
     "data": {
      "text/plain": [
       "0.11265417111780131"
      ]
     },
     "execution_count": 29,
     "metadata": {},
     "output_type": "execute_result"
    }
   ],
   "source": [
    "print(data['y'].unique())\n",
    "\n",
    "from sklearn.preprocessing import LabelEncoder\n",
    "le = LabelEncoder()\n",
    "y = pd.Series(le.fit_transform(data['y']))\n",
    "y.mean()"
   ]
  },
  {
   "cell_type": "code",
   "execution_count": 30,
   "id": "81f652e7-b8af-4950-82e1-1c22646a23eb",
   "metadata": {},
   "outputs": [
    {
     "name": "stdout",
     "output_type": "stream",
     "text": [
      "['telephone' 'cellular']\n"
     ]
    },
    {
     "data": {
      "text/plain": [
       "0.3652520151500437"
      ]
     },
     "execution_count": 30,
     "metadata": {},
     "output_type": "execute_result"
    }
   ],
   "source": [
    "print(data['contact'].unique())\n",
    "a = pd.Series(le.fit_transform(data['contact']))\n",
    "a.mean()"
   ]
  },
  {
   "cell_type": "code",
   "execution_count": 31,
   "id": "71afcf91-1213-4b25-9665-ab7dc9a2c040",
   "metadata": {},
   "outputs": [],
   "source": [
    "confounders = ['age', 'job', 'marital', 'education', 'default', 'housing', 'loan', 'pdays',\n",
    "       'previous', 'poutcome', 'emp.var.rate', 'cons.price.idx', 'cons.conf.idx', 'euribor3m', 'nr.employed']"
   ]
  },
  {
   "cell_type": "code",
   "execution_count": 32,
   "id": "c0e507d0-80db-43f6-bdbd-d55be08c244a",
   "metadata": {},
   "outputs": [],
   "source": [
    "confounders += ['month', 'campaign']"
   ]
  },
  {
   "cell_type": "code",
   "execution_count": 33,
   "id": "49fcdfd1-657f-4601-a3db-ffe61b653a6a",
   "metadata": {},
   "outputs": [
    {
     "data": {
      "text/plain": [
       "age                 int64\n",
       "job                object\n",
       "marital            object\n",
       "education          object\n",
       "default            object\n",
       "housing            object\n",
       "loan               object\n",
       "pdays               int64\n",
       "previous            int64\n",
       "poutcome           object\n",
       "emp.var.rate      float64\n",
       "cons.price.idx    float64\n",
       "cons.conf.idx     float64\n",
       "euribor3m         float64\n",
       "nr.employed       float64\n",
       "month              object\n",
       "campaign            int64\n",
       "dtype: object"
      ]
     },
     "execution_count": 33,
     "metadata": {},
     "output_type": "execute_result"
    }
   ],
   "source": [
    "X = data[confounders]\n",
    "X.dtypes"
   ]
  },
  {
   "cell_type": "code",
   "execution_count": 34,
   "id": "6ad69ced-d5cc-4b1e-b600-570eab24eaa2",
   "metadata": {},
   "outputs": [
    {
     "data": {
      "text/html": [
       "<div>\n",
       "<style scoped>\n",
       "    .dataframe tbody tr th:only-of-type {\n",
       "        vertical-align: middle;\n",
       "    }\n",
       "\n",
       "    .dataframe tbody tr th {\n",
       "        vertical-align: top;\n",
       "    }\n",
       "\n",
       "    .dataframe thead th {\n",
       "        text-align: right;\n",
       "    }\n",
       "</style>\n",
       "<table border=\"1\" class=\"dataframe\">\n",
       "  <thead>\n",
       "    <tr style=\"text-align: right;\">\n",
       "      <th></th>\n",
       "      <th>age</th>\n",
       "      <th>pdays</th>\n",
       "      <th>previous</th>\n",
       "      <th>emp.var.rate</th>\n",
       "      <th>cons.price.idx</th>\n",
       "      <th>cons.conf.idx</th>\n",
       "      <th>euribor3m</th>\n",
       "      <th>nr.employed</th>\n",
       "      <th>campaign</th>\n",
       "      <th>job=blue-collar</th>\n",
       "      <th>...</th>\n",
       "      <th>poutcome=success</th>\n",
       "      <th>month=aug</th>\n",
       "      <th>month=dec</th>\n",
       "      <th>month=jul</th>\n",
       "      <th>month=jun</th>\n",
       "      <th>month=mar</th>\n",
       "      <th>month=may</th>\n",
       "      <th>month=nov</th>\n",
       "      <th>month=oct</th>\n",
       "      <th>month=sep</th>\n",
       "    </tr>\n",
       "  </thead>\n",
       "  <tbody>\n",
       "    <tr>\n",
       "      <th>0</th>\n",
       "      <td>56</td>\n",
       "      <td>999</td>\n",
       "      <td>0</td>\n",
       "      <td>1.1</td>\n",
       "      <td>93.994</td>\n",
       "      <td>-36.4</td>\n",
       "      <td>4.857</td>\n",
       "      <td>5191.0</td>\n",
       "      <td>1</td>\n",
       "      <td>0</td>\n",
       "      <td>...</td>\n",
       "      <td>0</td>\n",
       "      <td>0</td>\n",
       "      <td>0</td>\n",
       "      <td>0</td>\n",
       "      <td>0</td>\n",
       "      <td>0</td>\n",
       "      <td>1</td>\n",
       "      <td>0</td>\n",
       "      <td>0</td>\n",
       "      <td>0</td>\n",
       "    </tr>\n",
       "    <tr>\n",
       "      <th>1</th>\n",
       "      <td>57</td>\n",
       "      <td>999</td>\n",
       "      <td>0</td>\n",
       "      <td>1.1</td>\n",
       "      <td>93.994</td>\n",
       "      <td>-36.4</td>\n",
       "      <td>4.857</td>\n",
       "      <td>5191.0</td>\n",
       "      <td>1</td>\n",
       "      <td>0</td>\n",
       "      <td>...</td>\n",
       "      <td>0</td>\n",
       "      <td>0</td>\n",
       "      <td>0</td>\n",
       "      <td>0</td>\n",
       "      <td>0</td>\n",
       "      <td>0</td>\n",
       "      <td>1</td>\n",
       "      <td>0</td>\n",
       "      <td>0</td>\n",
       "      <td>0</td>\n",
       "    </tr>\n",
       "    <tr>\n",
       "      <th>2</th>\n",
       "      <td>37</td>\n",
       "      <td>999</td>\n",
       "      <td>0</td>\n",
       "      <td>1.1</td>\n",
       "      <td>93.994</td>\n",
       "      <td>-36.4</td>\n",
       "      <td>4.857</td>\n",
       "      <td>5191.0</td>\n",
       "      <td>1</td>\n",
       "      <td>0</td>\n",
       "      <td>...</td>\n",
       "      <td>0</td>\n",
       "      <td>0</td>\n",
       "      <td>0</td>\n",
       "      <td>0</td>\n",
       "      <td>0</td>\n",
       "      <td>0</td>\n",
       "      <td>1</td>\n",
       "      <td>0</td>\n",
       "      <td>0</td>\n",
       "      <td>0</td>\n",
       "    </tr>\n",
       "    <tr>\n",
       "      <th>3</th>\n",
       "      <td>40</td>\n",
       "      <td>999</td>\n",
       "      <td>0</td>\n",
       "      <td>1.1</td>\n",
       "      <td>93.994</td>\n",
       "      <td>-36.4</td>\n",
       "      <td>4.857</td>\n",
       "      <td>5191.0</td>\n",
       "      <td>1</td>\n",
       "      <td>0</td>\n",
       "      <td>...</td>\n",
       "      <td>0</td>\n",
       "      <td>0</td>\n",
       "      <td>0</td>\n",
       "      <td>0</td>\n",
       "      <td>0</td>\n",
       "      <td>0</td>\n",
       "      <td>1</td>\n",
       "      <td>0</td>\n",
       "      <td>0</td>\n",
       "      <td>0</td>\n",
       "    </tr>\n",
       "    <tr>\n",
       "      <th>4</th>\n",
       "      <td>56</td>\n",
       "      <td>999</td>\n",
       "      <td>0</td>\n",
       "      <td>1.1</td>\n",
       "      <td>93.994</td>\n",
       "      <td>-36.4</td>\n",
       "      <td>4.857</td>\n",
       "      <td>5191.0</td>\n",
       "      <td>1</td>\n",
       "      <td>0</td>\n",
       "      <td>...</td>\n",
       "      <td>0</td>\n",
       "      <td>0</td>\n",
       "      <td>0</td>\n",
       "      <td>0</td>\n",
       "      <td>0</td>\n",
       "      <td>0</td>\n",
       "      <td>1</td>\n",
       "      <td>0</td>\n",
       "      <td>0</td>\n",
       "      <td>0</td>\n",
       "    </tr>\n",
       "  </tbody>\n",
       "</table>\n",
       "<p>5 rows × 47 columns</p>\n",
       "</div>"
      ],
      "text/plain": [
       "   age  pdays  previous  emp.var.rate  cons.price.idx  cons.conf.idx  \\\n",
       "0   56    999         0           1.1          93.994          -36.4   \n",
       "1   57    999         0           1.1          93.994          -36.4   \n",
       "2   37    999         0           1.1          93.994          -36.4   \n",
       "3   40    999         0           1.1          93.994          -36.4   \n",
       "4   56    999         0           1.1          93.994          -36.4   \n",
       "\n",
       "   euribor3m  nr.employed  campaign  job=blue-collar  ...  poutcome=success  \\\n",
       "0      4.857       5191.0         1                0  ...                 0   \n",
       "1      4.857       5191.0         1                0  ...                 0   \n",
       "2      4.857       5191.0         1                0  ...                 0   \n",
       "3      4.857       5191.0         1                0  ...                 0   \n",
       "4      4.857       5191.0         1                0  ...                 0   \n",
       "\n",
       "   month=aug  month=dec  month=jul  month=jun  month=mar  month=may  \\\n",
       "0          0          0          0          0          0          1   \n",
       "1          0          0          0          0          0          1   \n",
       "2          0          0          0          0          0          1   \n",
       "3          0          0          0          0          0          1   \n",
       "4          0          0          0          0          0          1   \n",
       "\n",
       "   month=nov  month=oct  month=sep  \n",
       "0          0          0          0  \n",
       "1          0          0          0  \n",
       "2          0          0          0  \n",
       "3          0          0          0  \n",
       "4          0          0          0  \n",
       "\n",
       "[5 rows x 47 columns]"
      ]
     },
     "execution_count": 34,
     "metadata": {},
     "output_type": "execute_result"
    }
   ],
   "source": [
    "X = pd.get_dummies(X, prefix_sep='=', drop_first=True)\n",
    "X.head()"
   ]
  },
  {
   "cell_type": "code",
   "execution_count": 35,
   "id": "3301a035-a6da-41a0-b56e-5364cc83e615",
   "metadata": {},
   "outputs": [],
   "source": [
    "from sklearn.linear_model import LogisticRegression\n",
    "from causallib.estimation import IPW\n",
    "\n",
    "lr = LogisticRegression(solver='lbfgs', max_iter=1000)\n",
    "#lr = LogisticRegression(penalty='l1', solver='saga', max_iter=1000)\n",
    "#lr = GradientBoostingClassifier()\n",
    "ipw = IPW(lr)"
   ]
  },
  {
   "cell_type": "code",
   "execution_count": 36,
   "id": "dedf5427-5220-4093-9de1-afebe183aeb2",
   "metadata": {},
   "outputs": [
    {
     "name": "stderr",
     "output_type": "stream",
     "text": [
      "/Users/graceguo/opt/anaconda3/envs/causalnex/lib/python3.8/site-packages/sklearn/linear_model/_logistic.py:763: ConvergenceWarning: lbfgs failed to converge (status=1):\n",
      "STOP: TOTAL NO. of ITERATIONS REACHED LIMIT.\n",
      "\n",
      "Increase the number of iterations (max_iter) or scale the data as shown in:\n",
      "    https://scikit-learn.org/stable/modules/preprocessing.html\n",
      "Please also refer to the documentation for alternative solver options:\n",
      "    https://scikit-learn.org/stable/modules/linear_model.html#logistic-regression\n",
      "  n_iter_i = _check_optimize_result(\n"
     ]
    },
    {
     "data": {
      "text/plain": [
       "IPW(clip_max=None, clip_min=None, use_stabilized=False, verbose=False,\n",
       "    learner=LogisticRegression(max_iter=1000))"
      ]
     },
     "execution_count": 36,
     "metadata": {},
     "output_type": "execute_result"
    }
   ],
   "source": [
    "ipw.fit(X, a)"
   ]
  },
  {
   "cell_type": "code",
   "execution_count": 37,
   "id": "350953a9-f072-4e5c-9692-0b45ff8daf30",
   "metadata": {},
   "outputs": [
    {
     "data": {
      "text/plain": [
       "0    0.153863\n",
       "1    0.208020\n",
       "dtype: float64"
      ]
     },
     "execution_count": 37,
     "metadata": {},
     "output_type": "execute_result"
    }
   ],
   "source": [
    "outcomes = ipw.estimate_population_outcome(X, a, y)\n",
    "outcomes"
   ]
  },
  {
   "cell_type": "code",
   "execution_count": 38,
   "id": "a93fecd0-ee0a-4d2b-b30f-4a562b777a3e",
   "metadata": {},
   "outputs": [],
   "source": [
    "propMatrix = ipw.compute_propensity_matrix(X, a).to_dict(orient=\"records\")"
   ]
  },
  {
   "cell_type": "code",
   "execution_count": 39,
   "id": "6e58b516-937a-49f8-b1a8-bc449e54c070",
   "metadata": {},
   "outputs": [],
   "source": [
    "unadjustedData = []\n",
    "\n",
    "confounds = X.to_dict(orient=\"records\")\n",
    "\n",
    "for i in range(len(confounds)):\n",
    "    newDataInstance = confounds[i]\n",
    "    newDataInstance['treatment'] = a[i]\n",
    "    newDataInstance['outcome'] = y[i]\n",
    "    newDataInstance['propensity'] = propMatrix[i]\n",
    "    \n",
    "    unadjustedData.append(newDataInstance)"
   ]
  },
  {
   "cell_type": "code",
   "execution_count": 40,
   "id": "efe4a071-52ef-4042-899e-11b9606b5c3a",
   "metadata": {},
   "outputs": [
    {
     "data": {
      "application/vnd.jupyter.widget-view+json": {
       "model_id": "89a374db0406486b8d713626190948af",
       "version_major": 2,
       "version_minor": 0
      },
      "text/plain": [
       "CohortEvaluator(component='CohortEvaluator', props={'unadjustedCohort': [{'age': 56, 'pdays': 999, 'previous':…"
      ]
     },
     "metadata": {},
     "output_type": "display_data"
    }
   ],
   "source": [
    "ceval = CohortEvaluator(unadjustedCohort=unadjustedData)\n",
    "ceval"
   ]
  },
  {
   "cell_type": "code",
   "execution_count": 52,
   "id": "5dd01e27-928a-4efd-8fac-37a25da48953",
   "metadata": {},
   "outputs": [
    {
     "data": {
      "text/plain": [
       "{'confounds': [], 'propensity': [], 'treatment': []}"
      ]
     },
     "execution_count": 52,
     "metadata": {},
     "output_type": "execute_result"
    }
   ],
   "source": [
    "# df = pd.DataFrame(ceval.iselection[\"treatments\"])\n",
    "ceval.iselection"
   ]
  },
  {
   "cell_type": "markdown",
   "id": "806eefb5-6dc3-410e-a677-e0c031c78cf2",
   "metadata": {},
   "source": [
    "# Refine Cohort"
   ]
  },
  {
   "cell_type": "code",
   "execution_count": 27,
   "id": "76ddd84e-5a76-43a8-81a3-1f4e9b497f46",
   "metadata": {},
   "outputs": [
    {
     "data": {
      "text/plain": [
       "1.0"
      ]
     },
     "execution_count": 27,
     "metadata": {},
     "output_type": "execute_result"
    }
   ],
   "source": [
    "indExclude = (X['cons.price.idx'] > 93.92) & (X['euribor3m'] > 4.5)\n",
    "a[indExclude].mean()"
   ]
  },
  {
   "cell_type": "code",
   "execution_count": 51,
   "id": "6a870a69-758c-459c-a645-9a5a368c703f",
   "metadata": {
    "tags": []
   },
   "outputs": [
    {
     "name": "stdout",
     "output_type": "stream",
     "text": [
      "0.14498640322192008\n",
      "0.1000654022236756\n"
     ]
    }
   ],
   "source": [
    "y2 = y.loc[~indExclude].reset_index(drop=True)\n",
    "a2 = a.loc[~indExclude].reset_index(drop=True)\n",
    "X2 = X.loc[~indExclude].reset_index(drop=True)\n",
    "print(y2.mean())\n",
    "print(a2.mean())"
   ]
  },
  {
   "cell_type": "code",
   "execution_count": 52,
   "id": "1209cd97-9329-42e8-813c-5bfdcce80675",
   "metadata": {},
   "outputs": [
    {
     "data": {
      "text/plain": [
       "IPW(clip_max=None, clip_min=None, use_stabilized=False, verbose=False,\n",
       "    learner=LogisticRegression(max_iter=1000))"
      ]
     },
     "execution_count": 52,
     "metadata": {},
     "output_type": "execute_result"
    }
   ],
   "source": [
    "ipw.fit(X2, a2)"
   ]
  },
  {
   "cell_type": "code",
   "execution_count": 53,
   "id": "252c3541-43a3-433c-a5bc-b93b08433942",
   "metadata": {},
   "outputs": [],
   "source": [
    "propMatrix2 = ipw.compute_propensity_matrix(X2, a2).to_dict(orient=\"records\")"
   ]
  },
  {
   "cell_type": "code",
   "execution_count": 57,
   "id": "87b52157-2bc4-48d9-acf6-0f77f2ac6a82",
   "metadata": {},
   "outputs": [],
   "source": [
    "refinedData = []\n",
    "\n",
    "confounds2 = X2.to_dict(orient=\"records\")\n",
    "\n",
    "for i in range(len(confounds2)):\n",
    "    newDataInstance = confounds2[i]\n",
    "    newDataInstance['treatment'] = a2[i]\n",
    "    newDataInstance['outcome'] = y2[i]\n",
    "    newDataInstance['propensity'] = propMatrix2[i]\n",
    "    \n",
    "    refinedData.append(newDataInstance)"
   ]
  },
  {
   "cell_type": "code",
   "execution_count": 58,
   "id": "ec9f9271-a091-42c5-a210-c14507bc028b",
   "metadata": {},
   "outputs": [
    {
     "data": {
      "application/vnd.jupyter.widget-view+json": {
       "model_id": "4344819d3e0742d294c41f47546c6092",
       "version_major": 2,
       "version_minor": 0
      },
      "text/plain": [
       "CohortEvaluator(component='CohortEvaluator', props={'unadjustedCohort': [{'age': 41, 'pdays': 999, 'previous':…"
      ]
     },
     "metadata": {},
     "output_type": "display_data"
    }
   ],
   "source": [
    "CohortEvaluator(unadjustedCohort=refinedData)"
   ]
  },
  {
   "cell_type": "code",
   "execution_count": null,
   "id": "016abad0-44b8-42b4-9038-b6f1717afa68",
   "metadata": {},
   "outputs": [],
   "source": []
  }
 ],
 "metadata": {
  "kernelspec": {
   "display_name": "Python 3 (ipykernel)",
   "language": "python",
   "name": "python3"
  },
  "language_info": {
   "codemirror_mode": {
    "name": "ipython",
    "version": 3
   },
   "file_extension": ".py",
   "mimetype": "text/x-python",
   "name": "python",
   "nbconvert_exporter": "python",
   "pygments_lexer": "ipython3",
   "version": "3.8.13"
  }
 },
 "nbformat": 4,
 "nbformat_minor": 5
}
