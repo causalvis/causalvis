{
 "cells": [
  {
   "cell_type": "code",
   "execution_count": 1,
   "id": "51cd3ae9-0876-458d-b6bb-507b63d4d9ee",
   "metadata": {},
   "outputs": [],
   "source": [
    "from causalvis import VersionHistory"
   ]
  },
  {
   "cell_type": "code",
   "execution_count": 2,
   "id": "7945dad5-c1dc-44ea-84e9-a51cd12850fb",
   "metadata": {},
   "outputs": [],
   "source": [
    "vh = VersionHistory()"
   ]
  },
  {
   "cell_type": "code",
   "execution_count": 3,
   "id": "9fefb681-2c18-48ec-8e87-4cdcb1967ac2",
   "metadata": {},
   "outputs": [
    {
     "data": {
      "application/vnd.jupyter.widget-view+json": {
       "model_id": "1181bd36e1244cca95c9212c46eb5140",
       "version_major": 2,
       "version_minor": 0
      },
      "text/plain": [
       "VersionHistory(component='VersionHistory', props={'versions': []})"
      ]
     },
     "metadata": {},
     "output_type": "display_data"
    }
   ],
   "source": [
    "vh"
   ]
  },
  {
   "cell_type": "code",
   "execution_count": 4,
   "id": "cea2134d-e99b-4e98-a32a-8ae96573a1a0",
   "metadata": {},
   "outputs": [],
   "source": [
    "import pandas as pd\n",
    "\n",
    "df = pd.DataFrame([1, 2, 3, 4, 5])\n",
    "\n",
    "vh.addVersion(({\"nodes\":[], \"links\":[]}, df, 3))"
   ]
  },
  {
   "cell_type": "code",
   "execution_count": 5,
   "id": "1e1a0f35-fa58-46fb-8073-5287b4b5c297",
   "metadata": {},
   "outputs": [
    {
     "name": "stdout",
     "output_type": "stream",
     "text": [
      "1\n"
     ]
    }
   ],
   "source": [
    "vh.versionCount()"
   ]
  },
  {
   "cell_type": "code",
   "execution_count": 7,
   "id": "2a8922ab-fa57-4b67-9593-29ae49c12ab0",
   "metadata": {},
   "outputs": [
    {
     "data": {
      "text/plain": [
       "'DAG 1'"
      ]
     },
     "execution_count": 7,
     "metadata": {},
     "output_type": "execute_result"
    }
   ],
   "source": [
    "vh.value"
   ]
  },
  {
   "cell_type": "code",
   "execution_count": 12,
   "id": "e460def4-8544-4477-9583-e08e22cdb1cd",
   "metadata": {},
   "outputs": [],
   "source": [
    "df2 = pd.DataFrame([5, 4, 3, 2, 1])\n",
    "\n",
    "vh.addVersion(({\"nodes\":[], \"links\":[]}, df2, 3))"
   ]
  },
  {
   "cell_type": "code",
   "execution_count": 9,
   "id": "8a786c08-1060-4a2b-8eab-463f627540aa",
   "metadata": {},
   "outputs": [],
   "source": [
    "df3 = pd.DataFrame([3, 6])\n",
    "\n",
    "vh.addVersion(({\"nodes\":[1, 3], \"links\":[]}, df3, 3))"
   ]
  },
  {
   "cell_type": "code",
   "execution_count": 8,
   "id": "75488eda-a92a-4b01-9dc4-3a3ec27c2a73",
   "metadata": {},
   "outputs": [],
   "source": [
    "vh.saveVersions()"
   ]
  },
  {
   "cell_type": "code",
   "execution_count": 7,
   "id": "015b4da5-7615-4784-8bc8-3c4341cc4aa1",
   "metadata": {},
   "outputs": [
    {
     "name": "stdout",
     "output_type": "stream",
     "text": [
      "assertion\n"
     ]
    }
   ],
   "source": [
    "try:\n",
    "    assert(len([1, 2, 3]) == 2)\n",
    "except AssertionError:\n",
    "    print(\"assertion\")"
   ]
  },
  {
   "cell_type": "code",
   "execution_count": 8,
   "id": "58f3eba5-5f43-492d-b6ce-5d27200b4b21",
   "metadata": {},
   "outputs": [],
   "source": [
    "assert(type([1, 2, 3]) == list)"
   ]
  },
  {
   "cell_type": "code",
   "execution_count": 9,
   "id": "6da6c40b-b9b6-4875-be79-cd98797442dc",
   "metadata": {},
   "outputs": [],
   "source": [
    "a = [1, 2]\n",
    "b = a.append(3)"
   ]
  },
  {
   "cell_type": "code",
   "execution_count": 10,
   "id": "3ce7727c-5e09-42cc-9127-20681ea242c7",
   "metadata": {},
   "outputs": [],
   "source": [
    "b"
   ]
  },
  {
   "cell_type": "code",
   "execution_count": 12,
   "id": "82ce35a3-e8ca-472e-ac74-94bcab1f988c",
   "metadata": {},
   "outputs": [
    {
     "data": {
      "application/vnd.jupyter.widget-view+json": {
       "model_id": "68a5087b47e3464fa436efbd80d096e6",
       "version_major": 2,
       "version_minor": 0
      },
      "text/plain": [
       "VersionHistory(component='VersionHistory', props={'versions': [(2, 2, 3)]})"
      ]
     },
     "metadata": {},
     "output_type": "display_data"
    }
   ],
   "source": [
    "vh"
   ]
  },
  {
   "cell_type": "code",
   "execution_count": 13,
   "id": "06525ace-0546-430a-b1f8-5e70dd31c90e",
   "metadata": {},
   "outputs": [
    {
     "name": "stdout",
     "output_type": "stream",
     "text": [
      "The VersionHistory module expects input in the form of (DAG, Cohort, ATE)\n",
      "versions [(2, 2, 3), (2, 2)] [(2, 2, 3), (2, 2)]\n",
      "{'versions': [(2, 2, 3), (2, 2)]}\n"
     ]
    }
   ],
   "source": [
    "vh.addVersion((2, 2))"
   ]
  },
  {
   "cell_type": "code",
   "execution_count": 14,
   "id": "59323263-2193-4093-9c1f-5a669d175317",
   "metadata": {},
   "outputs": [
    {
     "data": {
      "text/plain": [
       "dict"
      ]
     },
     "execution_count": 14,
     "metadata": {},
     "output_type": "execute_result"
    }
   ],
   "source": [
    "type({})"
   ]
  },
  {
   "cell_type": "code",
   "execution_count": 15,
   "id": "0889cbd9-3340-444c-9e73-c574c8f0c8d6",
   "metadata": {},
   "outputs": [
    {
     "data": {
      "text/plain": [
       "'string length is 3'"
      ]
     },
     "execution_count": 15,
     "metadata": {},
     "output_type": "execute_result"
    }
   ],
   "source": [
    "'string length is {count}'.format(count = 3)"
   ]
  },
  {
   "cell_type": "code",
   "execution_count": 10,
   "id": "17d1657c-99b8-459e-9891-f12d23c5a0bc",
   "metadata": {},
   "outputs": [],
   "source": [
    "df = pd.DataFrame([{\"a\":1, \"b\":2, \"c\":3}, {\"a\":4, \"b\":5, \"c\":6}])"
   ]
  },
  {
   "cell_type": "code",
   "execution_count": 11,
   "id": "f823150c-9963-4b23-aa4f-d8c465a721ca",
   "metadata": {},
   "outputs": [
    {
     "data": {
      "text/html": [
       "<div>\n",
       "<style scoped>\n",
       "    .dataframe tbody tr th:only-of-type {\n",
       "        vertical-align: middle;\n",
       "    }\n",
       "\n",
       "    .dataframe tbody tr th {\n",
       "        vertical-align: top;\n",
       "    }\n",
       "\n",
       "    .dataframe thead th {\n",
       "        text-align: right;\n",
       "    }\n",
       "</style>\n",
       "<table border=\"1\" class=\"dataframe\">\n",
       "  <thead>\n",
       "    <tr style=\"text-align: right;\">\n",
       "      <th></th>\n",
       "      <th>a</th>\n",
       "      <th>b</th>\n",
       "      <th>c</th>\n",
       "    </tr>\n",
       "  </thead>\n",
       "  <tbody>\n",
       "    <tr>\n",
       "      <th>0</th>\n",
       "      <td>1</td>\n",
       "      <td>2</td>\n",
       "      <td>3</td>\n",
       "    </tr>\n",
       "    <tr>\n",
       "      <th>1</th>\n",
       "      <td>4</td>\n",
       "      <td>5</td>\n",
       "      <td>6</td>\n",
       "    </tr>\n",
       "  </tbody>\n",
       "</table>\n",
       "</div>"
      ],
      "text/plain": [
       "   a  b  c\n",
       "0  1  2  3\n",
       "1  4  5  6"
      ]
     },
     "execution_count": 11,
     "metadata": {},
     "output_type": "execute_result"
    }
   ],
   "source": [
    "df"
   ]
  },
  {
   "cell_type": "code",
   "execution_count": 19,
   "id": "bec687ba-2ab8-45f9-81c9-1c7a6618ddef",
   "metadata": {},
   "outputs": [],
   "source": [
    "assert(type(df) == pd.core.frame.DataFrame)"
   ]
  },
  {
   "cell_type": "code",
   "execution_count": null,
   "id": "48a94f39-4e68-4f6b-bf5e-b7a3b84b3c88",
   "metadata": {},
   "outputs": [],
   "source": []
  }
 ],
 "metadata": {
  "kernelspec": {
   "display_name": "Python 3 (ipykernel)",
   "language": "python",
   "name": "python3"
  },
  "language_info": {
   "codemirror_mode": {
    "name": "ipython",
    "version": 3
   },
   "file_extension": ".py",
   "mimetype": "text/x-python",
   "name": "python",
   "nbconvert_exporter": "python",
   "pygments_lexer": "ipython3",
   "version": "3.8.13"
  }
 },
 "nbformat": 4,
 "nbformat_minor": 5
}
