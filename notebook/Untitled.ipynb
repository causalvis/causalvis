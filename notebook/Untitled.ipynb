{
 "cells": [
  {
   "cell_type": "code",
   "execution_count": 1,
   "id": "684c8ac1-1559-41f8-b9d1-a6c1706e99d6",
   "metadata": {},
   "outputs": [
    {
     "name": "stdout",
     "output_type": "stream",
     "text": [
      "Obtaining file:///Users/grace/git/causalvis/causalvis\n",
      "  Installing build dependencies ... \u001b[?25ldone\n",
      "\u001b[?25h  Checking if build backend supports build_editable ... \u001b[?25ldone\n",
      "\u001b[?25h  Getting requirements to build editable ... \u001b[?25ldone\n",
      "\u001b[?25h  Preparing editable metadata (pyproject.toml) ... \u001b[?25ldone\n",
      "\u001b[?25hRequirement already satisfied: ipywidgets>=7.6.0 in /Users/grace/opt/anaconda3/envs/causalvis/lib/python3.8/site-packages (from causalvis==0.1.0a0) (7.7.1)\n",
      "Requirement already satisfied: ipython>=4.0.0 in /Users/grace/opt/anaconda3/envs/causalvis/lib/python3.8/site-packages (from ipywidgets>=7.6.0->causalvis==0.1.0a0) (8.4.0)\n",
      "Requirement already satisfied: widgetsnbextension~=3.6.0 in /Users/grace/opt/anaconda3/envs/causalvis/lib/python3.8/site-packages (from ipywidgets>=7.6.0->causalvis==0.1.0a0) (3.6.1)\n",
      "Requirement already satisfied: jupyterlab-widgets>=1.0.0 in /Users/grace/opt/anaconda3/envs/causalvis/lib/python3.8/site-packages (from ipywidgets>=7.6.0->causalvis==0.1.0a0) (1.1.1)\n",
      "Requirement already satisfied: ipython-genutils~=0.2.0 in /Users/grace/opt/anaconda3/envs/causalvis/lib/python3.8/site-packages (from ipywidgets>=7.6.0->causalvis==0.1.0a0) (0.2.0)\n",
      "Requirement already satisfied: traitlets>=4.3.1 in /Users/grace/opt/anaconda3/envs/causalvis/lib/python3.8/site-packages (from ipywidgets>=7.6.0->causalvis==0.1.0a0) (5.3.0)\n",
      "Requirement already satisfied: ipykernel>=4.5.1 in /Users/grace/opt/anaconda3/envs/causalvis/lib/python3.8/site-packages (from ipywidgets>=7.6.0->causalvis==0.1.0a0) (6.9.1)\n",
      "Requirement already satisfied: matplotlib-inline<0.2.0,>=0.1.0 in /Users/grace/opt/anaconda3/envs/causalvis/lib/python3.8/site-packages (from ipykernel>=4.5.1->ipywidgets>=7.6.0->causalvis==0.1.0a0) (0.1.3)\n",
      "Requirement already satisfied: nest-asyncio in /Users/grace/opt/anaconda3/envs/causalvis/lib/python3.8/site-packages (from ipykernel>=4.5.1->ipywidgets>=7.6.0->causalvis==0.1.0a0) (1.5.5)\n",
      "Requirement already satisfied: jupyter-client<8.0 in /Users/grace/opt/anaconda3/envs/causalvis/lib/python3.8/site-packages (from ipykernel>=4.5.1->ipywidgets>=7.6.0->causalvis==0.1.0a0) (7.0.6)\n",
      "Requirement already satisfied: appnope in /Users/grace/opt/anaconda3/envs/causalvis/lib/python3.8/site-packages (from ipykernel>=4.5.1->ipywidgets>=7.6.0->causalvis==0.1.0a0) (0.1.3)\n",
      "Requirement already satisfied: tornado<7.0,>=4.2 in /Users/grace/opt/anaconda3/envs/causalvis/lib/python3.8/site-packages (from ipykernel>=4.5.1->ipywidgets>=7.6.0->causalvis==0.1.0a0) (6.2)\n",
      "Requirement already satisfied: debugpy<2.0,>=1.0.0 in /Users/grace/opt/anaconda3/envs/causalvis/lib/python3.8/site-packages (from ipykernel>=4.5.1->ipywidgets>=7.6.0->causalvis==0.1.0a0) (1.5.1)\n",
      "Requirement already satisfied: backcall in /Users/grace/opt/anaconda3/envs/causalvis/lib/python3.8/site-packages (from ipython>=4.0.0->ipywidgets>=7.6.0->causalvis==0.1.0a0) (0.2.0)\n",
      "Requirement already satisfied: pexpect>4.3 in /Users/grace/opt/anaconda3/envs/causalvis/lib/python3.8/site-packages (from ipython>=4.0.0->ipywidgets>=7.6.0->causalvis==0.1.0a0) (4.8.0)\n",
      "Requirement already satisfied: jedi>=0.16 in /Users/grace/opt/anaconda3/envs/causalvis/lib/python3.8/site-packages (from ipython>=4.0.0->ipywidgets>=7.6.0->causalvis==0.1.0a0) (0.18.1)\n",
      "Requirement already satisfied: setuptools>=18.5 in /Users/grace/opt/anaconda3/envs/causalvis/lib/python3.8/site-packages (from ipython>=4.0.0->ipywidgets>=7.6.0->causalvis==0.1.0a0) (61.2.0)\n",
      "Requirement already satisfied: stack-data in /Users/grace/opt/anaconda3/envs/causalvis/lib/python3.8/site-packages (from ipython>=4.0.0->ipywidgets>=7.6.0->causalvis==0.1.0a0) (0.4.0)\n",
      "Requirement already satisfied: prompt-toolkit!=3.0.0,!=3.0.1,<3.1.0,>=2.0.0 in /Users/grace/opt/anaconda3/envs/causalvis/lib/python3.8/site-packages (from ipython>=4.0.0->ipywidgets>=7.6.0->causalvis==0.1.0a0) (3.0.30)\n",
      "Requirement already satisfied: decorator in /Users/grace/opt/anaconda3/envs/causalvis/lib/python3.8/site-packages (from ipython>=4.0.0->ipywidgets>=7.6.0->causalvis==0.1.0a0) (5.1.1)\n",
      "Requirement already satisfied: pygments>=2.4.0 in /Users/grace/opt/anaconda3/envs/causalvis/lib/python3.8/site-packages (from ipython>=4.0.0->ipywidgets>=7.6.0->causalvis==0.1.0a0) (2.12.0)\n",
      "Requirement already satisfied: pickleshare in /Users/grace/opt/anaconda3/envs/causalvis/lib/python3.8/site-packages (from ipython>=4.0.0->ipywidgets>=7.6.0->causalvis==0.1.0a0) (0.7.5)\n",
      "Requirement already satisfied: notebook>=4.4.1 in /Users/grace/opt/anaconda3/envs/causalvis/lib/python3.8/site-packages (from widgetsnbextension~=3.6.0->ipywidgets>=7.6.0->causalvis==0.1.0a0) (6.4.12)\n",
      "Requirement already satisfied: parso<0.9.0,>=0.8.0 in /Users/grace/opt/anaconda3/envs/causalvis/lib/python3.8/site-packages (from jedi>=0.16->ipython>=4.0.0->ipywidgets>=7.6.0->causalvis==0.1.0a0) (0.8.3)\n",
      "Requirement already satisfied: pyzmq>=13 in /Users/grace/opt/anaconda3/envs/causalvis/lib/python3.8/site-packages (from jupyter-client<8.0->ipykernel>=4.5.1->ipywidgets>=7.6.0->causalvis==0.1.0a0) (19.0.2)\n",
      "Requirement already satisfied: entrypoints in /Users/grace/opt/anaconda3/envs/causalvis/lib/python3.8/site-packages (from jupyter-client<8.0->ipykernel>=4.5.1->ipywidgets>=7.6.0->causalvis==0.1.0a0) (0.4)\n",
      "Requirement already satisfied: jupyter-core>=4.6.0 in /Users/grace/opt/anaconda3/envs/causalvis/lib/python3.8/site-packages (from jupyter-client<8.0->ipykernel>=4.5.1->ipywidgets>=7.6.0->causalvis==0.1.0a0) (4.11.1)\n",
      "Requirement already satisfied: python-dateutil>=2.1 in /Users/grace/opt/anaconda3/envs/causalvis/lib/python3.8/site-packages (from jupyter-client<8.0->ipykernel>=4.5.1->ipywidgets>=7.6.0->causalvis==0.1.0a0) (2.8.2)\n",
      "Requirement already satisfied: Send2Trash>=1.8.0 in /Users/grace/opt/anaconda3/envs/causalvis/lib/python3.8/site-packages (from notebook>=4.4.1->widgetsnbextension~=3.6.0->ipywidgets>=7.6.0->causalvis==0.1.0a0) (1.8.0)\n",
      "Requirement already satisfied: argon2-cffi in /Users/grace/opt/anaconda3/envs/causalvis/lib/python3.8/site-packages (from notebook>=4.4.1->widgetsnbextension~=3.6.0->ipywidgets>=7.6.0->causalvis==0.1.0a0) (21.3.0)\n",
      "Requirement already satisfied: prometheus-client in /Users/grace/opt/anaconda3/envs/causalvis/lib/python3.8/site-packages (from notebook>=4.4.1->widgetsnbextension~=3.6.0->ipywidgets>=7.6.0->causalvis==0.1.0a0) (0.14.1)\n",
      "Requirement already satisfied: jinja2 in /Users/grace/opt/anaconda3/envs/causalvis/lib/python3.8/site-packages (from notebook>=4.4.1->widgetsnbextension~=3.6.0->ipywidgets>=7.6.0->causalvis==0.1.0a0) (3.1.2)\n",
      "Requirement already satisfied: nbconvert>=5 in /Users/grace/opt/anaconda3/envs/causalvis/lib/python3.8/site-packages (from notebook>=4.4.1->widgetsnbextension~=3.6.0->ipywidgets>=7.6.0->causalvis==0.1.0a0) (6.4.5)\n",
      "Requirement already satisfied: terminado>=0.8.3 in /Users/grace/opt/anaconda3/envs/causalvis/lib/python3.8/site-packages (from notebook>=4.4.1->widgetsnbextension~=3.6.0->ipywidgets>=7.6.0->causalvis==0.1.0a0) (0.15.0)\n",
      "Requirement already satisfied: nbformat in /Users/grace/opt/anaconda3/envs/causalvis/lib/python3.8/site-packages (from notebook>=4.4.1->widgetsnbextension~=3.6.0->ipywidgets>=7.6.0->causalvis==0.1.0a0) (5.4.0)\n",
      "Requirement already satisfied: ptyprocess>=0.5 in /Users/grace/opt/anaconda3/envs/causalvis/lib/python3.8/site-packages (from pexpect>4.3->ipython>=4.0.0->ipywidgets>=7.6.0->causalvis==0.1.0a0) (0.7.0)\n",
      "Requirement already satisfied: wcwidth in /Users/grace/opt/anaconda3/envs/causalvis/lib/python3.8/site-packages (from prompt-toolkit!=3.0.0,!=3.0.1,<3.1.0,>=2.0.0->ipython>=4.0.0->ipywidgets>=7.6.0->causalvis==0.1.0a0) (0.2.5)\n",
      "Requirement already satisfied: executing in /Users/grace/opt/anaconda3/envs/causalvis/lib/python3.8/site-packages (from stack-data->ipython>=4.0.0->ipywidgets>=7.6.0->causalvis==0.1.0a0) (0.10.0)\n",
      "Requirement already satisfied: asttokens in /Users/grace/opt/anaconda3/envs/causalvis/lib/python3.8/site-packages (from stack-data->ipython>=4.0.0->ipywidgets>=7.6.0->causalvis==0.1.0a0) (2.0.5)\n",
      "Requirement already satisfied: pure-eval in /Users/grace/opt/anaconda3/envs/causalvis/lib/python3.8/site-packages (from stack-data->ipython>=4.0.0->ipywidgets>=7.6.0->causalvis==0.1.0a0) (0.2.2)\n",
      "Requirement already satisfied: nbclient<0.6.0,>=0.5.0 in /Users/grace/opt/anaconda3/envs/causalvis/lib/python3.8/site-packages (from nbconvert>=5->notebook>=4.4.1->widgetsnbextension~=3.6.0->ipywidgets>=7.6.0->causalvis==0.1.0a0) (0.5.13)\n",
      "Requirement already satisfied: defusedxml in /Users/grace/opt/anaconda3/envs/causalvis/lib/python3.8/site-packages (from nbconvert>=5->notebook>=4.4.1->widgetsnbextension~=3.6.0->ipywidgets>=7.6.0->causalvis==0.1.0a0) (0.7.1)\n",
      "Requirement already satisfied: MarkupSafe>=2.0 in /Users/grace/opt/anaconda3/envs/causalvis/lib/python3.8/site-packages (from nbconvert>=5->notebook>=4.4.1->widgetsnbextension~=3.6.0->ipywidgets>=7.6.0->causalvis==0.1.0a0) (2.1.1)\n",
      "Requirement already satisfied: jupyterlab-pygments in /Users/grace/opt/anaconda3/envs/causalvis/lib/python3.8/site-packages (from nbconvert>=5->notebook>=4.4.1->widgetsnbextension~=3.6.0->ipywidgets>=7.6.0->causalvis==0.1.0a0) (0.2.2)\n",
      "Requirement already satisfied: beautifulsoup4 in /Users/grace/opt/anaconda3/envs/causalvis/lib/python3.8/site-packages (from nbconvert>=5->notebook>=4.4.1->widgetsnbextension~=3.6.0->ipywidgets>=7.6.0->causalvis==0.1.0a0) (4.11.1)\n",
      "Requirement already satisfied: bleach in /Users/grace/opt/anaconda3/envs/causalvis/lib/python3.8/site-packages (from nbconvert>=5->notebook>=4.4.1->widgetsnbextension~=3.6.0->ipywidgets>=7.6.0->causalvis==0.1.0a0) (5.0.1)\n",
      "Requirement already satisfied: testpath in /Users/grace/opt/anaconda3/envs/causalvis/lib/python3.8/site-packages (from nbconvert>=5->notebook>=4.4.1->widgetsnbextension~=3.6.0->ipywidgets>=7.6.0->causalvis==0.1.0a0) (0.6.0)\n",
      "Requirement already satisfied: mistune<2,>=0.8.1 in /Users/grace/opt/anaconda3/envs/causalvis/lib/python3.8/site-packages (from nbconvert>=5->notebook>=4.4.1->widgetsnbextension~=3.6.0->ipywidgets>=7.6.0->causalvis==0.1.0a0) (0.8.4)\n",
      "Requirement already satisfied: pandocfilters>=1.4.1 in /Users/grace/opt/anaconda3/envs/causalvis/lib/python3.8/site-packages (from nbconvert>=5->notebook>=4.4.1->widgetsnbextension~=3.6.0->ipywidgets>=7.6.0->causalvis==0.1.0a0) (1.5.0)\n",
      "Requirement already satisfied: jsonschema>=2.6 in /Users/grace/opt/anaconda3/envs/causalvis/lib/python3.8/site-packages (from nbformat->notebook>=4.4.1->widgetsnbextension~=3.6.0->ipywidgets>=7.6.0->causalvis==0.1.0a0) (4.9.1)\n",
      "Requirement already satisfied: fastjsonschema in /Users/grace/opt/anaconda3/envs/causalvis/lib/python3.8/site-packages (from nbformat->notebook>=4.4.1->widgetsnbextension~=3.6.0->ipywidgets>=7.6.0->causalvis==0.1.0a0) (2.16.1)\n",
      "Requirement already satisfied: six>=1.5 in /Users/grace/opt/anaconda3/envs/causalvis/lib/python3.8/site-packages (from python-dateutil>=2.1->jupyter-client<8.0->ipykernel>=4.5.1->ipywidgets>=7.6.0->causalvis==0.1.0a0) (1.16.0)\n",
      "Requirement already satisfied: argon2-cffi-bindings in /Users/grace/opt/anaconda3/envs/causalvis/lib/python3.8/site-packages (from argon2-cffi->notebook>=4.4.1->widgetsnbextension~=3.6.0->ipywidgets>=7.6.0->causalvis==0.1.0a0) (21.2.0)\n",
      "Requirement already satisfied: pkgutil-resolve-name>=1.3.10 in /Users/grace/opt/anaconda3/envs/causalvis/lib/python3.8/site-packages (from jsonschema>=2.6->nbformat->notebook>=4.4.1->widgetsnbextension~=3.6.0->ipywidgets>=7.6.0->causalvis==0.1.0a0) (1.3.10)\n",
      "Requirement already satisfied: pyrsistent!=0.17.0,!=0.17.1,!=0.17.2,>=0.14.0 in /Users/grace/opt/anaconda3/envs/causalvis/lib/python3.8/site-packages (from jsonschema>=2.6->nbformat->notebook>=4.4.1->widgetsnbextension~=3.6.0->ipywidgets>=7.6.0->causalvis==0.1.0a0) (0.18.1)\n",
      "Requirement already satisfied: attrs>=17.4.0 in /Users/grace/opt/anaconda3/envs/causalvis/lib/python3.8/site-packages (from jsonschema>=2.6->nbformat->notebook>=4.4.1->widgetsnbextension~=3.6.0->ipywidgets>=7.6.0->causalvis==0.1.0a0) (22.1.0)\n",
      "Requirement already satisfied: importlib-resources>=1.4.0 in /Users/grace/opt/anaconda3/envs/causalvis/lib/python3.8/site-packages (from jsonschema>=2.6->nbformat->notebook>=4.4.1->widgetsnbextension~=3.6.0->ipywidgets>=7.6.0->causalvis==0.1.0a0) (5.9.0)\n",
      "Requirement already satisfied: cffi>=1.0.1 in /Users/grace/opt/anaconda3/envs/causalvis/lib/python3.8/site-packages (from argon2-cffi-bindings->argon2-cffi->notebook>=4.4.1->widgetsnbextension~=3.6.0->ipywidgets>=7.6.0->causalvis==0.1.0a0) (1.15.1)\n",
      "Requirement already satisfied: soupsieve>1.2 in /Users/grace/opt/anaconda3/envs/causalvis/lib/python3.8/site-packages (from beautifulsoup4->nbconvert>=5->notebook>=4.4.1->widgetsnbextension~=3.6.0->ipywidgets>=7.6.0->causalvis==0.1.0a0) (2.3.2.post1)\n",
      "Requirement already satisfied: webencodings in /Users/grace/opt/anaconda3/envs/causalvis/lib/python3.8/site-packages (from bleach->nbconvert>=5->notebook>=4.4.1->widgetsnbextension~=3.6.0->ipywidgets>=7.6.0->causalvis==0.1.0a0) (0.5.1)\n",
      "Requirement already satisfied: pycparser in /Users/grace/opt/anaconda3/envs/causalvis/lib/python3.8/site-packages (from cffi>=1.0.1->argon2-cffi-bindings->argon2-cffi->notebook>=4.4.1->widgetsnbextension~=3.6.0->ipywidgets>=7.6.0->causalvis==0.1.0a0) (2.21)\n",
      "Requirement already satisfied: zipp>=3.1.0 in /Users/grace/opt/anaconda3/envs/causalvis/lib/python3.8/site-packages (from importlib-resources>=1.4.0->jsonschema>=2.6->nbformat->notebook>=4.4.1->widgetsnbextension~=3.6.0->ipywidgets>=7.6.0->causalvis==0.1.0a0) (3.8.1)\n",
      "Building wheels for collected packages: causalvis\n",
      "  Building editable for causalvis (pyproject.toml) ... \u001b[?25ldone\n",
      "\u001b[?25h  Created wheel for causalvis: filename=causalvis-0.1.0a0-0.editable-py3-none-any.whl size=2582 sha256=bc6c4d0455311204d81275c9cdd4ec813d428c490542f188cd350603accfdc7a\n",
      "  Stored in directory: /private/var/folders/38/dngcg1rx2ys831f6pfy93lfw0000gn/T/pip-ephem-wheel-cache-pzegzx6s/wheels/e4/b0/a0/4cb316709d08c85dcafb81a5200ab80197ed6aab0fabcd37e4\n",
      "Successfully built causalvis\n",
      "Installing collected packages: causalvis\n",
      "  Attempting uninstall: causalvis\n",
      "    Found existing installation: causalvis 0.1.0a0\n",
      "    Uninstalling causalvis-0.1.0a0:\n",
      "      Successfully uninstalled causalvis-0.1.0a0\n",
      "Successfully installed causalvis-0.1.0a0\n"
     ]
    }
   ],
   "source": [
    "!pip install -e ../causalvis/"
   ]
  },
  {
   "cell_type": "code",
   "execution_count": null,
   "id": "6c78edbe-b7af-49d0-9a8a-15d461c34091",
   "metadata": {},
   "outputs": [],
   "source": []
  }
 ],
 "metadata": {
  "kernelspec": {
   "display_name": "Python 3",
   "language": "python",
   "name": "python3"
  },
  "language_info": {
   "codemirror_mode": {
    "name": "ipython",
    "version": 3
   },
   "file_extension": ".py",
   "mimetype": "text/x-python",
   "name": "python",
   "nbconvert_exporter": "python",
   "pygments_lexer": "ipython3",
   "version": "3.8.3"
  }
 },
 "nbformat": 4,
 "nbformat_minor": 5
}
