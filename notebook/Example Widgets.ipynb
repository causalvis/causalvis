{
 "cells": [
  {
   "cell_type": "markdown",
   "id": "c2ed7953-9066-41c2-b5f1-73bab89d9dab",
   "metadata": {},
   "source": [
    "# DAG"
   ]
  },
  {
   "cell_type": "code",
   "execution_count": 1,
   "id": "19d728b0",
   "metadata": {},
   "outputs": [],
   "source": [
    "from causalvis import DAG"
   ]
  },
  {
   "cell_type": "code",
   "execution_count": 2,
   "id": "cea5f431",
   "metadata": {},
   "outputs": [
    {
     "data": {
      "text/plain": [
       "causalvis.widget.DAG"
      ]
     },
     "execution_count": 2,
     "metadata": {},
     "output_type": "execute_result"
    }
   ],
   "source": [
    "DAG"
   ]
  },
  {
   "cell_type": "code",
   "execution_count": 3,
   "id": "cc8ed8b6-afe9-46de-85be-0015567da81c",
   "metadata": {
    "tags": []
   },
   "outputs": [
    {
     "data": {
      "application/vnd.jupyter.widget-view+json": {
       "model_id": "f0f655d22f7142eb89628a1df5f81b05",
       "version_major": 2,
       "version_minor": 0
      },
      "text/plain": [
       "DAG(component='DAG', props={'attributes': ['a', 'b'], 'graph': None})"
      ]
     },
     "metadata": {},
     "output_type": "display_data"
    }
   ],
   "source": [
    "DAG(attributes=[\"b\", \"a\"])"
   ]
  },
  {
   "cell_type": "markdown",
   "id": "b1f904a3-7c29-43b1-b40c-5d0aa337342f",
   "metadata": {},
   "source": [
    "# Cohort Evaluator"
   ]
  },
  {
   "cell_type": "code",
   "execution_count": 4,
   "id": "a2751ff3-be1a-441b-9236-0b4db3a584b1",
   "metadata": {},
   "outputs": [],
   "source": [
    "from causalvis import CohortEvaluator"
   ]
  },
  {
   "cell_type": "code",
   "execution_count": 5,
   "id": "a2f532d2-6e6e-4712-b091-4a25b20742d9",
   "metadata": {},
   "outputs": [
    {
     "data": {
      "text/plain": [
       "causalvis.widget.CohortEvaluator"
      ]
     },
     "execution_count": 5,
     "metadata": {},
     "output_type": "execute_result"
    }
   ],
   "source": [
    "CohortEvaluator"
   ]
  },
  {
   "cell_type": "code",
   "execution_count": 6,
   "id": "896f808e-4f7a-40c9-8a37-f7fc18789da2",
   "metadata": {
    "tags": []
   },
   "outputs": [],
   "source": [
    "import json\n",
    "\n",
    "files = ['../public/cohort_propensity.json', '../public/cohort_confounds.json', '../public/cohort_treatment.json']\n",
    "\n",
    "with open('../public/cohort_propensity.json', 'r') as f:\n",
    "    propensity = json.load(f)\n",
    "    \n",
    "with open('../public/cohort_confounds.json', 'r') as f:\n",
    "    confounds = json.load(f)\n",
    "    \n",
    "with open('../public/cohort_treatment.json', 'r') as f:\n",
    "    treatment = json.load(f)"
   ]
  },
  {
   "cell_type": "code",
   "execution_count": 7,
   "id": "fee23069-ba83-455a-845a-d6cac977d9b1",
   "metadata": {},
   "outputs": [],
   "source": [
    "unadjustedData = []\n",
    "\n",
    "for i in range(len(confounds)):\n",
    "    newDataInstance = confounds[i]\n",
    "    newDataInstance['treatment'] = treatment[i]\n",
    "    newDataInstance['propensity'] = propensity[i]\n",
    "    unadjustedData.append(newDataInstance)   "
   ]
  },
  {
   "cell_type": "code",
   "execution_count": 8,
   "id": "341e870f-769c-4e7f-9b18-2d354e03686c",
   "metadata": {},
   "outputs": [
    {
     "data": {
      "application/vnd.jupyter.widget-view+json": {
       "model_id": "24b01ce1d0924fda8a3da6663f3230cf",
       "version_major": 2,
       "version_minor": 0
      },
      "text/plain": [
       "CohortEvaluator(component='CohortEvaluator', props={'unadjustedCohort': [{'age': 56, 'pdays': 999, 'previous':…"
      ]
     },
     "metadata": {},
     "output_type": "display_data"
    }
   ],
   "source": [
    "CohortEvaluator(unadjustedCohort=unadjustedData)"
   ]
  },
  {
   "cell_type": "markdown",
   "id": "92399599-9c55-4da3-b128-c15dfe88d59d",
   "metadata": {},
   "source": [
    "# Treatment Effect Evaluator"
   ]
  },
  {
   "cell_type": "code",
   "execution_count": 9,
   "id": "91024c7f-3bed-410e-bf79-93e5284b219c",
   "metadata": {},
   "outputs": [],
   "source": [
    "from causalvis import TreatmentEffectEvaluator"
   ]
  },
  {
   "cell_type": "code",
   "execution_count": 10,
   "id": "1cb6b3d3-6c57-4168-b0a8-fe57994ce00c",
   "metadata": {},
   "outputs": [
    {
     "data": {
      "text/plain": [
       "causalvis.widget.TreatmentEffectEvaluator"
      ]
     },
     "execution_count": 10,
     "metadata": {},
     "output_type": "execute_result"
    }
   ],
   "source": [
    "TreatmentEffectEvaluator"
   ]
  },
  {
   "cell_type": "code",
   "execution_count": 11,
   "id": "6c259a49-0d00-4a3e-837c-a8fc747d39b9",
   "metadata": {},
   "outputs": [],
   "source": [
    "import json\n",
    "\n",
    "files = ['../public/cohort2_outcome.json', '../public/cohort2_confounds.json', '../public/cohort2_treatment.json', '../public/cohort2_propensity.json']\n",
    "\n",
    "with open('../public/cohort2_outcome.json', 'r') as f:\n",
    "    outcome2 = json.load(f)\n",
    "\n",
    "with open('../public/cohort2_propensity.json', 'r') as f:\n",
    "    propensity2 = json.load(f)\n",
    "    \n",
    "with open('../public/cohort2_confounds.json', 'r') as f:\n",
    "    confounds2 = json.load(f)\n",
    "    \n",
    "with open('../public/cohort2_treatment.json', 'r') as f:\n",
    "    treatment2 = json.load(f)\n",
    "    \n",
    "with open('../public/individual_treatment_effect.json', 'r') as f:\n",
    "    individualEffects2 = json.load(f)"
   ]
  },
  {
   "cell_type": "code",
   "execution_count": 12,
   "id": "b6caffd9-e554-493a-a202-0c7458fc69a0",
   "metadata": {},
   "outputs": [],
   "source": [
    "data = []\n",
    "\n",
    "for i in range(len(confounds2)):\n",
    "    newDataInstance2 = confounds2[i]\n",
    "    newDataInstance2['treatment'] = treatment2[i]\n",
    "    newDataInstance2['outcome'] = outcome2[i]\n",
    "    newDataInstance2['weight'] = 1/propensity2[i][str(treatment2[i])]\n",
    "    newDataInstance2['effect'] = individualEffects2[i][\"('ratio', 0)\"];\n",
    "    data.append(newDataInstance2)"
   ]
  },
  {
   "cell_type": "code",
   "execution_count": 13,
   "id": "26589d21-6611-47c3-9e2e-1905b96f17d4",
   "metadata": {},
   "outputs": [
    {
     "data": {
      "application/vnd.jupyter.widget-view+json": {
       "model_id": "1c45c29845b8406a80039275ac2d30f0",
       "version_major": 2,
       "version_minor": 0
      },
      "text/plain": [
       "TreatmentEffectEvaluator(component='TreatmentEffectEvaluator', props={'data': [{'age': 31, 'pdays': 999, 'prev…"
      ]
     },
     "metadata": {},
     "output_type": "display_data"
    }
   ],
   "source": [
    "TreatmentEffectEvaluator(data=data)"
   ]
  },
  {
   "cell_type": "code",
   "execution_count": null,
   "id": "93de223e-3704-4d56-9ac9-e0583435a702",
   "metadata": {},
   "outputs": [],
   "source": []
  }
 ],
 "metadata": {
  "kernelspec": {
   "display_name": "Python 3 (ipykernel)",
   "language": "python",
   "name": "python3"
  },
  "language_info": {
   "codemirror_mode": {
    "name": "ipython",
    "version": 3
   },
   "file_extension": ".py",
   "mimetype": "text/x-python",
   "name": "python",
   "nbconvert_exporter": "python",
   "pygments_lexer": "ipython3",
   "version": "3.9.12"
  }
 },
 "nbformat": 4,
 "nbformat_minor": 5
}
