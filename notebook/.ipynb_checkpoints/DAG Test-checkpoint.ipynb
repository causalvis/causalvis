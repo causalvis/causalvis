{
 "cells": [
  {
   "cell_type": "code",
   "execution_count": 4,
   "id": "19d728b0",
   "metadata": {},
   "outputs": [],
   "source": [
    "from causalvis import DAG"
   ]
  },
  {
   "cell_type": "code",
   "execution_count": 5,
   "id": "cea5f431",
   "metadata": {},
   "outputs": [
    {
     "data": {
      "text/plain": [
       "causalvis.widget.DAG"
      ]
     },
     "execution_count": 5,
     "metadata": {},
     "output_type": "execute_result"
    }
   ],
   "source": [
    "DAG"
   ]
  },
  {
   "cell_type": "code",
   "execution_count": 8,
   "id": "cc8ed8b6-afe9-46de-85be-0015567da81c",
   "metadata": {},
   "outputs": [
    {
     "data": {
      "application/vnd.jupyter.widget-view+json": {
       "model_id": "895ac58aa4eb4c84bbbd45a1f8eb46b3",
       "version_major": 2,
       "version_minor": 0
      },
      "text/plain": [
       "DAG(component='DAG', props={'attributes': []})"
      ]
     },
     "metadata": {},
     "output_type": "display_data"
    }
   ],
   "source": [
    "DAG(attributes=[])"
   ]
  },
  {
   "cell_type": "code",
   "execution_count": null,
   "id": "a2751ff3-be1a-441b-9236-0b4db3a584b1",
   "metadata": {},
   "outputs": [],
   "source": []
  }
 ],
 "metadata": {
  "kernelspec": {
   "display_name": "Python 3 (ipykernel)",
   "language": "python",
   "name": "python3"
  },
  "language_info": {
   "codemirror_mode": {
    "name": "ipython",
    "version": 3
   },
   "file_extension": ".py",
   "mimetype": "text/x-python",
   "name": "python",
   "nbconvert_exporter": "python",
   "pygments_lexer": "ipython3",
   "version": "3.9.12"
  }
 },
 "nbformat": 4,
 "nbformat_minor": 5
}
