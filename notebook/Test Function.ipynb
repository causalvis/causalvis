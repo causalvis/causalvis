{
 "cells": [
  {
   "cell_type": "code",
   "execution_count": 8,
   "id": "23b2d1e9-197f-4291-8eb4-6e05bcba5079",
   "metadata": {},
   "outputs": [
    {
     "name": "stdout",
     "output_type": "stream",
     "text": [
      "no a\n",
      "None 3 2\n"
     ]
    }
   ],
   "source": [
    "def test(a=None, b=1, c=[]):\n",
    "    if not a:\n",
    "        print(\"no a\")\n",
    "    print(a, b, c)\n",
    "    \n",
    "test(b=3, c=2)"
   ]
  },
  {
   "cell_type": "code",
   "execution_count": null,
   "id": "8784ae82-487b-4b8d-aa6d-5843bb6e4229",
   "metadata": {},
   "outputs": [],
   "source": []
  }
 ],
 "metadata": {
  "kernelspec": {
   "display_name": "Python 3 (ipykernel)",
   "language": "python",
   "name": "python3"
  },
  "language_info": {
   "codemirror_mode": {
    "name": "ipython",
    "version": 3
   },
   "file_extension": ".py",
   "mimetype": "text/x-python",
   "name": "python",
   "nbconvert_exporter": "python",
   "pygments_lexer": "ipython3",
   "version": "3.8.13"
  }
 },
 "nbformat": 4,
 "nbformat_minor": 5
}
