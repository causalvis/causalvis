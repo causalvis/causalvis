{
 "cells": [
  {
   "cell_type": "code",
   "execution_count": 1,
   "id": "8fdadc0c-967a-4e89-9f8d-dc17dce6418b",
   "metadata": {},
   "outputs": [],
   "source": [
    "from causallib.estimation import IPW, Matching\n",
    "import matplotlib.pyplot as plt\n",
    "# import seaborn as sb\n",
    "import pandas as pd\n",
    "import numpy as np\n",
    "from causallib.evaluation.weight_evaluator import calculate_covariate_balance\n",
    "from sklearn.linear_model import LogisticRegression\n",
    "from causallib.preprocessing.transformers import PropensityTransformer, MatchingTransformer\n",
    "from causallib.evaluation import PropensityEvaluator\n",
    "from causallib.datasets import load_nhefs\n",
    "%matplotlib inline"
   ]
  },
  {
   "cell_type": "code",
   "execution_count": 2,
   "id": "f64ed89a-f2dc-4f67-ac38-1840fe6a66ef",
   "metadata": {},
   "outputs": [],
   "source": [
    "def binarize(df, column_name):\n",
    "    df = df.copy()\n",
    "    m = df[column_name].median()\n",
    "    def balance(i): return np.abs(0.5 - (df[column_name] < i).sum()/len(df))\n",
    "    mstar = min([m-1, m, m+1], key=balance)\n",
    "    df = df.assign(**{column_name: (df[column_name] < mstar).astype(int)})\n",
    "    df = df.rename(columns={column_name: column_name + f\"<{mstar}\"})\n",
    "    return df\n",
    "\n",
    "\n",
    "def get_matching_data():\n",
    "    data = load_nhefs(onehot=False, augment=False)\n",
    "    data.X = binarize(data.X, \"education\")\n",
    "    data.X = binarize(data.X, \"exercise\")\n",
    "    data.X = binarize(data.X, \"active\")\n",
    "    return data\n",
    "\n",
    "\n",
    "binarized_data = get_matching_data()\n",
    "X, a, y = binarized_data.X, binarized_data.a, binarized_data.y"
   ]
  },
  {
   "cell_type": "code",
   "execution_count": 3,
   "id": "17e2f661-87fd-4e77-a080-1bbe12ba71d7",
   "metadata": {},
   "outputs": [
    {
     "data": {
      "text/html": [
       "<div>\n",
       "<style scoped>\n",
       "    .dataframe tbody tr th:only-of-type {\n",
       "        vertical-align: middle;\n",
       "    }\n",
       "\n",
       "    .dataframe tbody tr th {\n",
       "        vertical-align: top;\n",
       "    }\n",
       "\n",
       "    .dataframe thead th {\n",
       "        text-align: right;\n",
       "    }\n",
       "</style>\n",
       "<table border=\"1\" class=\"dataframe\">\n",
       "  <thead>\n",
       "    <tr style=\"text-align: right;\">\n",
       "      <th></th>\n",
       "      <th>active&lt;1.0</th>\n",
       "      <th>age</th>\n",
       "      <th>education&lt;3.0</th>\n",
       "      <th>exercise&lt;2.0</th>\n",
       "      <th>race</th>\n",
       "      <th>sex</th>\n",
       "      <th>smokeintensity</th>\n",
       "      <th>smokeyrs</th>\n",
       "      <th>wt71</th>\n",
       "      <th>qsmk</th>\n",
       "      <th>wt82_71</th>\n",
       "    </tr>\n",
       "  </thead>\n",
       "  <tbody>\n",
       "    <tr>\n",
       "      <th>0</th>\n",
       "      <td>1</td>\n",
       "      <td>42</td>\n",
       "      <td>1</td>\n",
       "      <td>0</td>\n",
       "      <td>1</td>\n",
       "      <td>0</td>\n",
       "      <td>30</td>\n",
       "      <td>29</td>\n",
       "      <td>79.04</td>\n",
       "      <td>0</td>\n",
       "      <td>-10.093960</td>\n",
       "    </tr>\n",
       "    <tr>\n",
       "      <th>1</th>\n",
       "      <td>1</td>\n",
       "      <td>36</td>\n",
       "      <td>1</td>\n",
       "      <td>1</td>\n",
       "      <td>0</td>\n",
       "      <td>0</td>\n",
       "      <td>20</td>\n",
       "      <td>24</td>\n",
       "      <td>58.63</td>\n",
       "      <td>0</td>\n",
       "      <td>2.604970</td>\n",
       "    </tr>\n",
       "    <tr>\n",
       "      <th>2</th>\n",
       "      <td>1</td>\n",
       "      <td>56</td>\n",
       "      <td>1</td>\n",
       "      <td>0</td>\n",
       "      <td>1</td>\n",
       "      <td>1</td>\n",
       "      <td>20</td>\n",
       "      <td>26</td>\n",
       "      <td>56.81</td>\n",
       "      <td>0</td>\n",
       "      <td>9.414486</td>\n",
       "    </tr>\n",
       "    <tr>\n",
       "      <th>3</th>\n",
       "      <td>0</td>\n",
       "      <td>68</td>\n",
       "      <td>1</td>\n",
       "      <td>0</td>\n",
       "      <td>1</td>\n",
       "      <td>0</td>\n",
       "      <td>3</td>\n",
       "      <td>53</td>\n",
       "      <td>59.42</td>\n",
       "      <td>0</td>\n",
       "      <td>4.990117</td>\n",
       "    </tr>\n",
       "    <tr>\n",
       "      <th>4</th>\n",
       "      <td>0</td>\n",
       "      <td>40</td>\n",
       "      <td>1</td>\n",
       "      <td>1</td>\n",
       "      <td>0</td>\n",
       "      <td>0</td>\n",
       "      <td>20</td>\n",
       "      <td>19</td>\n",
       "      <td>87.09</td>\n",
       "      <td>0</td>\n",
       "      <td>4.989251</td>\n",
       "    </tr>\n",
       "  </tbody>\n",
       "</table>\n",
       "</div>"
      ],
      "text/plain": [
       "   active<1.0  age  education<3.0  exercise<2.0  race  sex  smokeintensity  \\\n",
       "0           1   42              1             0     1    0              30   \n",
       "1           1   36              1             1     0    0              20   \n",
       "2           1   56              1             0     1    1              20   \n",
       "3           0   68              1             0     1    0               3   \n",
       "4           0   40              1             1     0    0              20   \n",
       "\n",
       "   smokeyrs   wt71  qsmk    wt82_71  \n",
       "0        29  79.04     0 -10.093960  \n",
       "1        24  58.63     0   2.604970  \n",
       "2        26  56.81     0   9.414486  \n",
       "3        53  59.42     0   4.990117  \n",
       "4        19  87.09     0   4.989251  "
      ]
     },
     "execution_count": 3,
     "metadata": {},
     "output_type": "execute_result"
    }
   ],
   "source": [
    "binarized_data.X.join(binarized_data.a).join(binarized_data.y).head()"
   ]
  },
  {
   "cell_type": "code",
   "execution_count": 4,
   "id": "e71368a5-50ed-46a8-967d-58921e620adb",
   "metadata": {},
   "outputs": [],
   "source": [
    "m_euclid = Matching(metric=\"euclidean\").fit(X, a, y)\n",
    "m_mahalanobis = Matching(metric=\"mahalanobis\").fit(X, a, y)\n",
    "Y_euclid = m_euclid.estimate_individual_outcome(X, a)\n",
    "Y_mahalanobis = m_mahalanobis.estimate_individual_outcome(X, a)"
   ]
  },
  {
   "cell_type": "code",
   "execution_count": 5,
   "id": "d308ab10-4c9f-4f78-831a-bb04602b7890",
   "metadata": {},
   "outputs": [
    {
     "data": {
      "text/plain": [
       "0      1.702105\n",
       "1      5.562541\n",
       "ATE    3.860437\n",
       "dtype: float64"
      ]
     },
     "execution_count": 5,
     "metadata": {},
     "output_type": "execute_result"
    }
   ],
   "source": [
    "Y_euclid.assign(ATE=Y_euclid[1]-Y_euclid[0]).mean()"
   ]
  },
  {
   "cell_type": "code",
   "execution_count": 6,
   "id": "b7f8cdcd-19bd-4f33-9cab-1ad47dded815",
   "metadata": {},
   "outputs": [
    {
     "data": {
      "text/plain": [
       "0      1.852420\n",
       "1      5.084078\n",
       "ATE    3.231658\n",
       "dtype: float64"
      ]
     },
     "execution_count": 6,
     "metadata": {},
     "output_type": "execute_result"
    }
   ],
   "source": [
    "Y_mahalanobis.assign(ATE=Y_mahalanobis[1]-Y_mahalanobis[0]).mean()"
   ]
  },
  {
   "cell_type": "code",
   "execution_count": 7,
   "id": "f0bbde56-02fb-4997-86bf-5a3c947dc0e2",
   "metadata": {},
   "outputs": [
    {
     "data": {
      "text/html": [
       "<div>\n",
       "<style scoped>\n",
       "    .dataframe tbody tr th:only-of-type {\n",
       "        vertical-align: middle;\n",
       "    }\n",
       "\n",
       "    .dataframe tbody tr th {\n",
       "        vertical-align: top;\n",
       "    }\n",
       "\n",
       "    .dataframe thead th {\n",
       "        text-align: right;\n",
       "    }\n",
       "</style>\n",
       "<table border=\"1\" class=\"dataframe\">\n",
       "  <thead>\n",
       "    <tr style=\"text-align: right;\">\n",
       "      <th></th>\n",
       "      <th>0_euclidean</th>\n",
       "      <th>1_euclidean</th>\n",
       "      <th>0_mahalanobis</th>\n",
       "      <th>1_mahalanobis</th>\n",
       "      <th>qsmk</th>\n",
       "    </tr>\n",
       "    <tr>\n",
       "      <th>sample_id</th>\n",
       "      <th></th>\n",
       "      <th></th>\n",
       "      <th></th>\n",
       "      <th></th>\n",
       "      <th></th>\n",
       "    </tr>\n",
       "  </thead>\n",
       "  <tbody>\n",
       "    <tr>\n",
       "      <th>1062</th>\n",
       "      <td>7.712741</td>\n",
       "      <td>19.506920</td>\n",
       "      <td>7.712741</td>\n",
       "      <td>3.510894</td>\n",
       "      <td>0</td>\n",
       "    </tr>\n",
       "    <tr>\n",
       "      <th>1488</th>\n",
       "      <td>-1.819004</td>\n",
       "      <td>3.629735</td>\n",
       "      <td>6.578474</td>\n",
       "      <td>3.629735</td>\n",
       "      <td>1</td>\n",
       "    </tr>\n",
       "    <tr>\n",
       "      <th>413</th>\n",
       "      <td>-10.884546</td>\n",
       "      <td>13.720219</td>\n",
       "      <td>-10.884546</td>\n",
       "      <td>7.488372</td>\n",
       "      <td>0</td>\n",
       "    </tr>\n",
       "    <tr>\n",
       "      <th>960</th>\n",
       "      <td>11.680321</td>\n",
       "      <td>17.576245</td>\n",
       "      <td>11.680321</td>\n",
       "      <td>6.578283</td>\n",
       "      <td>0</td>\n",
       "    </tr>\n",
       "    <tr>\n",
       "      <th>1582</th>\n",
       "      <td>15.765570</td>\n",
       "      <td>11.003239</td>\n",
       "      <td>15.765570</td>\n",
       "      <td>-4.312685</td>\n",
       "      <td>0</td>\n",
       "    </tr>\n",
       "    <tr>\n",
       "      <th>1539</th>\n",
       "      <td>1.359149</td>\n",
       "      <td>10.890219</td>\n",
       "      <td>1.359149</td>\n",
       "      <td>9.982066</td>\n",
       "      <td>0</td>\n",
       "    </tr>\n",
       "    <tr>\n",
       "      <th>177</th>\n",
       "      <td>4.992550</td>\n",
       "      <td>0.225072</td>\n",
       "      <td>4.992550</td>\n",
       "      <td>4.646920</td>\n",
       "      <td>0</td>\n",
       "    </tr>\n",
       "    <tr>\n",
       "      <th>1064</th>\n",
       "      <td>11.680321</td>\n",
       "      <td>15.985468</td>\n",
       "      <td>-2.037552</td>\n",
       "      <td>15.985468</td>\n",
       "      <td>1</td>\n",
       "    </tr>\n",
       "    <tr>\n",
       "      <th>1225</th>\n",
       "      <td>-16.673769</td>\n",
       "      <td>-1.926482</td>\n",
       "      <td>-7.373183</td>\n",
       "      <td>-1.926482</td>\n",
       "      <td>1</td>\n",
       "    </tr>\n",
       "    <tr>\n",
       "      <th>1323</th>\n",
       "      <td>-1.929297</td>\n",
       "      <td>-20.751731</td>\n",
       "      <td>-1.929297</td>\n",
       "      <td>-20.751731</td>\n",
       "      <td>0</td>\n",
       "    </tr>\n",
       "  </tbody>\n",
       "</table>\n",
       "</div>"
      ],
      "text/plain": [
       "           0_euclidean  1_euclidean  0_mahalanobis  1_mahalanobis  qsmk\n",
       "sample_id                                                              \n",
       "1062          7.712741    19.506920       7.712741       3.510894     0\n",
       "1488         -1.819004     3.629735       6.578474       3.629735     1\n",
       "413         -10.884546    13.720219     -10.884546       7.488372     0\n",
       "960          11.680321    17.576245      11.680321       6.578283     0\n",
       "1582         15.765570    11.003239      15.765570      -4.312685     0\n",
       "1539          1.359149    10.890219       1.359149       9.982066     0\n",
       "177           4.992550     0.225072       4.992550       4.646920     0\n",
       "1064         11.680321    15.985468      -2.037552      15.985468     1\n",
       "1225        -16.673769    -1.926482      -7.373183      -1.926482     1\n",
       "1323         -1.929297   -20.751731      -1.929297     -20.751731     0"
      ]
     },
     "execution_count": 7,
     "metadata": {},
     "output_type": "execute_result"
    }
   ],
   "source": [
    "Y_euclid.join(Y_mahalanobis, lsuffix=\"_euclidean\",\n",
    "              rsuffix=\"_mahalanobis\").join(a).sample(10)"
   ]
  },
  {
   "cell_type": "code",
   "execution_count": 8,
   "id": "215e625e-4eae-46c1-9453-67974d0751e1",
   "metadata": {},
   "outputs": [],
   "source": [
    "propensity_transform = PropensityTransformer(\n",
    "    learner=LogisticRegression(\n",
    "        solver=\"liblinear\",\n",
    "        class_weight=\"balanced\"),\n",
    "    include_covariates=False)"
   ]
  },
  {
   "cell_type": "code",
   "execution_count": 9,
   "id": "ae892f37-56b1-43c8-9cb1-4ff8f9e9fa0f",
   "metadata": {},
   "outputs": [
    {
     "data": {
      "text/plain": [
       "0    1.675577\n",
       "1    5.320829\n",
       "dtype: float64"
      ]
     },
     "execution_count": 9,
     "metadata": {},
     "output_type": "execute_result"
    }
   ],
   "source": [
    "augmented_data = load_nhefs()\n",
    "X, a, y = augmented_data.X, augmented_data.a, augmented_data.y\n",
    "matcher = Matching(propensity_transform=propensity_transform)\n",
    "matcher.fit(X, a, y)\n",
    "matcher.estimate_population_outcome(X, a)"
   ]
  },
  {
   "cell_type": "code",
   "execution_count": 10,
   "id": "786277b2-6bde-42f0-8705-aa4a6cd134b8",
   "metadata": {},
   "outputs": [
    {
     "data": {
      "text/plain": [
       "0    1.675577\n",
       "1    5.320829\n",
       "dtype: float64"
      ]
     },
     "execution_count": 10,
     "metadata": {},
     "output_type": "execute_result"
    }
   ],
   "source": [
    "from causallib.estimation import PropensityMatching\n",
    "\n",
    "pm = PropensityMatching(learner=LogisticRegression(\n",
    "    solver=\"liblinear\",\n",
    "    class_weight=\"balanced\"))\n",
    "pm.fit(X, a, y)\n",
    "pm.estimate_population_outcome(X, a)"
   ]
  },
  {
   "cell_type": "code",
   "execution_count": 11,
   "id": "149cebc1-2184-4e05-9d77-7ecae8526bff",
   "metadata": {},
   "outputs": [
    {
     "name": "stdout",
     "output_type": "stream",
     "text": [
      "Using 1 neighbors, the effect is: 3.645\n",
      "Using 2 neighbors, the effect is: 3.471\n",
      "Using 3 neighbors, the effect is: 3.288\n",
      "Using 4 neighbors, the effect is: 3.254\n",
      "Using 5 neighbors, the effect is: 3.181\n",
      "Using 6 neighbors, the effect is: 3.105\n",
      "Using 7 neighbors, the effect is: 3.131\n",
      "Using 8 neighbors, the effect is: 3.172\n",
      "Using 9 neighbors, the effect is: 3.211\n"
     ]
    }
   ],
   "source": [
    "for n in range(1, 10):\n",
    "    matcher.n_neighbors = n\n",
    "    matcher.fit(X, a, y)\n",
    "    Y = matcher.estimate_population_outcome(X, a)\n",
    "    print(f\"Using {n} neighbors, the effect is: {(Y[1] - Y[0]):.3f}\")"
   ]
  },
  {
   "cell_type": "code",
   "execution_count": null,
   "id": "7dc72ab0-7312-401c-90be-3dc11c71db17",
   "metadata": {},
   "outputs": [],
   "source": []
  }
 ],
 "metadata": {
  "kernelspec": {
   "display_name": "Python 3 (ipykernel)",
   "language": "python",
   "name": "python3"
  },
  "language_info": {
   "codemirror_mode": {
    "name": "ipython",
    "version": 3
   },
   "file_extension": ".py",
   "mimetype": "text/x-python",
   "name": "python",
   "nbconvert_exporter": "python",
   "pygments_lexer": "ipython3",
   "version": "3.9.12"
  }
 },
 "nbformat": 4,
 "nbformat_minor": 5
}
