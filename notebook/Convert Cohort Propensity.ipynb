{
 "cells": [
  {
   "cell_type": "code",
   "execution_count": 5,
   "id": "2f3a899c-6468-42a1-8c15-15bdd9524e65",
   "metadata": {},
   "outputs": [],
   "source": [
    "import json\n",
    "\n",
    "with open(\"../public/cohort_propensity_matched.json\", \"r+\") as f:\n",
    "    newData = []\n",
    "    \n",
    "    data = json.load(f)\n",
    "    \n",
    "    for row in data:\n",
    "        newRow = {}\n",
    "        newRow[\"0\"] = row[\"0.0\"]\n",
    "        newRow[\"1\"] = row[\"1.0\"]\n",
    "        \n",
    "        newData.append(newRow)\n",
    "        \n",
    "    with open(\"../public/cohort_propensity_matched2.json\", \"w\") as fw:\n",
    "        \n",
    "        json.dump(newData, fw)"
   ]
  },
  {
   "cell_type": "code",
   "execution_count": null,
   "id": "786f1dea-cd4d-444c-adda-41e55671d150",
   "metadata": {},
   "outputs": [],
   "source": []
  }
 ],
 "metadata": {
  "kernelspec": {
   "display_name": "Python 3 (ipykernel)",
   "language": "python",
   "name": "python3"
  },
  "language_info": {
   "codemirror_mode": {
    "name": "ipython",
    "version": 3
   },
   "file_extension": ".py",
   "mimetype": "text/x-python",
   "name": "python",
   "nbconvert_exporter": "python",
   "pygments_lexer": "ipython3",
   "version": "3.9.12"
  }
 },
 "nbformat": 4,
 "nbformat_minor": 5
}
